{
  "cells": [
    {
      "cell_type": "code",
      "execution_count": 22,
      "metadata": {
        "id": "FgfgqEOlAsLw"
      },
      "outputs": [],
      "source": [
        "import pandas as pd\n",
        "from sklearn.linear_model import LinearRegression\n",
        "import numpy as np\n",
        "from sklearn.model_selection import train_test_split\n",
        "from sklearn.metrics import mean_squared_error, r2_score"
      ]
    },
    {
      "cell_type": "code",
      "execution_count": 23,
      "metadata": {
        "colab": {
          "base_uri": "https://localhost:8080/",
          "height": 558
        },
        "id": "zOHqjWd7C6BB",
        "outputId": "a8289c1c-4d54-4b8c-ab17-c20139f2683b"
      },
      "outputs": [
        {
          "output_type": "stream",
          "name": "stderr",
          "text": [
            "<ipython-input-23-2bb8bb84d6cf>:1: DtypeWarning: Columns (7,8) have mixed types. Specify dtype option on import or set low_memory=False.\n",
            "  df = pd.read_csv('/content/real_estate.csv')\n"
          ]
        },
        {
          "output_type": "execute_result",
          "data": {
            "text/plain": [
              "        Date Recorded  List Year        Town                    Address  \\\n",
              "0          2021-04-14       2020     Ansonia              323 BEAVER ST   \n",
              "1          2021-05-26       2020     Ansonia             152 JACKSON ST   \n",
              "2          2021-09-13       2020     Ansonia            230 WAKELEE AVE   \n",
              "3          2020-12-14       2020     Ansonia                57 PLATT ST   \n",
              "4          2021-09-07       2020        Avon               245 NEW ROAD   \n",
              "...               ...        ...         ...                        ...   \n",
              "1054154    2021-11-16       2021   Watertown            50 SUMMIT RIDGE   \n",
              "1054155    2022-09-20       2021    Woodbury  89 TAMARACK LANR UNIT 89A   \n",
              "1054156    2022-05-06       2021    Woodbury         69 BACON POND ROAD   \n",
              "1054157    2022-06-29       2021  West Haven             114 TUTHILL ST   \n",
              "1054158    2022-04-26       2021     Windsor         200 BLOOMFIELD AVE   \n",
              "\n",
              "         Assessed Value  Sale Amount  Sales Ratio Property Type  \\\n",
              "0              133000.0     248400.0       0.5354   Residential   \n",
              "1              110500.0     239900.0       0.4606   Residential   \n",
              "2              150500.0     325000.0       0.4630    Commercial   \n",
              "3              127400.0     202500.0       0.6291   Residential   \n",
              "4              217640.0     400000.0       0.5441   Residential   \n",
              "...                 ...          ...          ...           ...   \n",
              "1054154        263100.0     430000.0       0.6118   Residential   \n",
              "1054155         79810.0     200000.0       0.3990   Residential   \n",
              "1054156         79590.0     360000.0       0.2210   Vacant Land   \n",
              "1054157        117600.0     275000.0       0.4276   Residential   \n",
              "1054158        130690.0     190000.0       0.6878    Commercial   \n",
              "\n",
              "        Residential Type  Longitude   Latitude  \n",
              "0          Single Family -73.068220  41.350140  \n",
              "1           Three Family        NaN        NaN  \n",
              "2                    NaN        NaN        NaN  \n",
              "3             Two Family        NaN        NaN  \n",
              "4          Single Family        NaN        NaN  \n",
              "...                  ...        ...        ...  \n",
              "1054154    Single Family -73.114797  41.586333  \n",
              "1054155            Condo -73.232742  41.517140  \n",
              "1054156              NaN -73.191290  41.543605  \n",
              "1054157    Single Family -72.976177  41.281588  \n",
              "1054158              NaN -72.653118  41.852400  \n",
              "\n",
              "[1054159 rows x 11 columns]"
            ],
            "text/html": [
              "\n",
              "  <div id=\"df-73be29c9-fd5e-4b62-b28d-02296a53dfcb\" class=\"colab-df-container\">\n",
              "    <div>\n",
              "<style scoped>\n",
              "    .dataframe tbody tr th:only-of-type {\n",
              "        vertical-align: middle;\n",
              "    }\n",
              "\n",
              "    .dataframe tbody tr th {\n",
              "        vertical-align: top;\n",
              "    }\n",
              "\n",
              "    .dataframe thead th {\n",
              "        text-align: right;\n",
              "    }\n",
              "</style>\n",
              "<table border=\"1\" class=\"dataframe\">\n",
              "  <thead>\n",
              "    <tr style=\"text-align: right;\">\n",
              "      <th></th>\n",
              "      <th>Date Recorded</th>\n",
              "      <th>List Year</th>\n",
              "      <th>Town</th>\n",
              "      <th>Address</th>\n",
              "      <th>Assessed Value</th>\n",
              "      <th>Sale Amount</th>\n",
              "      <th>Sales Ratio</th>\n",
              "      <th>Property Type</th>\n",
              "      <th>Residential Type</th>\n",
              "      <th>Longitude</th>\n",
              "      <th>Latitude</th>\n",
              "    </tr>\n",
              "  </thead>\n",
              "  <tbody>\n",
              "    <tr>\n",
              "      <th>0</th>\n",
              "      <td>2021-04-14</td>\n",
              "      <td>2020</td>\n",
              "      <td>Ansonia</td>\n",
              "      <td>323 BEAVER ST</td>\n",
              "      <td>133000.0</td>\n",
              "      <td>248400.0</td>\n",
              "      <td>0.5354</td>\n",
              "      <td>Residential</td>\n",
              "      <td>Single Family</td>\n",
              "      <td>-73.068220</td>\n",
              "      <td>41.350140</td>\n",
              "    </tr>\n",
              "    <tr>\n",
              "      <th>1</th>\n",
              "      <td>2021-05-26</td>\n",
              "      <td>2020</td>\n",
              "      <td>Ansonia</td>\n",
              "      <td>152 JACKSON ST</td>\n",
              "      <td>110500.0</td>\n",
              "      <td>239900.0</td>\n",
              "      <td>0.4606</td>\n",
              "      <td>Residential</td>\n",
              "      <td>Three Family</td>\n",
              "      <td>NaN</td>\n",
              "      <td>NaN</td>\n",
              "    </tr>\n",
              "    <tr>\n",
              "      <th>2</th>\n",
              "      <td>2021-09-13</td>\n",
              "      <td>2020</td>\n",
              "      <td>Ansonia</td>\n",
              "      <td>230 WAKELEE AVE</td>\n",
              "      <td>150500.0</td>\n",
              "      <td>325000.0</td>\n",
              "      <td>0.4630</td>\n",
              "      <td>Commercial</td>\n",
              "      <td>NaN</td>\n",
              "      <td>NaN</td>\n",
              "      <td>NaN</td>\n",
              "    </tr>\n",
              "    <tr>\n",
              "      <th>3</th>\n",
              "      <td>2020-12-14</td>\n",
              "      <td>2020</td>\n",
              "      <td>Ansonia</td>\n",
              "      <td>57 PLATT ST</td>\n",
              "      <td>127400.0</td>\n",
              "      <td>202500.0</td>\n",
              "      <td>0.6291</td>\n",
              "      <td>Residential</td>\n",
              "      <td>Two Family</td>\n",
              "      <td>NaN</td>\n",
              "      <td>NaN</td>\n",
              "    </tr>\n",
              "    <tr>\n",
              "      <th>4</th>\n",
              "      <td>2021-09-07</td>\n",
              "      <td>2020</td>\n",
              "      <td>Avon</td>\n",
              "      <td>245 NEW ROAD</td>\n",
              "      <td>217640.0</td>\n",
              "      <td>400000.0</td>\n",
              "      <td>0.5441</td>\n",
              "      <td>Residential</td>\n",
              "      <td>Single Family</td>\n",
              "      <td>NaN</td>\n",
              "      <td>NaN</td>\n",
              "    </tr>\n",
              "    <tr>\n",
              "      <th>...</th>\n",
              "      <td>...</td>\n",
              "      <td>...</td>\n",
              "      <td>...</td>\n",
              "      <td>...</td>\n",
              "      <td>...</td>\n",
              "      <td>...</td>\n",
              "      <td>...</td>\n",
              "      <td>...</td>\n",
              "      <td>...</td>\n",
              "      <td>...</td>\n",
              "      <td>...</td>\n",
              "    </tr>\n",
              "    <tr>\n",
              "      <th>1054154</th>\n",
              "      <td>2021-11-16</td>\n",
              "      <td>2021</td>\n",
              "      <td>Watertown</td>\n",
              "      <td>50 SUMMIT RIDGE</td>\n",
              "      <td>263100.0</td>\n",
              "      <td>430000.0</td>\n",
              "      <td>0.6118</td>\n",
              "      <td>Residential</td>\n",
              "      <td>Single Family</td>\n",
              "      <td>-73.114797</td>\n",
              "      <td>41.586333</td>\n",
              "    </tr>\n",
              "    <tr>\n",
              "      <th>1054155</th>\n",
              "      <td>2022-09-20</td>\n",
              "      <td>2021</td>\n",
              "      <td>Woodbury</td>\n",
              "      <td>89 TAMARACK LANR UNIT 89A</td>\n",
              "      <td>79810.0</td>\n",
              "      <td>200000.0</td>\n",
              "      <td>0.3990</td>\n",
              "      <td>Residential</td>\n",
              "      <td>Condo</td>\n",
              "      <td>-73.232742</td>\n",
              "      <td>41.517140</td>\n",
              "    </tr>\n",
              "    <tr>\n",
              "      <th>1054156</th>\n",
              "      <td>2022-05-06</td>\n",
              "      <td>2021</td>\n",
              "      <td>Woodbury</td>\n",
              "      <td>69 BACON POND ROAD</td>\n",
              "      <td>79590.0</td>\n",
              "      <td>360000.0</td>\n",
              "      <td>0.2210</td>\n",
              "      <td>Vacant Land</td>\n",
              "      <td>NaN</td>\n",
              "      <td>-73.191290</td>\n",
              "      <td>41.543605</td>\n",
              "    </tr>\n",
              "    <tr>\n",
              "      <th>1054157</th>\n",
              "      <td>2022-06-29</td>\n",
              "      <td>2021</td>\n",
              "      <td>West Haven</td>\n",
              "      <td>114 TUTHILL ST</td>\n",
              "      <td>117600.0</td>\n",
              "      <td>275000.0</td>\n",
              "      <td>0.4276</td>\n",
              "      <td>Residential</td>\n",
              "      <td>Single Family</td>\n",
              "      <td>-72.976177</td>\n",
              "      <td>41.281588</td>\n",
              "    </tr>\n",
              "    <tr>\n",
              "      <th>1054158</th>\n",
              "      <td>2022-04-26</td>\n",
              "      <td>2021</td>\n",
              "      <td>Windsor</td>\n",
              "      <td>200 BLOOMFIELD AVE</td>\n",
              "      <td>130690.0</td>\n",
              "      <td>190000.0</td>\n",
              "      <td>0.6878</td>\n",
              "      <td>Commercial</td>\n",
              "      <td>NaN</td>\n",
              "      <td>-72.653118</td>\n",
              "      <td>41.852400</td>\n",
              "    </tr>\n",
              "  </tbody>\n",
              "</table>\n",
              "<p>1054159 rows × 11 columns</p>\n",
              "</div>\n",
              "    <div class=\"colab-df-buttons\">\n",
              "\n",
              "  <div class=\"colab-df-container\">\n",
              "    <button class=\"colab-df-convert\" onclick=\"convertToInteractive('df-73be29c9-fd5e-4b62-b28d-02296a53dfcb')\"\n",
              "            title=\"Convert this dataframe to an interactive table.\"\n",
              "            style=\"display:none;\">\n",
              "\n",
              "  <svg xmlns=\"http://www.w3.org/2000/svg\" height=\"24px\" viewBox=\"0 -960 960 960\">\n",
              "    <path d=\"M120-120v-720h720v720H120Zm60-500h600v-160H180v160Zm220 220h160v-160H400v160Zm0 220h160v-160H400v160ZM180-400h160v-160H180v160Zm440 0h160v-160H620v160ZM180-180h160v-160H180v160Zm440 0h160v-160H620v160Z\"/>\n",
              "  </svg>\n",
              "    </button>\n",
              "\n",
              "  <style>\n",
              "    .colab-df-container {\n",
              "      display:flex;\n",
              "      gap: 12px;\n",
              "    }\n",
              "\n",
              "    .colab-df-convert {\n",
              "      background-color: #E8F0FE;\n",
              "      border: none;\n",
              "      border-radius: 50%;\n",
              "      cursor: pointer;\n",
              "      display: none;\n",
              "      fill: #1967D2;\n",
              "      height: 32px;\n",
              "      padding: 0 0 0 0;\n",
              "      width: 32px;\n",
              "    }\n",
              "\n",
              "    .colab-df-convert:hover {\n",
              "      background-color: #E2EBFA;\n",
              "      box-shadow: 0px 1px 2px rgba(60, 64, 67, 0.3), 0px 1px 3px 1px rgba(60, 64, 67, 0.15);\n",
              "      fill: #174EA6;\n",
              "    }\n",
              "\n",
              "    .colab-df-buttons div {\n",
              "      margin-bottom: 4px;\n",
              "    }\n",
              "\n",
              "    [theme=dark] .colab-df-convert {\n",
              "      background-color: #3B4455;\n",
              "      fill: #D2E3FC;\n",
              "    }\n",
              "\n",
              "    [theme=dark] .colab-df-convert:hover {\n",
              "      background-color: #434B5C;\n",
              "      box-shadow: 0px 1px 3px 1px rgba(0, 0, 0, 0.15);\n",
              "      filter: drop-shadow(0px 1px 2px rgba(0, 0, 0, 0.3));\n",
              "      fill: #FFFFFF;\n",
              "    }\n",
              "  </style>\n",
              "\n",
              "    <script>\n",
              "      const buttonEl =\n",
              "        document.querySelector('#df-73be29c9-fd5e-4b62-b28d-02296a53dfcb button.colab-df-convert');\n",
              "      buttonEl.style.display =\n",
              "        google.colab.kernel.accessAllowed ? 'block' : 'none';\n",
              "\n",
              "      async function convertToInteractive(key) {\n",
              "        const element = document.querySelector('#df-73be29c9-fd5e-4b62-b28d-02296a53dfcb');\n",
              "        const dataTable =\n",
              "          await google.colab.kernel.invokeFunction('convertToInteractive',\n",
              "                                                    [key], {});\n",
              "        if (!dataTable) return;\n",
              "\n",
              "        const docLinkHtml = 'Like what you see? Visit the ' +\n",
              "          '<a target=\"_blank\" href=https://colab.research.google.com/notebooks/data_table.ipynb>data table notebook</a>'\n",
              "          + ' to learn more about interactive tables.';\n",
              "        element.innerHTML = '';\n",
              "        dataTable['output_type'] = 'display_data';\n",
              "        await google.colab.output.renderOutput(dataTable, element);\n",
              "        const docLink = document.createElement('div');\n",
              "        docLink.innerHTML = docLinkHtml;\n",
              "        element.appendChild(docLink);\n",
              "      }\n",
              "    </script>\n",
              "  </div>\n",
              "\n",
              "\n",
              "<div id=\"df-017a4b77-8fb8-4bde-92c6-9743624af366\">\n",
              "  <button class=\"colab-df-quickchart\" onclick=\"quickchart('df-017a4b77-8fb8-4bde-92c6-9743624af366')\"\n",
              "            title=\"Suggest charts\"\n",
              "            style=\"display:none;\">\n",
              "\n",
              "<svg xmlns=\"http://www.w3.org/2000/svg\" height=\"24px\"viewBox=\"0 0 24 24\"\n",
              "     width=\"24px\">\n",
              "    <g>\n",
              "        <path d=\"M19 3H5c-1.1 0-2 .9-2 2v14c0 1.1.9 2 2 2h14c1.1 0 2-.9 2-2V5c0-1.1-.9-2-2-2zM9 17H7v-7h2v7zm4 0h-2V7h2v10zm4 0h-2v-4h2v4z\"/>\n",
              "    </g>\n",
              "</svg>\n",
              "  </button>\n",
              "\n",
              "<style>\n",
              "  .colab-df-quickchart {\n",
              "      --bg-color: #E8F0FE;\n",
              "      --fill-color: #1967D2;\n",
              "      --hover-bg-color: #E2EBFA;\n",
              "      --hover-fill-color: #174EA6;\n",
              "      --disabled-fill-color: #AAA;\n",
              "      --disabled-bg-color: #DDD;\n",
              "  }\n",
              "\n",
              "  [theme=dark] .colab-df-quickchart {\n",
              "      --bg-color: #3B4455;\n",
              "      --fill-color: #D2E3FC;\n",
              "      --hover-bg-color: #434B5C;\n",
              "      --hover-fill-color: #FFFFFF;\n",
              "      --disabled-bg-color: #3B4455;\n",
              "      --disabled-fill-color: #666;\n",
              "  }\n",
              "\n",
              "  .colab-df-quickchart {\n",
              "    background-color: var(--bg-color);\n",
              "    border: none;\n",
              "    border-radius: 50%;\n",
              "    cursor: pointer;\n",
              "    display: none;\n",
              "    fill: var(--fill-color);\n",
              "    height: 32px;\n",
              "    padding: 0;\n",
              "    width: 32px;\n",
              "  }\n",
              "\n",
              "  .colab-df-quickchart:hover {\n",
              "    background-color: var(--hover-bg-color);\n",
              "    box-shadow: 0 1px 2px rgba(60, 64, 67, 0.3), 0 1px 3px 1px rgba(60, 64, 67, 0.15);\n",
              "    fill: var(--button-hover-fill-color);\n",
              "  }\n",
              "\n",
              "  .colab-df-quickchart-complete:disabled,\n",
              "  .colab-df-quickchart-complete:disabled:hover {\n",
              "    background-color: var(--disabled-bg-color);\n",
              "    fill: var(--disabled-fill-color);\n",
              "    box-shadow: none;\n",
              "  }\n",
              "\n",
              "  .colab-df-spinner {\n",
              "    border: 2px solid var(--fill-color);\n",
              "    border-color: transparent;\n",
              "    border-bottom-color: var(--fill-color);\n",
              "    animation:\n",
              "      spin 1s steps(1) infinite;\n",
              "  }\n",
              "\n",
              "  @keyframes spin {\n",
              "    0% {\n",
              "      border-color: transparent;\n",
              "      border-bottom-color: var(--fill-color);\n",
              "      border-left-color: var(--fill-color);\n",
              "    }\n",
              "    20% {\n",
              "      border-color: transparent;\n",
              "      border-left-color: var(--fill-color);\n",
              "      border-top-color: var(--fill-color);\n",
              "    }\n",
              "    30% {\n",
              "      border-color: transparent;\n",
              "      border-left-color: var(--fill-color);\n",
              "      border-top-color: var(--fill-color);\n",
              "      border-right-color: var(--fill-color);\n",
              "    }\n",
              "    40% {\n",
              "      border-color: transparent;\n",
              "      border-right-color: var(--fill-color);\n",
              "      border-top-color: var(--fill-color);\n",
              "    }\n",
              "    60% {\n",
              "      border-color: transparent;\n",
              "      border-right-color: var(--fill-color);\n",
              "    }\n",
              "    80% {\n",
              "      border-color: transparent;\n",
              "      border-right-color: var(--fill-color);\n",
              "      border-bottom-color: var(--fill-color);\n",
              "    }\n",
              "    90% {\n",
              "      border-color: transparent;\n",
              "      border-bottom-color: var(--fill-color);\n",
              "    }\n",
              "  }\n",
              "</style>\n",
              "\n",
              "  <script>\n",
              "    async function quickchart(key) {\n",
              "      const quickchartButtonEl =\n",
              "        document.querySelector('#' + key + ' button');\n",
              "      quickchartButtonEl.disabled = true;  // To prevent multiple clicks.\n",
              "      quickchartButtonEl.classList.add('colab-df-spinner');\n",
              "      try {\n",
              "        const charts = await google.colab.kernel.invokeFunction(\n",
              "            'suggestCharts', [key], {});\n",
              "      } catch (error) {\n",
              "        console.error('Error during call to suggestCharts:', error);\n",
              "      }\n",
              "      quickchartButtonEl.classList.remove('colab-df-spinner');\n",
              "      quickchartButtonEl.classList.add('colab-df-quickchart-complete');\n",
              "    }\n",
              "    (() => {\n",
              "      let quickchartButtonEl =\n",
              "        document.querySelector('#df-017a4b77-8fb8-4bde-92c6-9743624af366 button');\n",
              "      quickchartButtonEl.style.display =\n",
              "        google.colab.kernel.accessAllowed ? 'block' : 'none';\n",
              "    })();\n",
              "  </script>\n",
              "</div>\n",
              "\n",
              "  <div id=\"id_7eb8424c-de6b-48bb-a856-0eb4b0b1fdb5\">\n",
              "    <style>\n",
              "      .colab-df-generate {\n",
              "        background-color: #E8F0FE;\n",
              "        border: none;\n",
              "        border-radius: 50%;\n",
              "        cursor: pointer;\n",
              "        display: none;\n",
              "        fill: #1967D2;\n",
              "        height: 32px;\n",
              "        padding: 0 0 0 0;\n",
              "        width: 32px;\n",
              "      }\n",
              "\n",
              "      .colab-df-generate:hover {\n",
              "        background-color: #E2EBFA;\n",
              "        box-shadow: 0px 1px 2px rgba(60, 64, 67, 0.3), 0px 1px 3px 1px rgba(60, 64, 67, 0.15);\n",
              "        fill: #174EA6;\n",
              "      }\n",
              "\n",
              "      [theme=dark] .colab-df-generate {\n",
              "        background-color: #3B4455;\n",
              "        fill: #D2E3FC;\n",
              "      }\n",
              "\n",
              "      [theme=dark] .colab-df-generate:hover {\n",
              "        background-color: #434B5C;\n",
              "        box-shadow: 0px 1px 3px 1px rgba(0, 0, 0, 0.15);\n",
              "        filter: drop-shadow(0px 1px 2px rgba(0, 0, 0, 0.3));\n",
              "        fill: #FFFFFF;\n",
              "      }\n",
              "    </style>\n",
              "    <button class=\"colab-df-generate\" onclick=\"generateWithVariable('df')\"\n",
              "            title=\"Generate code using this dataframe.\"\n",
              "            style=\"display:none;\">\n",
              "\n",
              "  <svg xmlns=\"http://www.w3.org/2000/svg\" height=\"24px\"viewBox=\"0 0 24 24\"\n",
              "       width=\"24px\">\n",
              "    <path d=\"M7,19H8.4L18.45,9,17,7.55,7,17.6ZM5,21V16.75L18.45,3.32a2,2,0,0,1,2.83,0l1.4,1.43a1.91,1.91,0,0,1,.58,1.4,1.91,1.91,0,0,1-.58,1.4L9.25,21ZM18.45,9,17,7.55Zm-12,3A5.31,5.31,0,0,0,4.9,8.1,5.31,5.31,0,0,0,1,6.5,5.31,5.31,0,0,0,4.9,4.9,5.31,5.31,0,0,0,6.5,1,5.31,5.31,0,0,0,8.1,4.9,5.31,5.31,0,0,0,12,6.5,5.46,5.46,0,0,0,6.5,12Z\"/>\n",
              "  </svg>\n",
              "    </button>\n",
              "    <script>\n",
              "      (() => {\n",
              "      const buttonEl =\n",
              "        document.querySelector('#id_7eb8424c-de6b-48bb-a856-0eb4b0b1fdb5 button.colab-df-generate');\n",
              "      buttonEl.style.display =\n",
              "        google.colab.kernel.accessAllowed ? 'block' : 'none';\n",
              "\n",
              "      buttonEl.onclick = () => {\n",
              "        google.colab.notebook.generateWithVariable('df');\n",
              "      }\n",
              "      })();\n",
              "    </script>\n",
              "  </div>\n",
              "\n",
              "    </div>\n",
              "  </div>\n"
            ],
            "application/vnd.google.colaboratory.intrinsic+json": {
              "type": "dataframe",
              "variable_name": "df"
            }
          },
          "metadata": {},
          "execution_count": 23
        }
      ],
      "source": [
        "df = pd.read_csv('/content/real_estate.csv')\n",
        "df"
      ]
    },
    {
      "cell_type": "code",
      "execution_count": 24,
      "metadata": {
        "colab": {
          "base_uri": "https://localhost:8080/",
          "height": 504
        },
        "id": "WKEglvTdPEYK",
        "outputId": "f9f8d698-f74f-4870-8c01-02661e4451b9"
      },
      "outputs": [
        {
          "output_type": "execute_result",
          "data": {
            "text/plain": [
              "        Date Recorded  List Year        Town                    Address  \\\n",
              "0          2021-04-14       2020     Ansonia              323 BEAVER ST   \n",
              "1          2021-05-26       2020     Ansonia             152 JACKSON ST   \n",
              "2          2021-09-13       2020     Ansonia            230 WAKELEE AVE   \n",
              "3          2020-12-14       2020     Ansonia                57 PLATT ST   \n",
              "4          2021-09-07       2020        Avon               245 NEW ROAD   \n",
              "...               ...        ...         ...                        ...   \n",
              "1054154    2021-11-16       2021   Watertown            50 SUMMIT RIDGE   \n",
              "1054155    2022-09-20       2021    Woodbury  89 TAMARACK LANR UNIT 89A   \n",
              "1054156    2022-05-06       2021    Woodbury         69 BACON POND ROAD   \n",
              "1054157    2022-06-29       2021  West Haven             114 TUTHILL ST   \n",
              "1054158    2022-04-26       2021     Windsor         200 BLOOMFIELD AVE   \n",
              "\n",
              "         Assessed Value  Sale Amount  Sales Ratio Property Type  \\\n",
              "0              133000.0     248400.0       0.5354   Residential   \n",
              "1              110500.0     239900.0       0.4606   Residential   \n",
              "2              150500.0     325000.0       0.4630    Commercial   \n",
              "3              127400.0     202500.0       0.6291   Residential   \n",
              "4              217640.0     400000.0       0.5441   Residential   \n",
              "...                 ...          ...          ...           ...   \n",
              "1054154        263100.0     430000.0       0.6118   Residential   \n",
              "1054155         79810.0     200000.0       0.3990   Residential   \n",
              "1054156         79590.0     360000.0       0.2210   Vacant Land   \n",
              "1054157        117600.0     275000.0       0.4276   Residential   \n",
              "1054158        130690.0     190000.0       0.6878    Commercial   \n",
              "\n",
              "        Residential Type  Longitude   Latitude  \n",
              "0          Single Family -73.068220  41.350140  \n",
              "1           Three Family        NaN        NaN  \n",
              "2                    NaN        NaN        NaN  \n",
              "3             Two Family        NaN        NaN  \n",
              "4          Single Family        NaN        NaN  \n",
              "...                  ...        ...        ...  \n",
              "1054154    Single Family -73.114797  41.586333  \n",
              "1054155            Condo -73.232742  41.517140  \n",
              "1054156              NaN -73.191290  41.543605  \n",
              "1054157    Single Family -72.976177  41.281588  \n",
              "1054158              NaN -72.653118  41.852400  \n",
              "\n",
              "[1045454 rows x 11 columns]"
            ],
            "text/html": [
              "\n",
              "  <div id=\"df-bd3b5ed2-06aa-4ea1-bd9f-40e926bec139\" class=\"colab-df-container\">\n",
              "    <div>\n",
              "<style scoped>\n",
              "    .dataframe tbody tr th:only-of-type {\n",
              "        vertical-align: middle;\n",
              "    }\n",
              "\n",
              "    .dataframe tbody tr th {\n",
              "        vertical-align: top;\n",
              "    }\n",
              "\n",
              "    .dataframe thead th {\n",
              "        text-align: right;\n",
              "    }\n",
              "</style>\n",
              "<table border=\"1\" class=\"dataframe\">\n",
              "  <thead>\n",
              "    <tr style=\"text-align: right;\">\n",
              "      <th></th>\n",
              "      <th>Date Recorded</th>\n",
              "      <th>List Year</th>\n",
              "      <th>Town</th>\n",
              "      <th>Address</th>\n",
              "      <th>Assessed Value</th>\n",
              "      <th>Sale Amount</th>\n",
              "      <th>Sales Ratio</th>\n",
              "      <th>Property Type</th>\n",
              "      <th>Residential Type</th>\n",
              "      <th>Longitude</th>\n",
              "      <th>Latitude</th>\n",
              "    </tr>\n",
              "  </thead>\n",
              "  <tbody>\n",
              "    <tr>\n",
              "      <th>0</th>\n",
              "      <td>2021-04-14</td>\n",
              "      <td>2020</td>\n",
              "      <td>Ansonia</td>\n",
              "      <td>323 BEAVER ST</td>\n",
              "      <td>133000.0</td>\n",
              "      <td>248400.0</td>\n",
              "      <td>0.5354</td>\n",
              "      <td>Residential</td>\n",
              "      <td>Single Family</td>\n",
              "      <td>-73.068220</td>\n",
              "      <td>41.350140</td>\n",
              "    </tr>\n",
              "    <tr>\n",
              "      <th>1</th>\n",
              "      <td>2021-05-26</td>\n",
              "      <td>2020</td>\n",
              "      <td>Ansonia</td>\n",
              "      <td>152 JACKSON ST</td>\n",
              "      <td>110500.0</td>\n",
              "      <td>239900.0</td>\n",
              "      <td>0.4606</td>\n",
              "      <td>Residential</td>\n",
              "      <td>Three Family</td>\n",
              "      <td>NaN</td>\n",
              "      <td>NaN</td>\n",
              "    </tr>\n",
              "    <tr>\n",
              "      <th>2</th>\n",
              "      <td>2021-09-13</td>\n",
              "      <td>2020</td>\n",
              "      <td>Ansonia</td>\n",
              "      <td>230 WAKELEE AVE</td>\n",
              "      <td>150500.0</td>\n",
              "      <td>325000.0</td>\n",
              "      <td>0.4630</td>\n",
              "      <td>Commercial</td>\n",
              "      <td>NaN</td>\n",
              "      <td>NaN</td>\n",
              "      <td>NaN</td>\n",
              "    </tr>\n",
              "    <tr>\n",
              "      <th>3</th>\n",
              "      <td>2020-12-14</td>\n",
              "      <td>2020</td>\n",
              "      <td>Ansonia</td>\n",
              "      <td>57 PLATT ST</td>\n",
              "      <td>127400.0</td>\n",
              "      <td>202500.0</td>\n",
              "      <td>0.6291</td>\n",
              "      <td>Residential</td>\n",
              "      <td>Two Family</td>\n",
              "      <td>NaN</td>\n",
              "      <td>NaN</td>\n",
              "    </tr>\n",
              "    <tr>\n",
              "      <th>4</th>\n",
              "      <td>2021-09-07</td>\n",
              "      <td>2020</td>\n",
              "      <td>Avon</td>\n",
              "      <td>245 NEW ROAD</td>\n",
              "      <td>217640.0</td>\n",
              "      <td>400000.0</td>\n",
              "      <td>0.5441</td>\n",
              "      <td>Residential</td>\n",
              "      <td>Single Family</td>\n",
              "      <td>NaN</td>\n",
              "      <td>NaN</td>\n",
              "    </tr>\n",
              "    <tr>\n",
              "      <th>...</th>\n",
              "      <td>...</td>\n",
              "      <td>...</td>\n",
              "      <td>...</td>\n",
              "      <td>...</td>\n",
              "      <td>...</td>\n",
              "      <td>...</td>\n",
              "      <td>...</td>\n",
              "      <td>...</td>\n",
              "      <td>...</td>\n",
              "      <td>...</td>\n",
              "      <td>...</td>\n",
              "    </tr>\n",
              "    <tr>\n",
              "      <th>1054154</th>\n",
              "      <td>2021-11-16</td>\n",
              "      <td>2021</td>\n",
              "      <td>Watertown</td>\n",
              "      <td>50 SUMMIT RIDGE</td>\n",
              "      <td>263100.0</td>\n",
              "      <td>430000.0</td>\n",
              "      <td>0.6118</td>\n",
              "      <td>Residential</td>\n",
              "      <td>Single Family</td>\n",
              "      <td>-73.114797</td>\n",
              "      <td>41.586333</td>\n",
              "    </tr>\n",
              "    <tr>\n",
              "      <th>1054155</th>\n",
              "      <td>2022-09-20</td>\n",
              "      <td>2021</td>\n",
              "      <td>Woodbury</td>\n",
              "      <td>89 TAMARACK LANR UNIT 89A</td>\n",
              "      <td>79810.0</td>\n",
              "      <td>200000.0</td>\n",
              "      <td>0.3990</td>\n",
              "      <td>Residential</td>\n",
              "      <td>Condo</td>\n",
              "      <td>-73.232742</td>\n",
              "      <td>41.517140</td>\n",
              "    </tr>\n",
              "    <tr>\n",
              "      <th>1054156</th>\n",
              "      <td>2022-05-06</td>\n",
              "      <td>2021</td>\n",
              "      <td>Woodbury</td>\n",
              "      <td>69 BACON POND ROAD</td>\n",
              "      <td>79590.0</td>\n",
              "      <td>360000.0</td>\n",
              "      <td>0.2210</td>\n",
              "      <td>Vacant Land</td>\n",
              "      <td>NaN</td>\n",
              "      <td>-73.191290</td>\n",
              "      <td>41.543605</td>\n",
              "    </tr>\n",
              "    <tr>\n",
              "      <th>1054157</th>\n",
              "      <td>2022-06-29</td>\n",
              "      <td>2021</td>\n",
              "      <td>West Haven</td>\n",
              "      <td>114 TUTHILL ST</td>\n",
              "      <td>117600.0</td>\n",
              "      <td>275000.0</td>\n",
              "      <td>0.4276</td>\n",
              "      <td>Residential</td>\n",
              "      <td>Single Family</td>\n",
              "      <td>-72.976177</td>\n",
              "      <td>41.281588</td>\n",
              "    </tr>\n",
              "    <tr>\n",
              "      <th>1054158</th>\n",
              "      <td>2022-04-26</td>\n",
              "      <td>2021</td>\n",
              "      <td>Windsor</td>\n",
              "      <td>200 BLOOMFIELD AVE</td>\n",
              "      <td>130690.0</td>\n",
              "      <td>190000.0</td>\n",
              "      <td>0.6878</td>\n",
              "      <td>Commercial</td>\n",
              "      <td>NaN</td>\n",
              "      <td>-72.653118</td>\n",
              "      <td>41.852400</td>\n",
              "    </tr>\n",
              "  </tbody>\n",
              "</table>\n",
              "<p>1045454 rows × 11 columns</p>\n",
              "</div>\n",
              "    <div class=\"colab-df-buttons\">\n",
              "\n",
              "  <div class=\"colab-df-container\">\n",
              "    <button class=\"colab-df-convert\" onclick=\"convertToInteractive('df-bd3b5ed2-06aa-4ea1-bd9f-40e926bec139')\"\n",
              "            title=\"Convert this dataframe to an interactive table.\"\n",
              "            style=\"display:none;\">\n",
              "\n",
              "  <svg xmlns=\"http://www.w3.org/2000/svg\" height=\"24px\" viewBox=\"0 -960 960 960\">\n",
              "    <path d=\"M120-120v-720h720v720H120Zm60-500h600v-160H180v160Zm220 220h160v-160H400v160Zm0 220h160v-160H400v160ZM180-400h160v-160H180v160Zm440 0h160v-160H620v160ZM180-180h160v-160H180v160Zm440 0h160v-160H620v160Z\"/>\n",
              "  </svg>\n",
              "    </button>\n",
              "\n",
              "  <style>\n",
              "    .colab-df-container {\n",
              "      display:flex;\n",
              "      gap: 12px;\n",
              "    }\n",
              "\n",
              "    .colab-df-convert {\n",
              "      background-color: #E8F0FE;\n",
              "      border: none;\n",
              "      border-radius: 50%;\n",
              "      cursor: pointer;\n",
              "      display: none;\n",
              "      fill: #1967D2;\n",
              "      height: 32px;\n",
              "      padding: 0 0 0 0;\n",
              "      width: 32px;\n",
              "    }\n",
              "\n",
              "    .colab-df-convert:hover {\n",
              "      background-color: #E2EBFA;\n",
              "      box-shadow: 0px 1px 2px rgba(60, 64, 67, 0.3), 0px 1px 3px 1px rgba(60, 64, 67, 0.15);\n",
              "      fill: #174EA6;\n",
              "    }\n",
              "\n",
              "    .colab-df-buttons div {\n",
              "      margin-bottom: 4px;\n",
              "    }\n",
              "\n",
              "    [theme=dark] .colab-df-convert {\n",
              "      background-color: #3B4455;\n",
              "      fill: #D2E3FC;\n",
              "    }\n",
              "\n",
              "    [theme=dark] .colab-df-convert:hover {\n",
              "      background-color: #434B5C;\n",
              "      box-shadow: 0px 1px 3px 1px rgba(0, 0, 0, 0.15);\n",
              "      filter: drop-shadow(0px 1px 2px rgba(0, 0, 0, 0.3));\n",
              "      fill: #FFFFFF;\n",
              "    }\n",
              "  </style>\n",
              "\n",
              "    <script>\n",
              "      const buttonEl =\n",
              "        document.querySelector('#df-bd3b5ed2-06aa-4ea1-bd9f-40e926bec139 button.colab-df-convert');\n",
              "      buttonEl.style.display =\n",
              "        google.colab.kernel.accessAllowed ? 'block' : 'none';\n",
              "\n",
              "      async function convertToInteractive(key) {\n",
              "        const element = document.querySelector('#df-bd3b5ed2-06aa-4ea1-bd9f-40e926bec139');\n",
              "        const dataTable =\n",
              "          await google.colab.kernel.invokeFunction('convertToInteractive',\n",
              "                                                    [key], {});\n",
              "        if (!dataTable) return;\n",
              "\n",
              "        const docLinkHtml = 'Like what you see? Visit the ' +\n",
              "          '<a target=\"_blank\" href=https://colab.research.google.com/notebooks/data_table.ipynb>data table notebook</a>'\n",
              "          + ' to learn more about interactive tables.';\n",
              "        element.innerHTML = '';\n",
              "        dataTable['output_type'] = 'display_data';\n",
              "        await google.colab.output.renderOutput(dataTable, element);\n",
              "        const docLink = document.createElement('div');\n",
              "        docLink.innerHTML = docLinkHtml;\n",
              "        element.appendChild(docLink);\n",
              "      }\n",
              "    </script>\n",
              "  </div>\n",
              "\n",
              "\n",
              "<div id=\"df-505b7558-9971-4e5a-bc9a-6e7619572ba6\">\n",
              "  <button class=\"colab-df-quickchart\" onclick=\"quickchart('df-505b7558-9971-4e5a-bc9a-6e7619572ba6')\"\n",
              "            title=\"Suggest charts\"\n",
              "            style=\"display:none;\">\n",
              "\n",
              "<svg xmlns=\"http://www.w3.org/2000/svg\" height=\"24px\"viewBox=\"0 0 24 24\"\n",
              "     width=\"24px\">\n",
              "    <g>\n",
              "        <path d=\"M19 3H5c-1.1 0-2 .9-2 2v14c0 1.1.9 2 2 2h14c1.1 0 2-.9 2-2V5c0-1.1-.9-2-2-2zM9 17H7v-7h2v7zm4 0h-2V7h2v10zm4 0h-2v-4h2v4z\"/>\n",
              "    </g>\n",
              "</svg>\n",
              "  </button>\n",
              "\n",
              "<style>\n",
              "  .colab-df-quickchart {\n",
              "      --bg-color: #E8F0FE;\n",
              "      --fill-color: #1967D2;\n",
              "      --hover-bg-color: #E2EBFA;\n",
              "      --hover-fill-color: #174EA6;\n",
              "      --disabled-fill-color: #AAA;\n",
              "      --disabled-bg-color: #DDD;\n",
              "  }\n",
              "\n",
              "  [theme=dark] .colab-df-quickchart {\n",
              "      --bg-color: #3B4455;\n",
              "      --fill-color: #D2E3FC;\n",
              "      --hover-bg-color: #434B5C;\n",
              "      --hover-fill-color: #FFFFFF;\n",
              "      --disabled-bg-color: #3B4455;\n",
              "      --disabled-fill-color: #666;\n",
              "  }\n",
              "\n",
              "  .colab-df-quickchart {\n",
              "    background-color: var(--bg-color);\n",
              "    border: none;\n",
              "    border-radius: 50%;\n",
              "    cursor: pointer;\n",
              "    display: none;\n",
              "    fill: var(--fill-color);\n",
              "    height: 32px;\n",
              "    padding: 0;\n",
              "    width: 32px;\n",
              "  }\n",
              "\n",
              "  .colab-df-quickchart:hover {\n",
              "    background-color: var(--hover-bg-color);\n",
              "    box-shadow: 0 1px 2px rgba(60, 64, 67, 0.3), 0 1px 3px 1px rgba(60, 64, 67, 0.15);\n",
              "    fill: var(--button-hover-fill-color);\n",
              "  }\n",
              "\n",
              "  .colab-df-quickchart-complete:disabled,\n",
              "  .colab-df-quickchart-complete:disabled:hover {\n",
              "    background-color: var(--disabled-bg-color);\n",
              "    fill: var(--disabled-fill-color);\n",
              "    box-shadow: none;\n",
              "  }\n",
              "\n",
              "  .colab-df-spinner {\n",
              "    border: 2px solid var(--fill-color);\n",
              "    border-color: transparent;\n",
              "    border-bottom-color: var(--fill-color);\n",
              "    animation:\n",
              "      spin 1s steps(1) infinite;\n",
              "  }\n",
              "\n",
              "  @keyframes spin {\n",
              "    0% {\n",
              "      border-color: transparent;\n",
              "      border-bottom-color: var(--fill-color);\n",
              "      border-left-color: var(--fill-color);\n",
              "    }\n",
              "    20% {\n",
              "      border-color: transparent;\n",
              "      border-left-color: var(--fill-color);\n",
              "      border-top-color: var(--fill-color);\n",
              "    }\n",
              "    30% {\n",
              "      border-color: transparent;\n",
              "      border-left-color: var(--fill-color);\n",
              "      border-top-color: var(--fill-color);\n",
              "      border-right-color: var(--fill-color);\n",
              "    }\n",
              "    40% {\n",
              "      border-color: transparent;\n",
              "      border-right-color: var(--fill-color);\n",
              "      border-top-color: var(--fill-color);\n",
              "    }\n",
              "    60% {\n",
              "      border-color: transparent;\n",
              "      border-right-color: var(--fill-color);\n",
              "    }\n",
              "    80% {\n",
              "      border-color: transparent;\n",
              "      border-right-color: var(--fill-color);\n",
              "      border-bottom-color: var(--fill-color);\n",
              "    }\n",
              "    90% {\n",
              "      border-color: transparent;\n",
              "      border-bottom-color: var(--fill-color);\n",
              "    }\n",
              "  }\n",
              "</style>\n",
              "\n",
              "  <script>\n",
              "    async function quickchart(key) {\n",
              "      const quickchartButtonEl =\n",
              "        document.querySelector('#' + key + ' button');\n",
              "      quickchartButtonEl.disabled = true;  // To prevent multiple clicks.\n",
              "      quickchartButtonEl.classList.add('colab-df-spinner');\n",
              "      try {\n",
              "        const charts = await google.colab.kernel.invokeFunction(\n",
              "            'suggestCharts', [key], {});\n",
              "      } catch (error) {\n",
              "        console.error('Error during call to suggestCharts:', error);\n",
              "      }\n",
              "      quickchartButtonEl.classList.remove('colab-df-spinner');\n",
              "      quickchartButtonEl.classList.add('colab-df-quickchart-complete');\n",
              "    }\n",
              "    (() => {\n",
              "      let quickchartButtonEl =\n",
              "        document.querySelector('#df-505b7558-9971-4e5a-bc9a-6e7619572ba6 button');\n",
              "      quickchartButtonEl.style.display =\n",
              "        google.colab.kernel.accessAllowed ? 'block' : 'none';\n",
              "    })();\n",
              "  </script>\n",
              "</div>\n",
              "\n",
              "  <div id=\"id_df457f66-849e-4931-8b66-5018ca1a69d3\">\n",
              "    <style>\n",
              "      .colab-df-generate {\n",
              "        background-color: #E8F0FE;\n",
              "        border: none;\n",
              "        border-radius: 50%;\n",
              "        cursor: pointer;\n",
              "        display: none;\n",
              "        fill: #1967D2;\n",
              "        height: 32px;\n",
              "        padding: 0 0 0 0;\n",
              "        width: 32px;\n",
              "      }\n",
              "\n",
              "      .colab-df-generate:hover {\n",
              "        background-color: #E2EBFA;\n",
              "        box-shadow: 0px 1px 2px rgba(60, 64, 67, 0.3), 0px 1px 3px 1px rgba(60, 64, 67, 0.15);\n",
              "        fill: #174EA6;\n",
              "      }\n",
              "\n",
              "      [theme=dark] .colab-df-generate {\n",
              "        background-color: #3B4455;\n",
              "        fill: #D2E3FC;\n",
              "      }\n",
              "\n",
              "      [theme=dark] .colab-df-generate:hover {\n",
              "        background-color: #434B5C;\n",
              "        box-shadow: 0px 1px 3px 1px rgba(0, 0, 0, 0.15);\n",
              "        filter: drop-shadow(0px 1px 2px rgba(0, 0, 0, 0.3));\n",
              "        fill: #FFFFFF;\n",
              "      }\n",
              "    </style>\n",
              "    <button class=\"colab-df-generate\" onclick=\"generateWithVariable('df')\"\n",
              "            title=\"Generate code using this dataframe.\"\n",
              "            style=\"display:none;\">\n",
              "\n",
              "  <svg xmlns=\"http://www.w3.org/2000/svg\" height=\"24px\"viewBox=\"0 0 24 24\"\n",
              "       width=\"24px\">\n",
              "    <path d=\"M7,19H8.4L18.45,9,17,7.55,7,17.6ZM5,21V16.75L18.45,3.32a2,2,0,0,1,2.83,0l1.4,1.43a1.91,1.91,0,0,1,.58,1.4,1.91,1.91,0,0,1-.58,1.4L9.25,21ZM18.45,9,17,7.55Zm-12,3A5.31,5.31,0,0,0,4.9,8.1,5.31,5.31,0,0,0,1,6.5,5.31,5.31,0,0,0,4.9,4.9,5.31,5.31,0,0,0,6.5,1,5.31,5.31,0,0,0,8.1,4.9,5.31,5.31,0,0,0,12,6.5,5.46,5.46,0,0,0,6.5,12Z\"/>\n",
              "  </svg>\n",
              "    </button>\n",
              "    <script>\n",
              "      (() => {\n",
              "      const buttonEl =\n",
              "        document.querySelector('#id_df457f66-849e-4931-8b66-5018ca1a69d3 button.colab-df-generate');\n",
              "      buttonEl.style.display =\n",
              "        google.colab.kernel.accessAllowed ? 'block' : 'none';\n",
              "\n",
              "      buttonEl.onclick = () => {\n",
              "        google.colab.notebook.generateWithVariable('df');\n",
              "      }\n",
              "      })();\n",
              "    </script>\n",
              "  </div>\n",
              "\n",
              "    </div>\n",
              "  </div>\n"
            ],
            "application/vnd.google.colaboratory.intrinsic+json": {
              "type": "dataframe",
              "variable_name": "df"
            }
          },
          "metadata": {},
          "execution_count": 24
        }
      ],
      "source": [
        "# this deleted exactly 8,705 duplicate entries!!!!! ;) <3 xoxoxoxoxxo\n",
        "df = df.drop_duplicates()\n",
        "df"
      ]
    },
    {
      "cell_type": "code",
      "execution_count": 25,
      "metadata": {
        "id": "9-dK0BqlD6V5"
      },
      "outputs": [],
      "source": [
        "from sklearn.preprocessing import LabelEncoder\n",
        "le_date = LabelEncoder()\n",
        "le_town = LabelEncoder()\n",
        "le_address = LabelEncoder()\n",
        "le_property = LabelEncoder()\n",
        "le_residential = LabelEncoder()"
      ]
    },
    {
      "cell_type": "code",
      "execution_count": 26,
      "metadata": {
        "colab": {
          "base_uri": "https://localhost:8080/",
          "height": 1000
        },
        "id": "T4ERdY0bELJV",
        "outputId": "bad648b4-8516-4a49-bf27-fa2756ac8732"
      },
      "outputs": [
        {
          "output_type": "stream",
          "name": "stderr",
          "text": [
            "<ipython-input-26-43cf40c1c988>:2: SettingWithCopyWarning: \n",
            "A value is trying to be set on a copy of a slice from a DataFrame.\n",
            "Try using .loc[row_indexer,col_indexer] = value instead\n",
            "\n",
            "See the caveats in the documentation: https://pandas.pydata.org/pandas-docs/stable/user_guide/indexing.html#returning-a-view-versus-a-copy\n",
            "  df['date_n'] = le_date.fit_transform(df['Date Recorded'])\n",
            "<ipython-input-26-43cf40c1c988>:3: SettingWithCopyWarning: \n",
            "A value is trying to be set on a copy of a slice from a DataFrame.\n",
            "Try using .loc[row_indexer,col_indexer] = value instead\n",
            "\n",
            "See the caveats in the documentation: https://pandas.pydata.org/pandas-docs/stable/user_guide/indexing.html#returning-a-view-versus-a-copy\n",
            "  df['town_n'] = le_town.fit_transform(df['Town'])\n",
            "<ipython-input-26-43cf40c1c988>:4: SettingWithCopyWarning: \n",
            "A value is trying to be set on a copy of a slice from a DataFrame.\n",
            "Try using .loc[row_indexer,col_indexer] = value instead\n",
            "\n",
            "See the caveats in the documentation: https://pandas.pydata.org/pandas-docs/stable/user_guide/indexing.html#returning-a-view-versus-a-copy\n",
            "  df['address_n'] = le_address.fit_transform(df['Address'])\n",
            "<ipython-input-26-43cf40c1c988>:5: SettingWithCopyWarning: \n",
            "A value is trying to be set on a copy of a slice from a DataFrame.\n",
            "Try using .loc[row_indexer,col_indexer] = value instead\n",
            "\n",
            "See the caveats in the documentation: https://pandas.pydata.org/pandas-docs/stable/user_guide/indexing.html#returning-a-view-versus-a-copy\n",
            "  df['property_n'] = le_property.fit_transform(df['Property Type'])\n",
            "<ipython-input-26-43cf40c1c988>:6: SettingWithCopyWarning: \n",
            "A value is trying to be set on a copy of a slice from a DataFrame.\n",
            "Try using .loc[row_indexer,col_indexer] = value instead\n",
            "\n",
            "See the caveats in the documentation: https://pandas.pydata.org/pandas-docs/stable/user_guide/indexing.html#returning-a-view-versus-a-copy\n",
            "  df['residential_n'] = le_residential.fit_transform(df['Residential Type'])\n"
          ]
        },
        {
          "output_type": "execute_result",
          "data": {
            "text/plain": [
              "        Date Recorded  List Year           Town                    Address  \\\n",
              "1053959    2022-09-28       2021       Woodbury          305 MAIN ST SOUTH   \n",
              "1053960    2022-04-27       2021      Waterford            19 BRILL AVENUE   \n",
              "1053961    2022-09-23       2021  West Hartford      26 ARNOLD WAY GAR 11A   \n",
              "1053962    2022-08-01       2021   Wethersfield               65 LINDEN ST   \n",
              "1053963    2022-04-27       2021  West Hartford          25 STONEHAM DRIVE   \n",
              "...               ...        ...            ...                        ...   \n",
              "1054154    2021-11-16       2021      Watertown            50 SUMMIT RIDGE   \n",
              "1054155    2022-09-20       2021       Woodbury  89 TAMARACK LANR UNIT 89A   \n",
              "1054156    2022-05-06       2021       Woodbury         69 BACON POND ROAD   \n",
              "1054157    2022-06-29       2021     West Haven             114 TUTHILL ST   \n",
              "1054158    2022-04-26       2021        Windsor         200 BLOOMFIELD AVE   \n",
              "\n",
              "         Assessed Value  Sale Amount  Sales Ratio Property Type  \\\n",
              "1053959        110020.0     595000.0     0.184908   Residential   \n",
              "1053960        125400.0     310000.0     0.404500   Residential   \n",
              "1053961          4340.0      45000.0     0.096400   Residential   \n",
              "1053962        135190.0      50000.0     2.703800   Residential   \n",
              "1053963        248168.0     435000.0     0.570500   Residential   \n",
              "...                 ...          ...          ...           ...   \n",
              "1054154        263100.0     430000.0     0.611800   Residential   \n",
              "1054155         79810.0     200000.0     0.399000   Residential   \n",
              "1054156         79590.0     360000.0     0.221000   Vacant Land   \n",
              "1054157        117600.0     275000.0     0.427600   Residential   \n",
              "1054158        130690.0     190000.0     0.687800    Commercial   \n",
              "\n",
              "        Residential Type  Longitude   Latitude  date_n  town_n  address_n  \\\n",
              "1053959    Single Family -73.207834  41.540599    6670     168     368231   \n",
              "1053960    Single Family -72.142326  41.349377    6545     152     209509   \n",
              "1053961            Condo -72.736808  41.764557    6665     154     311306   \n",
              "1053962    Single Family -72.671985  41.701393    6624     159     602304   \n",
              "1053963    Single Family -72.734052  41.791654    6545     154     304546   \n",
              "...                  ...        ...        ...     ...     ...        ...   \n",
              "1054154    Single Family -73.114797  41.586333    6423     153     525224   \n",
              "1054155            Condo -73.232742  41.517140    6662     168     697803   \n",
              "1054156              NaN -73.191290  41.543605    6553     168     615594   \n",
              "1054157    Single Family -72.976177  41.281588    6597     155      59978   \n",
              "1054158              NaN -72.653118  41.852400    6544     164     238397   \n",
              "\n",
              "         property_n  residential_n  \n",
              "1053959           6              2  \n",
              "1053960           6              2  \n",
              "1053961           6              0  \n",
              "1053962           6              2  \n",
              "1053963           6              2  \n",
              "...             ...            ...  \n",
              "1054154           6              2  \n",
              "1054155           6              0  \n",
              "1054156          10              5  \n",
              "1054157           6              2  \n",
              "1054158           1              5  \n",
              "\n",
              "[200 rows x 16 columns]"
            ],
            "text/html": [
              "\n",
              "  <div id=\"df-cf2d34f4-1c1b-4c42-b2fd-7324f9e075d7\" class=\"colab-df-container\">\n",
              "    <div>\n",
              "<style scoped>\n",
              "    .dataframe tbody tr th:only-of-type {\n",
              "        vertical-align: middle;\n",
              "    }\n",
              "\n",
              "    .dataframe tbody tr th {\n",
              "        vertical-align: top;\n",
              "    }\n",
              "\n",
              "    .dataframe thead th {\n",
              "        text-align: right;\n",
              "    }\n",
              "</style>\n",
              "<table border=\"1\" class=\"dataframe\">\n",
              "  <thead>\n",
              "    <tr style=\"text-align: right;\">\n",
              "      <th></th>\n",
              "      <th>Date Recorded</th>\n",
              "      <th>List Year</th>\n",
              "      <th>Town</th>\n",
              "      <th>Address</th>\n",
              "      <th>Assessed Value</th>\n",
              "      <th>Sale Amount</th>\n",
              "      <th>Sales Ratio</th>\n",
              "      <th>Property Type</th>\n",
              "      <th>Residential Type</th>\n",
              "      <th>Longitude</th>\n",
              "      <th>Latitude</th>\n",
              "      <th>date_n</th>\n",
              "      <th>town_n</th>\n",
              "      <th>address_n</th>\n",
              "      <th>property_n</th>\n",
              "      <th>residential_n</th>\n",
              "    </tr>\n",
              "  </thead>\n",
              "  <tbody>\n",
              "    <tr>\n",
              "      <th>1053959</th>\n",
              "      <td>2022-09-28</td>\n",
              "      <td>2021</td>\n",
              "      <td>Woodbury</td>\n",
              "      <td>305 MAIN ST SOUTH</td>\n",
              "      <td>110020.0</td>\n",
              "      <td>595000.0</td>\n",
              "      <td>0.184908</td>\n",
              "      <td>Residential</td>\n",
              "      <td>Single Family</td>\n",
              "      <td>-73.207834</td>\n",
              "      <td>41.540599</td>\n",
              "      <td>6670</td>\n",
              "      <td>168</td>\n",
              "      <td>368231</td>\n",
              "      <td>6</td>\n",
              "      <td>2</td>\n",
              "    </tr>\n",
              "    <tr>\n",
              "      <th>1053960</th>\n",
              "      <td>2022-04-27</td>\n",
              "      <td>2021</td>\n",
              "      <td>Waterford</td>\n",
              "      <td>19 BRILL AVENUE</td>\n",
              "      <td>125400.0</td>\n",
              "      <td>310000.0</td>\n",
              "      <td>0.404500</td>\n",
              "      <td>Residential</td>\n",
              "      <td>Single Family</td>\n",
              "      <td>-72.142326</td>\n",
              "      <td>41.349377</td>\n",
              "      <td>6545</td>\n",
              "      <td>152</td>\n",
              "      <td>209509</td>\n",
              "      <td>6</td>\n",
              "      <td>2</td>\n",
              "    </tr>\n",
              "    <tr>\n",
              "      <th>1053961</th>\n",
              "      <td>2022-09-23</td>\n",
              "      <td>2021</td>\n",
              "      <td>West Hartford</td>\n",
              "      <td>26 ARNOLD WAY GAR 11A</td>\n",
              "      <td>4340.0</td>\n",
              "      <td>45000.0</td>\n",
              "      <td>0.096400</td>\n",
              "      <td>Residential</td>\n",
              "      <td>Condo</td>\n",
              "      <td>-72.736808</td>\n",
              "      <td>41.764557</td>\n",
              "      <td>6665</td>\n",
              "      <td>154</td>\n",
              "      <td>311306</td>\n",
              "      <td>6</td>\n",
              "      <td>0</td>\n",
              "    </tr>\n",
              "    <tr>\n",
              "      <th>1053962</th>\n",
              "      <td>2022-08-01</td>\n",
              "      <td>2021</td>\n",
              "      <td>Wethersfield</td>\n",
              "      <td>65 LINDEN ST</td>\n",
              "      <td>135190.0</td>\n",
              "      <td>50000.0</td>\n",
              "      <td>2.703800</td>\n",
              "      <td>Residential</td>\n",
              "      <td>Single Family</td>\n",
              "      <td>-72.671985</td>\n",
              "      <td>41.701393</td>\n",
              "      <td>6624</td>\n",
              "      <td>159</td>\n",
              "      <td>602304</td>\n",
              "      <td>6</td>\n",
              "      <td>2</td>\n",
              "    </tr>\n",
              "    <tr>\n",
              "      <th>1053963</th>\n",
              "      <td>2022-04-27</td>\n",
              "      <td>2021</td>\n",
              "      <td>West Hartford</td>\n",
              "      <td>25 STONEHAM DRIVE</td>\n",
              "      <td>248168.0</td>\n",
              "      <td>435000.0</td>\n",
              "      <td>0.570500</td>\n",
              "      <td>Residential</td>\n",
              "      <td>Single Family</td>\n",
              "      <td>-72.734052</td>\n",
              "      <td>41.791654</td>\n",
              "      <td>6545</td>\n",
              "      <td>154</td>\n",
              "      <td>304546</td>\n",
              "      <td>6</td>\n",
              "      <td>2</td>\n",
              "    </tr>\n",
              "    <tr>\n",
              "      <th>...</th>\n",
              "      <td>...</td>\n",
              "      <td>...</td>\n",
              "      <td>...</td>\n",
              "      <td>...</td>\n",
              "      <td>...</td>\n",
              "      <td>...</td>\n",
              "      <td>...</td>\n",
              "      <td>...</td>\n",
              "      <td>...</td>\n",
              "      <td>...</td>\n",
              "      <td>...</td>\n",
              "      <td>...</td>\n",
              "      <td>...</td>\n",
              "      <td>...</td>\n",
              "      <td>...</td>\n",
              "      <td>...</td>\n",
              "    </tr>\n",
              "    <tr>\n",
              "      <th>1054154</th>\n",
              "      <td>2021-11-16</td>\n",
              "      <td>2021</td>\n",
              "      <td>Watertown</td>\n",
              "      <td>50 SUMMIT RIDGE</td>\n",
              "      <td>263100.0</td>\n",
              "      <td>430000.0</td>\n",
              "      <td>0.611800</td>\n",
              "      <td>Residential</td>\n",
              "      <td>Single Family</td>\n",
              "      <td>-73.114797</td>\n",
              "      <td>41.586333</td>\n",
              "      <td>6423</td>\n",
              "      <td>153</td>\n",
              "      <td>525224</td>\n",
              "      <td>6</td>\n",
              "      <td>2</td>\n",
              "    </tr>\n",
              "    <tr>\n",
              "      <th>1054155</th>\n",
              "      <td>2022-09-20</td>\n",
              "      <td>2021</td>\n",
              "      <td>Woodbury</td>\n",
              "      <td>89 TAMARACK LANR UNIT 89A</td>\n",
              "      <td>79810.0</td>\n",
              "      <td>200000.0</td>\n",
              "      <td>0.399000</td>\n",
              "      <td>Residential</td>\n",
              "      <td>Condo</td>\n",
              "      <td>-73.232742</td>\n",
              "      <td>41.517140</td>\n",
              "      <td>6662</td>\n",
              "      <td>168</td>\n",
              "      <td>697803</td>\n",
              "      <td>6</td>\n",
              "      <td>0</td>\n",
              "    </tr>\n",
              "    <tr>\n",
              "      <th>1054156</th>\n",
              "      <td>2022-05-06</td>\n",
              "      <td>2021</td>\n",
              "      <td>Woodbury</td>\n",
              "      <td>69 BACON POND ROAD</td>\n",
              "      <td>79590.0</td>\n",
              "      <td>360000.0</td>\n",
              "      <td>0.221000</td>\n",
              "      <td>Vacant Land</td>\n",
              "      <td>NaN</td>\n",
              "      <td>-73.191290</td>\n",
              "      <td>41.543605</td>\n",
              "      <td>6553</td>\n",
              "      <td>168</td>\n",
              "      <td>615594</td>\n",
              "      <td>10</td>\n",
              "      <td>5</td>\n",
              "    </tr>\n",
              "    <tr>\n",
              "      <th>1054157</th>\n",
              "      <td>2022-06-29</td>\n",
              "      <td>2021</td>\n",
              "      <td>West Haven</td>\n",
              "      <td>114 TUTHILL ST</td>\n",
              "      <td>117600.0</td>\n",
              "      <td>275000.0</td>\n",
              "      <td>0.427600</td>\n",
              "      <td>Residential</td>\n",
              "      <td>Single Family</td>\n",
              "      <td>-72.976177</td>\n",
              "      <td>41.281588</td>\n",
              "      <td>6597</td>\n",
              "      <td>155</td>\n",
              "      <td>59978</td>\n",
              "      <td>6</td>\n",
              "      <td>2</td>\n",
              "    </tr>\n",
              "    <tr>\n",
              "      <th>1054158</th>\n",
              "      <td>2022-04-26</td>\n",
              "      <td>2021</td>\n",
              "      <td>Windsor</td>\n",
              "      <td>200 BLOOMFIELD AVE</td>\n",
              "      <td>130690.0</td>\n",
              "      <td>190000.0</td>\n",
              "      <td>0.687800</td>\n",
              "      <td>Commercial</td>\n",
              "      <td>NaN</td>\n",
              "      <td>-72.653118</td>\n",
              "      <td>41.852400</td>\n",
              "      <td>6544</td>\n",
              "      <td>164</td>\n",
              "      <td>238397</td>\n",
              "      <td>1</td>\n",
              "      <td>5</td>\n",
              "    </tr>\n",
              "  </tbody>\n",
              "</table>\n",
              "<p>200 rows × 16 columns</p>\n",
              "</div>\n",
              "    <div class=\"colab-df-buttons\">\n",
              "\n",
              "  <div class=\"colab-df-container\">\n",
              "    <button class=\"colab-df-convert\" onclick=\"convertToInteractive('df-cf2d34f4-1c1b-4c42-b2fd-7324f9e075d7')\"\n",
              "            title=\"Convert this dataframe to an interactive table.\"\n",
              "            style=\"display:none;\">\n",
              "\n",
              "  <svg xmlns=\"http://www.w3.org/2000/svg\" height=\"24px\" viewBox=\"0 -960 960 960\">\n",
              "    <path d=\"M120-120v-720h720v720H120Zm60-500h600v-160H180v160Zm220 220h160v-160H400v160Zm0 220h160v-160H400v160ZM180-400h160v-160H180v160Zm440 0h160v-160H620v160ZM180-180h160v-160H180v160Zm440 0h160v-160H620v160Z\"/>\n",
              "  </svg>\n",
              "    </button>\n",
              "\n",
              "  <style>\n",
              "    .colab-df-container {\n",
              "      display:flex;\n",
              "      gap: 12px;\n",
              "    }\n",
              "\n",
              "    .colab-df-convert {\n",
              "      background-color: #E8F0FE;\n",
              "      border: none;\n",
              "      border-radius: 50%;\n",
              "      cursor: pointer;\n",
              "      display: none;\n",
              "      fill: #1967D2;\n",
              "      height: 32px;\n",
              "      padding: 0 0 0 0;\n",
              "      width: 32px;\n",
              "    }\n",
              "\n",
              "    .colab-df-convert:hover {\n",
              "      background-color: #E2EBFA;\n",
              "      box-shadow: 0px 1px 2px rgba(60, 64, 67, 0.3), 0px 1px 3px 1px rgba(60, 64, 67, 0.15);\n",
              "      fill: #174EA6;\n",
              "    }\n",
              "\n",
              "    .colab-df-buttons div {\n",
              "      margin-bottom: 4px;\n",
              "    }\n",
              "\n",
              "    [theme=dark] .colab-df-convert {\n",
              "      background-color: #3B4455;\n",
              "      fill: #D2E3FC;\n",
              "    }\n",
              "\n",
              "    [theme=dark] .colab-df-convert:hover {\n",
              "      background-color: #434B5C;\n",
              "      box-shadow: 0px 1px 3px 1px rgba(0, 0, 0, 0.15);\n",
              "      filter: drop-shadow(0px 1px 2px rgba(0, 0, 0, 0.3));\n",
              "      fill: #FFFFFF;\n",
              "    }\n",
              "  </style>\n",
              "\n",
              "    <script>\n",
              "      const buttonEl =\n",
              "        document.querySelector('#df-cf2d34f4-1c1b-4c42-b2fd-7324f9e075d7 button.colab-df-convert');\n",
              "      buttonEl.style.display =\n",
              "        google.colab.kernel.accessAllowed ? 'block' : 'none';\n",
              "\n",
              "      async function convertToInteractive(key) {\n",
              "        const element = document.querySelector('#df-cf2d34f4-1c1b-4c42-b2fd-7324f9e075d7');\n",
              "        const dataTable =\n",
              "          await google.colab.kernel.invokeFunction('convertToInteractive',\n",
              "                                                    [key], {});\n",
              "        if (!dataTable) return;\n",
              "\n",
              "        const docLinkHtml = 'Like what you see? Visit the ' +\n",
              "          '<a target=\"_blank\" href=https://colab.research.google.com/notebooks/data_table.ipynb>data table notebook</a>'\n",
              "          + ' to learn more about interactive tables.';\n",
              "        element.innerHTML = '';\n",
              "        dataTable['output_type'] = 'display_data';\n",
              "        await google.colab.output.renderOutput(dataTable, element);\n",
              "        const docLink = document.createElement('div');\n",
              "        docLink.innerHTML = docLinkHtml;\n",
              "        element.appendChild(docLink);\n",
              "      }\n",
              "    </script>\n",
              "  </div>\n",
              "\n",
              "\n",
              "<div id=\"df-92c23c97-a83f-4967-979a-52381f21e37e\">\n",
              "  <button class=\"colab-df-quickchart\" onclick=\"quickchart('df-92c23c97-a83f-4967-979a-52381f21e37e')\"\n",
              "            title=\"Suggest charts\"\n",
              "            style=\"display:none;\">\n",
              "\n",
              "<svg xmlns=\"http://www.w3.org/2000/svg\" height=\"24px\"viewBox=\"0 0 24 24\"\n",
              "     width=\"24px\">\n",
              "    <g>\n",
              "        <path d=\"M19 3H5c-1.1 0-2 .9-2 2v14c0 1.1.9 2 2 2h14c1.1 0 2-.9 2-2V5c0-1.1-.9-2-2-2zM9 17H7v-7h2v7zm4 0h-2V7h2v10zm4 0h-2v-4h2v4z\"/>\n",
              "    </g>\n",
              "</svg>\n",
              "  </button>\n",
              "\n",
              "<style>\n",
              "  .colab-df-quickchart {\n",
              "      --bg-color: #E8F0FE;\n",
              "      --fill-color: #1967D2;\n",
              "      --hover-bg-color: #E2EBFA;\n",
              "      --hover-fill-color: #174EA6;\n",
              "      --disabled-fill-color: #AAA;\n",
              "      --disabled-bg-color: #DDD;\n",
              "  }\n",
              "\n",
              "  [theme=dark] .colab-df-quickchart {\n",
              "      --bg-color: #3B4455;\n",
              "      --fill-color: #D2E3FC;\n",
              "      --hover-bg-color: #434B5C;\n",
              "      --hover-fill-color: #FFFFFF;\n",
              "      --disabled-bg-color: #3B4455;\n",
              "      --disabled-fill-color: #666;\n",
              "  }\n",
              "\n",
              "  .colab-df-quickchart {\n",
              "    background-color: var(--bg-color);\n",
              "    border: none;\n",
              "    border-radius: 50%;\n",
              "    cursor: pointer;\n",
              "    display: none;\n",
              "    fill: var(--fill-color);\n",
              "    height: 32px;\n",
              "    padding: 0;\n",
              "    width: 32px;\n",
              "  }\n",
              "\n",
              "  .colab-df-quickchart:hover {\n",
              "    background-color: var(--hover-bg-color);\n",
              "    box-shadow: 0 1px 2px rgba(60, 64, 67, 0.3), 0 1px 3px 1px rgba(60, 64, 67, 0.15);\n",
              "    fill: var(--button-hover-fill-color);\n",
              "  }\n",
              "\n",
              "  .colab-df-quickchart-complete:disabled,\n",
              "  .colab-df-quickchart-complete:disabled:hover {\n",
              "    background-color: var(--disabled-bg-color);\n",
              "    fill: var(--disabled-fill-color);\n",
              "    box-shadow: none;\n",
              "  }\n",
              "\n",
              "  .colab-df-spinner {\n",
              "    border: 2px solid var(--fill-color);\n",
              "    border-color: transparent;\n",
              "    border-bottom-color: var(--fill-color);\n",
              "    animation:\n",
              "      spin 1s steps(1) infinite;\n",
              "  }\n",
              "\n",
              "  @keyframes spin {\n",
              "    0% {\n",
              "      border-color: transparent;\n",
              "      border-bottom-color: var(--fill-color);\n",
              "      border-left-color: var(--fill-color);\n",
              "    }\n",
              "    20% {\n",
              "      border-color: transparent;\n",
              "      border-left-color: var(--fill-color);\n",
              "      border-top-color: var(--fill-color);\n",
              "    }\n",
              "    30% {\n",
              "      border-color: transparent;\n",
              "      border-left-color: var(--fill-color);\n",
              "      border-top-color: var(--fill-color);\n",
              "      border-right-color: var(--fill-color);\n",
              "    }\n",
              "    40% {\n",
              "      border-color: transparent;\n",
              "      border-right-color: var(--fill-color);\n",
              "      border-top-color: var(--fill-color);\n",
              "    }\n",
              "    60% {\n",
              "      border-color: transparent;\n",
              "      border-right-color: var(--fill-color);\n",
              "    }\n",
              "    80% {\n",
              "      border-color: transparent;\n",
              "      border-right-color: var(--fill-color);\n",
              "      border-bottom-color: var(--fill-color);\n",
              "    }\n",
              "    90% {\n",
              "      border-color: transparent;\n",
              "      border-bottom-color: var(--fill-color);\n",
              "    }\n",
              "  }\n",
              "</style>\n",
              "\n",
              "  <script>\n",
              "    async function quickchart(key) {\n",
              "      const quickchartButtonEl =\n",
              "        document.querySelector('#' + key + ' button');\n",
              "      quickchartButtonEl.disabled = true;  // To prevent multiple clicks.\n",
              "      quickchartButtonEl.classList.add('colab-df-spinner');\n",
              "      try {\n",
              "        const charts = await google.colab.kernel.invokeFunction(\n",
              "            'suggestCharts', [key], {});\n",
              "      } catch (error) {\n",
              "        console.error('Error during call to suggestCharts:', error);\n",
              "      }\n",
              "      quickchartButtonEl.classList.remove('colab-df-spinner');\n",
              "      quickchartButtonEl.classList.add('colab-df-quickchart-complete');\n",
              "    }\n",
              "    (() => {\n",
              "      let quickchartButtonEl =\n",
              "        document.querySelector('#df-92c23c97-a83f-4967-979a-52381f21e37e button');\n",
              "      quickchartButtonEl.style.display =\n",
              "        google.colab.kernel.accessAllowed ? 'block' : 'none';\n",
              "    })();\n",
              "  </script>\n",
              "</div>\n",
              "\n",
              "    </div>\n",
              "  </div>\n"
            ],
            "application/vnd.google.colaboratory.intrinsic+json": {
              "type": "dataframe",
              "repr_error": "0"
            }
          },
          "metadata": {},
          "execution_count": 26
        }
      ],
      "source": [
        "# label encode categorical values into numerical using one-hot encoding\n",
        "df['date_n'] = le_date.fit_transform(df['Date Recorded'])\n",
        "df['town_n'] = le_town.fit_transform(df['Town'])\n",
        "df['address_n'] = le_address.fit_transform(df['Address'])\n",
        "df['property_n'] = le_property.fit_transform(df['Property Type'])\n",
        "df['residential_n'] = le_residential.fit_transform(df['Residential Type'])\n",
        "df.tail(200)"
      ]
    },
    {
      "cell_type": "code",
      "execution_count": 27,
      "metadata": {
        "id": "K2oks78LEsUd",
        "colab": {
          "base_uri": "https://localhost:8080/"
        },
        "outputId": "f6c782df-2c12-4053-e6bb-00002b39ebb8"
      },
      "outputs": [
        {
          "output_type": "stream",
          "name": "stdout",
          "text": [
            "Date Recorded        True\n",
            "List Year           False\n",
            "Town                False\n",
            "Address              True\n",
            "Assessed Value      False\n",
            "Sale Amount         False\n",
            "Sales Ratio         False\n",
            "Property Type        True\n",
            "Residential Type     True\n",
            "Longitude            True\n",
            "Latitude             True\n",
            "date_n              False\n",
            "town_n              False\n",
            "address_n           False\n",
            "property_n          False\n",
            "residential_n       False\n",
            "dtype: bool\n"
          ]
        }
      ],
      "source": [
        "# check for missing values\n",
        "print(df.isna().any())"
      ]
    },
    {
      "cell_type": "code",
      "execution_count": 28,
      "metadata": {
        "id": "Pd3-gN3tFJjV",
        "colab": {
          "base_uri": "https://localhost:8080/"
        },
        "outputId": "362e1394-1512-4a56-80ed-8af753c1dd35"
      },
      "outputs": [
        {
          "output_type": "stream",
          "name": "stderr",
          "text": [
            "<ipython-input-28-622aae6d7206>:3: SettingWithCopyWarning: \n",
            "A value is trying to be set on a copy of a slice from a DataFrame\n",
            "\n",
            "See the caveats in the documentation: https://pandas.pydata.org/pandas-docs/stable/user_guide/indexing.html#returning-a-view-versus-a-copy\n",
            "  df['Longitude'].fillna(df['Longitude'].mean(), inplace=True)\n",
            "<ipython-input-28-622aae6d7206>:4: SettingWithCopyWarning: \n",
            "A value is trying to be set on a copy of a slice from a DataFrame\n",
            "\n",
            "See the caveats in the documentation: https://pandas.pydata.org/pandas-docs/stable/user_guide/indexing.html#returning-a-view-versus-a-copy\n",
            "  df['Latitude'].fillna(df['Latitude'].mean(), inplace=True)\n"
          ]
        }
      ],
      "source": [
        "# fill in Longitude and Latitude with mean for missing values\n",
        "### Check with TA to see if we can find same town and plug in their info to missing\n",
        "df['Longitude'].fillna(df['Longitude'].mean(), inplace=True)\n",
        "df['Latitude'].fillna(df['Latitude'].mean(), inplace=True)"
      ]
    },
    {
      "cell_type": "code",
      "execution_count": 29,
      "metadata": {
        "id": "Sw51EhyQGckY",
        "colab": {
          "base_uri": "https://localhost:8080/"
        },
        "outputId": "3288279b-d19b-44e0-abef-764a917805cd"
      },
      "outputs": [
        {
          "output_type": "stream",
          "name": "stdout",
          "text": [
            "False\n",
            "False\n"
          ]
        }
      ],
      "source": [
        "# recheck for missing values\n",
        "print(df['Latitude'].isna().any())\n",
        "print(df['Longitude'].isna().any())"
      ]
    },
    {
      "cell_type": "code",
      "execution_count": 30,
      "metadata": {
        "id": "OkXJKzPoGr1c"
      },
      "outputs": [],
      "source": [
        "x=df[['List Year', 'Assessed Value', 'Longitude', 'Latitude', 'date_n', 'town_n','address_n', 'property_n', 'residential_n']]\n",
        "y=df['Sale Amount']\n",
        "\n",
        "x_train,x_test,y_train,y_test=train_test_split(x,y,test_size=0.2,random_state=42)"
      ]
    },
    {
      "cell_type": "code",
      "execution_count": 31,
      "metadata": {
        "id": "M4tZ-wVJIN41",
        "colab": {
          "base_uri": "https://localhost:8080/",
          "height": 465
        },
        "outputId": "e890f7d1-6a08-4d02-f6ad-b4fabfdbb418"
      },
      "outputs": [
        {
          "output_type": "display_data",
          "data": {
            "text/plain": [
              "<Figure size 640x480 with 1 Axes>"
            ],
            "image/png": "[encoded data removed]"
          },
          "metadata": {}
        }
      ],
      "source": [
        "# Date & Sale Amount\n",
        "import matplotlib.pyplot as plt\n",
        "%matplotlib inline\n",
        "plt.scatter(df.date_n,y,color='pink',marker='.')\n",
        "plt.xlabel('Date')\n",
        "plt.ylabel('Sale Amount')\n",
        "plt.ylim(0, 1000000)\n",
        "plt.show()"
      ]
    },
    {
      "cell_type": "code",
      "execution_count": 32,
      "metadata": {
        "id": "P_91EiurLZlE",
        "colab": {
          "base_uri": "https://localhost:8080/",
          "height": 465
        },
        "outputId": "27b4a03d-0685-4774-bf00-d58f3fae77c7"
      },
      "outputs": [
        {
          "output_type": "display_data",
          "data": {
            "text/plain": [
              "<Figure size 640x480 with 1 Axes>"
            ],
            "image/png": "[encoded data removed]"
          },
          "metadata": {}
        }
      ],
      "source": [
        "# Town & Sale Amount\n",
        "import matplotlib.pyplot as plt\n",
        "%matplotlib inline\n",
        "plt.scatter(df.town_n,y,color='purple',marker='.')\n",
        "plt.xlabel('Town')\n",
        "plt.ylabel('Sale Amount')\n",
        "plt.ylim(0, 1000000)\n",
        "plt.show()"
      ]
    },
    {
      "cell_type": "code",
      "execution_count": 33,
      "metadata": {
        "id": "_aNdg6sPLuoO",
        "colab": {
          "base_uri": "https://localhost:8080/",
          "height": 465
        },
        "outputId": "0c75425a-7b49-48e8-e118-b46be8921f5e"
      },
      "outputs": [
        {
          "output_type": "display_data",
          "data": {
            "text/plain": [
              "<Figure size 640x480 with 1 Axes>"
            ],
            "image/png": "[encoded data removed]"
          },
          "metadata": {}
        }
      ],
      "source": [
        "# Address & Sale Amount\n",
        "import matplotlib.pyplot as plt\n",
        "%matplotlib inline\n",
        "plt.scatter(df.address_n,y,color='blue',marker='.')\n",
        "plt.xlabel('Address')\n",
        "plt.ylabel('Sale Amount')\n",
        "plt.ylim(0, 1000000)\n",
        "plt.show()"
      ]
    },
    {
      "cell_type": "code",
      "execution_count": 34,
      "metadata": {
        "id": "JYyQUHwqMGU7",
        "colab": {
          "base_uri": "https://localhost:8080/",
          "height": 465
        },
        "outputId": "0150082a-424e-406e-fb04-50cece8055ca"
      },
      "outputs": [
        {
          "output_type": "display_data",
          "data": {
            "text/plain": [
              "<Figure size 640x480 with 1 Axes>"
            ],
            "image/png": "[encoded data removed]"
          },
          "metadata": {}
        }
      ],
      "source": [
        "# Property Type & Sale Amount\n",
        "import matplotlib.pyplot as plt\n",
        "%matplotlib inline\n",
        "plt.scatter(df.property_n,y,color='orange',marker='.')\n",
        "plt.xlabel('Property Type')\n",
        "plt.ylabel('Sale Amount')\n",
        "plt.ylim(0, 1000000)\n",
        "plt.show()"
      ]
    },
    {
      "cell_type": "code",
      "execution_count": 35,
      "metadata": {
        "id": "fXei6FCsN8n4",
        "colab": {
          "base_uri": "https://localhost:8080/"
        },
        "outputId": "1d84ed52-9410-479a-81f3-fab88688eac7"
      },
      "outputs": [
        {
          "output_type": "stream",
          "name": "stdout",
          "text": [
            "{'Apartments': 0, 'Commercial': 1, 'Condo': 2, 'Four Family': 3, 'Industrial': 4, 'Public Utility': 5, 'Residential': 6, 'Single Family': 7, 'Three Family': 8, 'Two Family': 9, 'Vacant Land': 10, nan: 11}\n"
          ]
        }
      ],
      "source": [
        "mapping = dict(zip(le_property.classes_, range(len(le_property.classes_))))\n",
        "print(mapping)\n",
        "# public utility is 5, seems to make value of property cheap"
      ]
    },
    {
      "cell_type": "code",
      "execution_count": 36,
      "metadata": {
        "id": "TBN0GDouMaQp",
        "colab": {
          "base_uri": "https://localhost:8080/",
          "height": 465
        },
        "outputId": "702ee4c3-d8bb-4e3d-84fd-8e5a4b6b4773"
      },
      "outputs": [
        {
          "output_type": "display_data",
          "data": {
            "text/plain": [
              "<Figure size 640x480 with 1 Axes>"
            ],
            "image/png": "[encoded data removed]"
          },
          "metadata": {}
        }
      ],
      "source": [
        "# Residential Type & Sale Amount\n",
        "import matplotlib.pyplot as plt\n",
        "%matplotlib inline\n",
        "plt.scatter(df.residential_n,y,color='skyblue',marker='.')\n",
        "plt.xlabel('Residential Type')\n",
        "plt.ylabel('Sale Amount')\n",
        "plt.ylim(0, 1000000)\n",
        "plt.show()"
      ]
    },
    {
      "cell_type": "code",
      "execution_count": 37,
      "metadata": {
        "colab": {
          "base_uri": "https://localhost:8080/",
          "height": 465
        },
        "id": "auk98HAeO1mQ",
        "outputId": "27adf39d-2204-4953-d99a-6a0bdce6a460"
      },
      "outputs": [
        {
          "output_type": "display_data",
          "data": {
            "text/plain": [
              "<Figure size 640x480 with 1 Axes>"
            ],
            "image/png": "[encoded data removed]"
          },
          "metadata": {}
        }
      ],
      "source": [
        "# Assessed Value & Sale Amount\n",
        "import matplotlib.pyplot as plt\n",
        "%matplotlib inline\n",
        "plt.scatter(df['Assessed Value'],y,color='red',marker='.')\n",
        "plt.xlabel('Assessed Value')\n",
        "plt.ylabel('Sale Amount')\n",
        "plt.xlim(0, 10000000)\n",
        "plt.ylim(0, 10000000)\n",
        "plt.show()"
      ]
    },
    {
      "cell_type": "code",
      "execution_count": 38,
      "metadata": {
        "colab": {
          "base_uri": "https://localhost:8080/",
          "height": 465
        },
        "id": "z_gJ5OSQPc1L",
        "outputId": "28adb9b1-c124-4751-bf05-98f4bc300fd5"
      },
      "outputs": [
        {
          "output_type": "display_data",
          "data": {
            "text/plain": [
              "<Figure size 640x480 with 1 Axes>"
            ],
            "image/png": "[encoded data removed]"
          },
          "metadata": {}
        }
      ],
      "source": [
        "# Longitude & Sale Amount\n",
        "import matplotlib.pyplot as plt\n",
        "%matplotlib inline\n",
        "plt.scatter(df['Longitude'],y,color='green',marker='.')\n",
        "plt.xlabel('Longitude')\n",
        "plt.ylabel('Sale Amount')\n",
        "plt.xlim(-150, -50)\n",
        "plt.ylim(0, 100000000)\n",
        "plt.show()"
      ]
    },
    {
      "cell_type": "code",
      "execution_count": 39,
      "metadata": {
        "colab": {
          "base_uri": "https://localhost:8080/",
          "height": 465
        },
        "id": "zC_uRZBVP6pd",
        "outputId": "27f69d35-e09a-4951-f9f7-87e34fdbaecc"
      },
      "outputs": [
        {
          "output_type": "display_data",
          "data": {
            "text/plain": [
              "<Figure size 640x480 with 1 Axes>"
            ],
            "image/png": "[encoded data removed]"
          },
          "metadata": {}
        }
      ],
      "source": [
        "# Latitude & Sale Amount\n",
        "import matplotlib.pyplot as plt\n",
        "%matplotlib inline\n",
        "plt.scatter(df['Latitude'],y,color='purple',marker='.')\n",
        "plt.xlabel('Latitude')\n",
        "plt.ylabel('Sale Amount')\n",
        "plt.xlim(0, 50)\n",
        "plt.ylim(0, 100000000)\n",
        "plt.show()"
      ]
    },
    {
      "cell_type": "code",
      "execution_count": 40,
      "metadata": {
        "colab": {
          "base_uri": "https://localhost:8080/"
        },
        "id": "aD96Lt3yQ844",
        "outputId": "fa22f091-1d23-4194-d5ec-239fab3e0848"
      },
      "outputs": [
        {
          "output_type": "stream",
          "name": "stdout",
          "text": [
            "Min: 0.0\n",
            "Max: 1.0\n",
            "Min: 0.0\n",
            "Max: 0.9999999999999996\n",
            "Min: 0.0\n",
            "Max: 1.0\n",
            "Max: 1.0\n",
            "Max: 1.0\n",
            "Max: 1.0\n",
            "        Date Recorded  List Year        Town                    Address  \\\n",
            "0          2021-04-14       0.95     Ansonia              323 BEAVER ST   \n",
            "1          2021-05-26       0.95     Ansonia             152 JACKSON ST   \n",
            "2          2021-09-13       0.95     Ansonia            230 WAKELEE AVE   \n",
            "3          2020-12-14       0.95     Ansonia                57 PLATT ST   \n",
            "4          2021-09-07       0.95        Avon               245 NEW ROAD   \n",
            "...               ...        ...         ...                        ...   \n",
            "1054154    2021-11-16       1.00   Watertown            50 SUMMIT RIDGE   \n",
            "1054155    2022-09-20       1.00    Woodbury  89 TAMARACK LANR UNIT 89A   \n",
            "1054156    2022-05-06       1.00    Woodbury         69 BACON POND ROAD   \n",
            "1054157    2022-06-29       1.00  West Haven             114 TUTHILL ST   \n",
            "1054158    2022-04-26       1.00     Windsor         200 BLOOMFIELD AVE   \n",
            "\n",
            "         Assessed Value  Sale Amount  Sales Ratio Property Type  \\\n",
            "0              0.000151     248400.0       0.5354   Residential   \n",
            "1              0.000125     239900.0       0.4606   Residential   \n",
            "2              0.000171     325000.0       0.4630    Commercial   \n",
            "3              0.000145     202500.0       0.6291   Residential   \n",
            "4              0.000247     400000.0       0.5441   Residential   \n",
            "...                 ...          ...          ...           ...   \n",
            "1054154        0.000298     430000.0       0.6118   Residential   \n",
            "1054155        0.000091     200000.0       0.3990   Residential   \n",
            "1054156        0.000090     360000.0       0.2210   Vacant Land   \n",
            "1054157        0.000133     275000.0       0.4276   Residential   \n",
            "1054158        0.000148     190000.0       0.6878    Commercial   \n",
            "\n",
            "        Residential Type  Longitude  Latitude    date_n    town_n  address_n  \\\n",
            "0          Single Family   0.962419  0.661486  0.936311  0.011834   0.516049   \n",
            "1           Three Family   0.966212  0.675595  0.941705  0.011834   0.199834   \n",
            "2                    NaN   0.966212  0.675595  0.955043  0.011834   0.374410   \n",
            "3             Two Family   0.966212  0.675595  0.921325  0.011834   0.749935   \n",
            "4          Single Family   0.966212  0.675595  0.954443  0.023669   0.395806   \n",
            "...                  ...        ...       ...       ...       ...        ...   \n",
            "1054154    Single Family   0.961488  0.683792  0.962536  0.905325   0.702888   \n",
            "1054155            Condo   0.959132  0.677257  0.998352  0.994083   0.933844   \n",
            "1054156              NaN   0.959960  0.679757  0.982017  0.994083   0.823827   \n",
            "1054157    Single Family   0.964258  0.655012  0.988611  0.917160   0.080266   \n",
            "1054158              NaN   0.970714  0.708919  0.980668  0.970414   0.319038   \n",
            "\n",
            "         property_n  residential_n  \n",
            "0          0.545455            0.4  \n",
            "1          0.545455            0.6  \n",
            "2          0.090909            1.0  \n",
            "3          0.545455            0.8  \n",
            "4          0.545455            0.4  \n",
            "...             ...            ...  \n",
            "1054154    0.545455            0.4  \n",
            "1054155    0.545455            0.0  \n",
            "1054156    0.909091            1.0  \n",
            "1054157    0.545455            0.4  \n",
            "1054158    0.090909            1.0  \n",
            "\n",
            "[1045454 rows x 16 columns]\n"
          ]
        },
        {
          "output_type": "stream",
          "name": "stderr",
          "text": [
            "<ipython-input-40-e3464eb901e5>:5: SettingWithCopyWarning: \n",
            "A value is trying to be set on a copy of a slice from a DataFrame.\n",
            "Try using .loc[row_indexer,col_indexer] = value instead\n",
            "\n",
            "See the caveats in the documentation: https://pandas.pydata.org/pandas-docs/stable/user_guide/indexing.html#returning-a-view-versus-a-copy\n",
            "  df['List Year'] = scaler.fit_transform(df[['List Year']])\n",
            "<ipython-input-40-e3464eb901e5>:6: SettingWithCopyWarning: \n",
            "A value is trying to be set on a copy of a slice from a DataFrame.\n",
            "Try using .loc[row_indexer,col_indexer] = value instead\n",
            "\n",
            "See the caveats in the documentation: https://pandas.pydata.org/pandas-docs/stable/user_guide/indexing.html#returning-a-view-versus-a-copy\n",
            "  df['Assessed Value'] = scaler.fit_transform(df[['Assessed Value']])\n",
            "<ipython-input-40-e3464eb901e5>:7: SettingWithCopyWarning: \n",
            "A value is trying to be set on a copy of a slice from a DataFrame.\n",
            "Try using .loc[row_indexer,col_indexer] = value instead\n",
            "\n",
            "See the caveats in the documentation: https://pandas.pydata.org/pandas-docs/stable/user_guide/indexing.html#returning-a-view-versus-a-copy\n",
            "  df['Longitude'] = scaler.fit_transform(df[['Longitude']])\n",
            "<ipython-input-40-e3464eb901e5>:8: SettingWithCopyWarning: \n",
            "A value is trying to be set on a copy of a slice from a DataFrame.\n",
            "Try using .loc[row_indexer,col_indexer] = value instead\n",
            "\n",
            "See the caveats in the documentation: https://pandas.pydata.org/pandas-docs/stable/user_guide/indexing.html#returning-a-view-versus-a-copy\n",
            "  df['Latitude'] = scaler.fit_transform(df[['Latitude']])\n",
            "<ipython-input-40-e3464eb901e5>:9: SettingWithCopyWarning: \n",
            "A value is trying to be set on a copy of a slice from a DataFrame.\n",
            "Try using .loc[row_indexer,col_indexer] = value instead\n",
            "\n",
            "See the caveats in the documentation: https://pandas.pydata.org/pandas-docs/stable/user_guide/indexing.html#returning-a-view-versus-a-copy\n",
            "  df['date_n'] = scaler.fit_transform(df[['date_n']])\n",
            "<ipython-input-40-e3464eb901e5>:10: SettingWithCopyWarning: \n",
            "A value is trying to be set on a copy of a slice from a DataFrame.\n",
            "Try using .loc[row_indexer,col_indexer] = value instead\n",
            "\n",
            "See the caveats in the documentation: https://pandas.pydata.org/pandas-docs/stable/user_guide/indexing.html#returning-a-view-versus-a-copy\n",
            "  df['town_n'] = scaler.fit_transform(df[['town_n']])\n",
            "<ipython-input-40-e3464eb901e5>:11: SettingWithCopyWarning: \n",
            "A value is trying to be set on a copy of a slice from a DataFrame.\n",
            "Try using .loc[row_indexer,col_indexer] = value instead\n",
            "\n",
            "See the caveats in the documentation: https://pandas.pydata.org/pandas-docs/stable/user_guide/indexing.html#returning-a-view-versus-a-copy\n",
            "  df['address_n'] = scaler.fit_transform(df[['address_n']])\n",
            "<ipython-input-40-e3464eb901e5>:12: SettingWithCopyWarning: \n",
            "A value is trying to be set on a copy of a slice from a DataFrame.\n",
            "Try using .loc[row_indexer,col_indexer] = value instead\n",
            "\n",
            "See the caveats in the documentation: https://pandas.pydata.org/pandas-docs/stable/user_guide/indexing.html#returning-a-view-versus-a-copy\n",
            "  df['property_n'] = scaler.fit_transform(df[['property_n']])\n",
            "<ipython-input-40-e3464eb901e5>:13: SettingWithCopyWarning: \n",
            "A value is trying to be set on a copy of a slice from a DataFrame.\n",
            "Try using .loc[row_indexer,col_indexer] = value instead\n",
            "\n",
            "See the caveats in the documentation: https://pandas.pydata.org/pandas-docs/stable/user_guide/indexing.html#returning-a-view-versus-a-copy\n",
            "  df['residential_n'] = scaler.fit_transform(df[['residential_n']])\n"
          ]
        }
      ],
      "source": [
        "# MixMax Scaling\n",
        "from sklearn.preprocessing import MinMaxScaler\n",
        "\n",
        "scaler = MinMaxScaler()\n",
        "df['List Year'] = scaler.fit_transform(df[['List Year']])\n",
        "df['Assessed Value'] = scaler.fit_transform(df[['Assessed Value']])\n",
        "df['Longitude'] = scaler.fit_transform(df[['Longitude']])\n",
        "df['Latitude'] = scaler.fit_transform(df[['Latitude']])\n",
        "df['date_n'] = scaler.fit_transform(df[['date_n']])\n",
        "df['town_n'] = scaler.fit_transform(df[['town_n']])\n",
        "df['address_n'] = scaler.fit_transform(df[['address_n']])\n",
        "df['property_n'] = scaler.fit_transform(df[['property_n']])\n",
        "df['residential_n'] = scaler.fit_transform(df[['residential_n']])\n",
        "print(\"Min:\", df['List Year'].min())\n",
        "print(\"Max:\", df['Assessed Value'].max())\n",
        "print(\"Min:\", df['Longitude'].min())\n",
        "print(\"Max:\", df['Latitude'].max())\n",
        "print(\"Min:\", df['date_n'].min())\n",
        "print(\"Max:\", df['town_n'].max())\n",
        "print(\"Max:\", df['address_n'].max())\n",
        "print(\"Max:\", df['property_n'].max())\n",
        "print(\"Max:\", df['residential_n'].max())\n",
        "print(df)"
      ]
    },
    {
      "cell_type": "code",
      "execution_count": 41,
      "metadata": {
        "colab": {
          "base_uri": "https://localhost:8080/",
          "height": 74
        },
        "id": "IyxbCCsNQIYF",
        "outputId": "e1506c79-9407-4508-dde6-bac8a1be52ad"
      },
      "outputs": [
        {
          "output_type": "execute_result",
          "data": {
            "text/plain": [
              "LinearRegression()"
            ],
            "text/html": [
              "<style>#sk-container-id-1 {color: black;background-color: white;}#sk-container-id-1 pre{padding: 0;}#sk-container-id-1 div.sk-toggleable {background-color: white;}#sk-container-id-1 label.sk-toggleable__label {cursor: pointer;display: block;width: 100%;margin-bottom: 0;padding: 0.3em;box-sizing: border-box;text-align: center;}#sk-container-id-1 label.sk-toggleable__label-arrow:before {content: \"▸\";float: left;margin-right: 0.25em;color: #696969;}#sk-container-id-1 label.sk-toggleable__label-arrow:hover:before {color: black;}#sk-container-id-1 div.sk-estimator:hover label.sk-toggleable__label-arrow:before {color: black;}#sk-container-id-1 div.sk-toggleable__content {max-height: 0;max-width: 0;overflow: hidden;text-align: left;background-color: #f0f8ff;}#sk-container-id-1 div.sk-toggleable__content pre {margin: 0.2em;color: black;border-radius: 0.25em;background-color: #f0f8ff;}#sk-container-id-1 input.sk-toggleable__control:checked~div.sk-toggleable__content {max-height: 200px;max-width: 100%;overflow: auto;}#sk-container-id-1 input.sk-toggleable__control:checked~label.sk-toggleable__label-arrow:before {content: \"▾\";}#sk-container-id-1 div.sk-estimator input.sk-toggleable__control:checked~label.sk-toggleable__label {background-color: #d4ebff;}#sk-container-id-1 div.sk-label input.sk-toggleable__control:checked~label.sk-toggleable__label {background-color: #d4ebff;}#sk-container-id-1 input.sk-hidden--visually {border: 0;clip: rect(1px 1px 1px 1px);clip: rect(1px, 1px, 1px, 1px);height: 1px;margin: -1px;overflow: hidden;padding: 0;position: absolute;width: 1px;}#sk-container-id-1 div.sk-estimator {font-family: monospace;background-color: #f0f8ff;border: 1px dotted black;border-radius: 0.25em;box-sizing: border-box;margin-bottom: 0.5em;}#sk-container-id-1 div.sk-estimator:hover {background-color: #d4ebff;}#sk-container-id-1 div.sk-parallel-item::after {content: \"\";width: 100%;border-bottom: 1px solid gray;flex-grow: 1;}#sk-container-id-1 div.sk-label:hover label.sk-toggleable__label {background-color: #d4ebff;}#sk-container-id-1 div.sk-serial::before {content: \"\";position: absolute;border-left: 1px solid gray;box-sizing: border-box;top: 0;bottom: 0;left: 50%;z-index: 0;}#sk-container-id-1 div.sk-serial {display: flex;flex-direction: column;align-items: center;background-color: white;padding-right: 0.2em;padding-left: 0.2em;position: relative;}#sk-container-id-1 div.sk-item {position: relative;z-index: 1;}#sk-container-id-1 div.sk-parallel {display: flex;align-items: stretch;justify-content: center;background-color: white;position: relative;}#sk-container-id-1 div.sk-item::before, #sk-container-id-1 div.sk-parallel-item::before {content: \"\";position: absolute;border-left: 1px solid gray;box-sizing: border-box;top: 0;bottom: 0;left: 50%;z-index: -1;}#sk-container-id-1 div.sk-parallel-item {display: flex;flex-direction: column;z-index: 1;position: relative;background-color: white;}#sk-container-id-1 div.sk-parallel-item:first-child::after {align-self: flex-end;width: 50%;}#sk-container-id-1 div.sk-parallel-item:last-child::after {align-self: flex-start;width: 50%;}#sk-container-id-1 div.sk-parallel-item:only-child::after {width: 0;}#sk-container-id-1 div.sk-dashed-wrapped {border: 1px dashed gray;margin: 0 0.4em 0.5em 0.4em;box-sizing: border-box;padding-bottom: 0.4em;background-color: white;}#sk-container-id-1 div.sk-label label {font-family: monospace;font-weight: bold;display: inline-block;line-height: 1.2em;}#sk-container-id-1 div.sk-label-container {text-align: center;}#sk-container-id-1 div.sk-container {/* jupyter's `normalize.less` sets `[hidden] { display: none; }` but bootstrap.min.css set `[hidden] { display: none !important; }` so we also need the `!important` here to be able to override the default hidden behavior on the sphinx rendered scikit-learn.org. See: https://github.com/scikit-learn/scikit-learn/issues/21755 */display: inline-block !important;position: relative;}#sk-container-id-1 div.sk-text-repr-fallback {display: none;}</style><div id=\"sk-container-id-1\" class=\"sk-top-container\"><div class=\"sk-text-repr-fallback\"><pre>LinearRegression()</pre><b>In a Jupyter environment, please rerun this cell to show the HTML representation or trust the notebook. <br />On GitHub, the HTML representation is unable to render, please try loading this page with nbviewer.org.</b></div><div class=\"sk-container\" hidden><div class=\"sk-item\"><div class=\"sk-estimator sk-toggleable\"><input class=\"sk-toggleable__control sk-hidden--visually\" id=\"sk-estimator-id-1\" type=\"checkbox\" checked><label for=\"sk-estimator-id-1\" class=\"sk-toggleable__label sk-toggleable__label-arrow\">LinearRegression</label><div class=\"sk-toggleable__content\"><pre>LinearRegression()</pre></div></div></div></div></div>"
            ]
          },
          "metadata": {},
          "execution_count": 41
        }
      ],
      "source": [
        "mymodel=LinearRegression()\n",
        "mymodel.fit(x,y)"
      ]
    },
    {
      "cell_type": "code",
      "execution_count": 42,
      "metadata": {
        "colab": {
          "base_uri": "https://localhost:8080/"
        },
        "id": "tguq-h2xQtPQ",
        "outputId": "fc660d45-863b-4386-a421-aed8e4effb5a"
      },
      "outputs": [
        {
          "output_type": "execute_result",
          "data": {
            "text/plain": [
              "97010116.97974667"
            ]
          },
          "metadata": {},
          "execution_count": 42
        }
      ],
      "source": [
        "mymodel.intercept_"
      ]
    },
    {
      "cell_type": "code",
      "execution_count": 43,
      "metadata": {
        "colab": {
          "base_uri": "https://localhost:8080/"
        },
        "id": "X1kw3EQBQwur",
        "outputId": "32f0587b-bb97-41fc-d0c9-0a7b4c4c74b2"
      },
      "outputs": [
        {
          "output_type": "execute_result",
          "data": {
            "text/plain": [
              "array([-4.73765279e+04,  3.79310482e-01, -1.85205928e+05, -3.73095114e+05,\n",
              "        1.94634834e+02,  5.48744697e+02, -3.29135724e-02, -9.06280369e+04,\n",
              "        1.86629779e+05])"
            ]
          },
          "metadata": {},
          "execution_count": 43
        }
      ],
      "source": [
        "# x=df[['List Year', 'Assessed Value', 'Longitude', 'Latitude', 'date_n', 'town_n','address_n', 'property_n', 'residential_n']]\n",
        "mymodel.coef_"
      ]
    },
    {
      "cell_type": "code",
      "execution_count": 44,
      "metadata": {
        "id": "jgaa4LNYQzP4"
      },
      "outputs": [],
      "source": [
        "# pred_sales_amount = -4.73765279e+04('List Year') + 3.79310482e-01('Assessed Value') + -1.85205928e+05('Longitude') + -3.73095114e+05('Latitude')\n",
        "# + 1.94634834e+02('date_n') + 5.48744697e+02('town_n') + -3.29135724e-02('address_n') + -9.06280369e+04('property_n') + 1.86629779e+05('residential_n')\n",
        "# + 97010116.97974667"
      ]
    },
    {
      "cell_type": "code",
      "execution_count": 45,
      "metadata": {
        "colab": {
          "base_uri": "https://localhost:8080/"
        },
        "id": "ZwPyPZgRUGR-",
        "outputId": "be542b38-1774-4424-a646-7f204c8c402e"
      },
      "outputs": [
        {
          "output_type": "stream",
          "name": "stdout",
          "text": [
            "[359419.40629245 505174.38814472 369169.98918733 ... 377494.20164773\n",
            " 287972.51935191 330533.82370558]\n"
          ]
        }
      ],
      "source": [
        "y_pred_lin=mymodel.predict(x_test)\n",
        "print(y_pred_lin)"
      ]
    },
    {
      "cell_type": "code",
      "execution_count": 46,
      "metadata": {
        "colab": {
          "base_uri": "https://localhost:8080/",
          "height": 523
        },
        "id": "9VAYnkyVUYm7",
        "outputId": "94d5fd20-49d4-487a-9595-ffc96be43bf0"
      },
      "outputs": [
        {
          "output_type": "stream",
          "name": "stdout",
          "text": [
            "Mean Absolute Error (MAE): 279319.25530593714\n",
            "Mean Squared Error (MSE): 4982191624878.448\n",
            "R-squared: 0.11645654754593882\n"
          ]
        },
        {
          "output_type": "display_data",
          "data": {
            "text/plain": [
              "<Figure size 640x480 with 1 Axes>"
            ],
            "image/png": "[encoded data removed]"
          },
          "metadata": {}
        }
      ],
      "source": [
        "from sklearn.metrics import mean_absolute_error, mean_squared_error, r2_score\n",
        "# Calculate Mean Absolute Error (MAE)\n",
        "mae = mean_absolute_error(y_test, y_pred_lin)\n",
        "\n",
        "# Calculate Mean Squared Error (MSE)\n",
        "mse = mean_squared_error(y_test, y_pred_lin)\n",
        "\n",
        "# Calculate R-squared\n",
        "r_squared = r2_score(y_test, y_pred_lin)\n",
        "\n",
        "print(\"Mean Absolute Error (MAE):\", mae)\n",
        "print(\"Mean Squared Error (MSE):\", mse)\n",
        "print(\"R-squared:\", r_squared)\n",
        "\n",
        "# plot\n",
        "plt.scatter(y_test, y_pred_lin)\n",
        "plt.xlabel(\"Actual Values\")\n",
        "plt.ylabel(\"Predicted Values\")\n",
        "plt.title(\"Linear Regression: Actual vs Predicted Values\")\n",
        "plt.show()"
      ]
    },
    {
      "cell_type": "code",
      "execution_count": 47,
      "metadata": {
        "colab": {
          "base_uri": "https://localhost:8080/",
          "height": 74
        },
        "id": "2Dvfwx_ZV6z2",
        "outputId": "09230f35-7ca6-4005-fe18-057d7e3cfb5b"
      },
      "outputs": [
        {
          "output_type": "execute_result",
          "data": {
            "text/plain": [
              "Ridge()"
            ],
            "text/html": [
              "<style>#sk-container-id-2 {color: black;background-color: white;}#sk-container-id-2 pre{padding: 0;}#sk-container-id-2 div.sk-toggleable {background-color: white;}#sk-container-id-2 label.sk-toggleable__label {cursor: pointer;display: block;width: 100%;margin-bottom: 0;padding: 0.3em;box-sizing: border-box;text-align: center;}#sk-container-id-2 label.sk-toggleable__label-arrow:before {content: \"▸\";float: left;margin-right: 0.25em;color: #696969;}#sk-container-id-2 label.sk-toggleable__label-arrow:hover:before {color: black;}#sk-container-id-2 div.sk-estimator:hover label.sk-toggleable__label-arrow:before {color: black;}#sk-container-id-2 div.sk-toggleable__content {max-height: 0;max-width: 0;overflow: hidden;text-align: left;background-color: #f0f8ff;}#sk-container-id-2 div.sk-toggleable__content pre {margin: 0.2em;color: black;border-radius: 0.25em;background-color: #f0f8ff;}#sk-container-id-2 input.sk-toggleable__control:checked~div.sk-toggleable__content {max-height: 200px;max-width: 100%;overflow: auto;}#sk-container-id-2 input.sk-toggleable__control:checked~label.sk-toggleable__label-arrow:before {content: \"▾\";}#sk-container-id-2 div.sk-estimator input.sk-toggleable__control:checked~label.sk-toggleable__label {background-color: #d4ebff;}#sk-container-id-2 div.sk-label input.sk-toggleable__control:checked~label.sk-toggleable__label {background-color: #d4ebff;}#sk-container-id-2 input.sk-hidden--visually {border: 0;clip: rect(1px 1px 1px 1px);clip: rect(1px, 1px, 1px, 1px);height: 1px;margin: -1px;overflow: hidden;padding: 0;position: absolute;width: 1px;}#sk-container-id-2 div.sk-estimator {font-family: monospace;background-color: #f0f8ff;border: 1px dotted black;border-radius: 0.25em;box-sizing: border-box;margin-bottom: 0.5em;}#sk-container-id-2 div.sk-estimator:hover {background-color: #d4ebff;}#sk-container-id-2 div.sk-parallel-item::after {content: \"\";width: 100%;border-bottom: 1px solid gray;flex-grow: 1;}#sk-container-id-2 div.sk-label:hover label.sk-toggleable__label {background-color: #d4ebff;}#sk-container-id-2 div.sk-serial::before {content: \"\";position: absolute;border-left: 1px solid gray;box-sizing: border-box;top: 0;bottom: 0;left: 50%;z-index: 0;}#sk-container-id-2 div.sk-serial {display: flex;flex-direction: column;align-items: center;background-color: white;padding-right: 0.2em;padding-left: 0.2em;position: relative;}#sk-container-id-2 div.sk-item {position: relative;z-index: 1;}#sk-container-id-2 div.sk-parallel {display: flex;align-items: stretch;justify-content: center;background-color: white;position: relative;}#sk-container-id-2 div.sk-item::before, #sk-container-id-2 div.sk-parallel-item::before {content: \"\";position: absolute;border-left: 1px solid gray;box-sizing: border-box;top: 0;bottom: 0;left: 50%;z-index: -1;}#sk-container-id-2 div.sk-parallel-item {display: flex;flex-direction: column;z-index: 1;position: relative;background-color: white;}#sk-container-id-2 div.sk-parallel-item:first-child::after {align-self: flex-end;width: 50%;}#sk-container-id-2 div.sk-parallel-item:last-child::after {align-self: flex-start;width: 50%;}#sk-container-id-2 div.sk-parallel-item:only-child::after {width: 0;}#sk-container-id-2 div.sk-dashed-wrapped {border: 1px dashed gray;margin: 0 0.4em 0.5em 0.4em;box-sizing: border-box;padding-bottom: 0.4em;background-color: white;}#sk-container-id-2 div.sk-label label {font-family: monospace;font-weight: bold;display: inline-block;line-height: 1.2em;}#sk-container-id-2 div.sk-label-container {text-align: center;}#sk-container-id-2 div.sk-container {/* jupyter's `normalize.less` sets `[hidden] { display: none; }` but bootstrap.min.css set `[hidden] { display: none !important; }` so we also need the `!important` here to be able to override the default hidden behavior on the sphinx rendered scikit-learn.org. See: https://github.com/scikit-learn/scikit-learn/issues/21755 */display: inline-block !important;position: relative;}#sk-container-id-2 div.sk-text-repr-fallback {display: none;}</style><div id=\"sk-container-id-2\" class=\"sk-top-container\"><div class=\"sk-text-repr-fallback\"><pre>Ridge()</pre><b>In a Jupyter environment, please rerun this cell to show the HTML representation or trust the notebook. <br />On GitHub, the HTML representation is unable to render, please try loading this page with nbviewer.org.</b></div><div class=\"sk-container\" hidden><div class=\"sk-item\"><div class=\"sk-estimator sk-toggleable\"><input class=\"sk-toggleable__control sk-hidden--visually\" id=\"sk-estimator-id-2\" type=\"checkbox\" checked><label for=\"sk-estimator-id-2\" class=\"sk-toggleable__label sk-toggleable__label-arrow\">Ridge</label><div class=\"sk-toggleable__content\"><pre>Ridge()</pre></div></div></div></div></div>"
            ]
          },
          "metadata": {},
          "execution_count": 47
        }
      ],
      "source": [
        "from sklearn.linear_model import Ridge\n",
        "mymodel_ridge=Ridge()\n",
        "mymodel_ridge.fit(x,y)"
      ]
    },
    {
      "cell_type": "code",
      "execution_count": 48,
      "metadata": {
        "colab": {
          "base_uri": "https://localhost:8080/"
        },
        "id": "5L1ue8miVvmo",
        "outputId": "3b983238-650d-4ecc-ba08-ca577c60e484"
      },
      "outputs": [
        {
          "output_type": "stream",
          "name": "stdout",
          "text": [
            "[359419.40629245 505174.38814472 369169.98918733 ... 377494.20164773\n",
            " 287972.51935191 330533.82370558]\n"
          ]
        }
      ],
      "source": [
        "y_pred_rid=mymodel.predict(x_test)\n",
        "print(y_pred_rid)"
      ]
    },
    {
      "cell_type": "code",
      "execution_count": 49,
      "metadata": {
        "colab": {
          "base_uri": "https://localhost:8080/",
          "height": 523
        },
        "id": "X8GL_515UaGc",
        "outputId": "44a2568b-22fd-45a0-fb45-85c086f0cd7a"
      },
      "outputs": [
        {
          "output_type": "stream",
          "name": "stdout",
          "text": [
            "Mean Squared Error: 4982191624878.448\n",
            "Mean Absolute Error (MAE): 279319.25530593714\n",
            "R-squared: 0.11645654754593882\n"
          ]
        },
        {
          "output_type": "display_data",
          "data": {
            "text/plain": [
              "<Figure size 640x480 with 1 Axes>"
            ],
            "image/png": "[encoded data removed]"
          },
          "metadata": {}
        }
      ],
      "source": [
        "from sklearn.linear_model import Ridge\n",
        "\n",
        "# make ridge regression model\n",
        "ridge_regression = Ridge(alpha=1.0)\n",
        "\n",
        "# Fit model to training data\n",
        "ridge_regression.fit(x_train, y_train)\n",
        "\n",
        "# predict test data\n",
        "y_prediction = ridge_regression.predict(x_test)\n",
        "\n",
        "# evaluate\n",
        "mse = mean_squared_error(y_test, y_pred_rid)\n",
        "print(f\"Mean Squared Error: {mse}\")\n",
        "\n",
        "# Calculate Mean Absolute Error (MAE)\n",
        "mae = mean_absolute_error(y_test, y_pred_rid)\n",
        "print(\"Mean Absolute Error (MAE):\", mae)\n",
        "\n",
        "# Calculate R-squared\n",
        "r_squared = r2_score(y_test, y_pred_rid)\n",
        "print(\"R-squared:\", r_squared)\n",
        "\n",
        "# plot actual vs prediction val\n",
        "plt.scatter(y_test, y_pred_rid)\n",
        "plt.xlabel(\"Actual Values\")\n",
        "plt.ylabel(\"Predicted Values\")\n",
        "plt.title(\"Ridge Regression: Actual vs Predicted Values\")\n",
        "plt.show()"
      ]
    },
    {
      "cell_type": "code",
      "execution_count": 50,
      "metadata": {
        "colab": {
          "base_uri": "https://localhost:8080/",
          "height": 128
        },
        "id": "SgHmykYHWLBj",
        "outputId": "0613ef19-9c57-45cd-c0bd-0e75bdc625d2"
      },
      "outputs": [
        {
          "output_type": "stream",
          "name": "stderr",
          "text": [
            "/usr/local/lib/python3.10/dist-packages/sklearn/linear_model/_coordinate_descent.py:631: ConvergenceWarning: Objective did not converge. You might want to increase the number of iterations, check the scale of the features or consider increasing regularisation. Duality gap: 1.419e+19, tolerance: 2.883e+15\n",
            "  model = cd_fast.enet_coordinate_descent(\n"
          ]
        },
        {
          "output_type": "execute_result",
          "data": {
            "text/plain": [
              "Lasso()"
            ],
            "text/html": [
              "<style>#sk-container-id-3 {color: black;background-color: white;}#sk-container-id-3 pre{padding: 0;}#sk-container-id-3 div.sk-toggleable {background-color: white;}#sk-container-id-3 label.sk-toggleable__label {cursor: pointer;display: block;width: 100%;margin-bottom: 0;padding: 0.3em;box-sizing: border-box;text-align: center;}#sk-container-id-3 label.sk-toggleable__label-arrow:before {content: \"▸\";float: left;margin-right: 0.25em;color: #696969;}#sk-container-id-3 label.sk-toggleable__label-arrow:hover:before {color: black;}#sk-container-id-3 div.sk-estimator:hover label.sk-toggleable__label-arrow:before {color: black;}#sk-container-id-3 div.sk-toggleable__content {max-height: 0;max-width: 0;overflow: hidden;text-align: left;background-color: #f0f8ff;}#sk-container-id-3 div.sk-toggleable__content pre {margin: 0.2em;color: black;border-radius: 0.25em;background-color: #f0f8ff;}#sk-container-id-3 input.sk-toggleable__control:checked~div.sk-toggleable__content {max-height: 200px;max-width: 100%;overflow: auto;}#sk-container-id-3 input.sk-toggleable__control:checked~label.sk-toggleable__label-arrow:before {content: \"▾\";}#sk-container-id-3 div.sk-estimator input.sk-toggleable__control:checked~label.sk-toggleable__label {background-color: #d4ebff;}#sk-container-id-3 div.sk-label input.sk-toggleable__control:checked~label.sk-toggleable__label {background-color: #d4ebff;}#sk-container-id-3 input.sk-hidden--visually {border: 0;clip: rect(1px 1px 1px 1px);clip: rect(1px, 1px, 1px, 1px);height: 1px;margin: -1px;overflow: hidden;padding: 0;position: absolute;width: 1px;}#sk-container-id-3 div.sk-estimator {font-family: monospace;background-color: #f0f8ff;border: 1px dotted black;border-radius: 0.25em;box-sizing: border-box;margin-bottom: 0.5em;}#sk-container-id-3 div.sk-estimator:hover {background-color: #d4ebff;}#sk-container-id-3 div.sk-parallel-item::after {content: \"\";width: 100%;border-bottom: 1px solid gray;flex-grow: 1;}#sk-container-id-3 div.sk-label:hover label.sk-toggleable__label {background-color: #d4ebff;}#sk-container-id-3 div.sk-serial::before {content: \"\";position: absolute;border-left: 1px solid gray;box-sizing: border-box;top: 0;bottom: 0;left: 50%;z-index: 0;}#sk-container-id-3 div.sk-serial {display: flex;flex-direction: column;align-items: center;background-color: white;padding-right: 0.2em;padding-left: 0.2em;position: relative;}#sk-container-id-3 div.sk-item {position: relative;z-index: 1;}#sk-container-id-3 div.sk-parallel {display: flex;align-items: stretch;justify-content: center;background-color: white;position: relative;}#sk-container-id-3 div.sk-item::before, #sk-container-id-3 div.sk-parallel-item::before {content: \"\";position: absolute;border-left: 1px solid gray;box-sizing: border-box;top: 0;bottom: 0;left: 50%;z-index: -1;}#sk-container-id-3 div.sk-parallel-item {display: flex;flex-direction: column;z-index: 1;position: relative;background-color: white;}#sk-container-id-3 div.sk-parallel-item:first-child::after {align-self: flex-end;width: 50%;}#sk-container-id-3 div.sk-parallel-item:last-child::after {align-self: flex-start;width: 50%;}#sk-container-id-3 div.sk-parallel-item:only-child::after {width: 0;}#sk-container-id-3 div.sk-dashed-wrapped {border: 1px dashed gray;margin: 0 0.4em 0.5em 0.4em;box-sizing: border-box;padding-bottom: 0.4em;background-color: white;}#sk-container-id-3 div.sk-label label {font-family: monospace;font-weight: bold;display: inline-block;line-height: 1.2em;}#sk-container-id-3 div.sk-label-container {text-align: center;}#sk-container-id-3 div.sk-container {/* jupyter's `normalize.less` sets `[hidden] { display: none; }` but bootstrap.min.css set `[hidden] { display: none !important; }` so we also need the `!important` here to be able to override the default hidden behavior on the sphinx rendered scikit-learn.org. See: https://github.com/scikit-learn/scikit-learn/issues/21755 */display: inline-block !important;position: relative;}#sk-container-id-3 div.sk-text-repr-fallback {display: none;}</style><div id=\"sk-container-id-3\" class=\"sk-top-container\"><div class=\"sk-text-repr-fallback\"><pre>Lasso()</pre><b>In a Jupyter environment, please rerun this cell to show the HTML representation or trust the notebook. <br />On GitHub, the HTML representation is unable to render, please try loading this page with nbviewer.org.</b></div><div class=\"sk-container\" hidden><div class=\"sk-item\"><div class=\"sk-estimator sk-toggleable\"><input class=\"sk-toggleable__control sk-hidden--visually\" id=\"sk-estimator-id-3\" type=\"checkbox\" checked><label for=\"sk-estimator-id-3\" class=\"sk-toggleable__label sk-toggleable__label-arrow\">Lasso</label><div class=\"sk-toggleable__content\"><pre>Lasso()</pre></div></div></div></div></div>"
            ]
          },
          "metadata": {},
          "execution_count": 50
        }
      ],
      "source": [
        "from sklearn.linear_model import Lasso\n",
        "mymodel_lasso=Lasso()\n",
        "mymodel_lasso.fit(x,y)"
      ]
    },
    {
      "cell_type": "code",
      "execution_count": 51,
      "metadata": {
        "colab": {
          "base_uri": "https://localhost:8080/"
        },
        "id": "duPB_e_SWSmK",
        "outputId": "b1d7fe37-786a-404c-d5b5-f31eb253faa7"
      },
      "outputs": [
        {
          "output_type": "stream",
          "name": "stdout",
          "text": [
            "[359419.40629245 505174.38814472 369169.98918733 ... 377494.20164773\n",
            " 287972.51935191 330533.82370558]\n"
          ]
        }
      ],
      "source": [
        "y_pred_las=mymodel.predict(x_test)\n",
        "print(y_pred_las)"
      ]
    },
    {
      "cell_type": "code",
      "execution_count": 52,
      "metadata": {
        "colab": {
          "base_uri": "https://localhost:8080/",
          "height": 577
        },
        "id": "V3E7ZEICUjbl",
        "outputId": "a741b84b-f4ef-479c-da08-8819abfed7d6"
      },
      "outputs": [
        {
          "output_type": "stream",
          "name": "stderr",
          "text": [
            "/usr/local/lib/python3.10/dist-packages/sklearn/linear_model/_coordinate_descent.py:631: ConvergenceWarning: Objective did not converge. You might want to increase the number of iterations, check the scale of the features or consider increasing regularisation. Duality gap: 1.367e+19, tolerance: 2.765e+15\n",
            "  model = cd_fast.enet_coordinate_descent(\n"
          ]
        },
        {
          "output_type": "stream",
          "name": "stdout",
          "text": [
            "Mean Squared Error: 4982191624878.448\n",
            "Mean Absolute Error (MAE): 279319.25530593714\n",
            "R-squared: 0.11645654754593882\n"
          ]
        },
        {
          "output_type": "display_data",
          "data": {
            "text/plain": [
              "<Figure size 640x480 with 1 Axes>"
            ],
            "image/png": "[encoded data removed]"
          },
          "metadata": {}
        }
      ],
      "source": [
        "from sklearn.linear_model import Lasso\n",
        "\n",
        "# make Lasso regression\n",
        "lasso = Lasso(alpha=1.0)\n",
        "\n",
        "# Fit model to training data\n",
        "lasso.fit(x_train, y_train)\n",
        "\n",
        "# Predict on test data\n",
        "y_prediction = lasso.predict(x_test)\n",
        "\n",
        "# Evaluate model\n",
        "mse = mean_squared_error(y_test, y_pred_las)\n",
        "print(f\"Mean Squared Error: {mse}\")\n",
        "\n",
        "# Calculate Mean Absolute Error (MAE)\n",
        "mae = mean_absolute_error(y_test, y_pred_las)\n",
        "print(\"Mean Absolute Error (MAE):\", mae)\n",
        "\n",
        "# Calculate R-squared\n",
        "r_squared = r2_score(y_test, y_pred_las)\n",
        "print(\"R-squared:\", r_squared)\n",
        "\n",
        "# Plot predictions vs actual val\n",
        "plt.scatter(y_test, y_pred_las)\n",
        "plt.xlabel(\"Actual Values\")\n",
        "plt.ylabel(\"Predicted Values\")\n",
        "plt.title(\"Lasso Regression: Actual vs Predicted Values\")\n",
        "plt.show()"
      ]
    },
    {
      "cell_type": "code",
      "execution_count": 53,
      "metadata": {
        "colab": {
          "base_uri": "https://localhost:8080/",
          "height": 694
        },
        "id": "SG5DiqfSXdbR",
        "outputId": "2e649fa0-a8f7-4345-e0cc-1c9837c8bb1a"
      },
      "outputs": [
        {
          "output_type": "execute_result",
          "data": {
            "text/plain": [
              "        Date Recorded  List Year        Town                    Address  \\\n",
              "0          2021-04-14       0.95     Ansonia              323 BEAVER ST   \n",
              "1          2021-05-26       0.95     Ansonia             152 JACKSON ST   \n",
              "2          2021-09-13       0.95     Ansonia            230 WAKELEE AVE   \n",
              "3          2020-12-14       0.95     Ansonia                57 PLATT ST   \n",
              "4          2021-09-07       0.95        Avon               245 NEW ROAD   \n",
              "...               ...        ...         ...                        ...   \n",
              "1054154    2021-11-16       1.00   Watertown            50 SUMMIT RIDGE   \n",
              "1054155    2022-09-20       1.00    Woodbury  89 TAMARACK LANR UNIT 89A   \n",
              "1054156    2022-05-06       1.00    Woodbury         69 BACON POND ROAD   \n",
              "1054157    2022-06-29       1.00  West Haven             114 TUTHILL ST   \n",
              "1054158    2022-04-26       1.00     Windsor         200 BLOOMFIELD AVE   \n",
              "\n",
              "         Assessed Value  Sale Amount  Sales Ratio Property Type  \\\n",
              "0              0.000151     248400.0       0.5354   Residential   \n",
              "1              0.000125     239900.0       0.4606   Residential   \n",
              "2              0.000171     325000.0       0.4630    Commercial   \n",
              "3              0.000145     202500.0       0.6291   Residential   \n",
              "4              0.000247     400000.0       0.5441   Residential   \n",
              "...                 ...          ...          ...           ...   \n",
              "1054154        0.000298     430000.0       0.6118   Residential   \n",
              "1054155        0.000091     200000.0       0.3990   Residential   \n",
              "1054156        0.000090     360000.0       0.2210   Vacant Land   \n",
              "1054157        0.000133     275000.0       0.4276   Residential   \n",
              "1054158        0.000148     190000.0       0.6878    Commercial   \n",
              "\n",
              "        Residential Type  Longitude  Latitude    date_n    town_n  address_n  \\\n",
              "0          Single Family   0.962419  0.661486  0.936311  0.011834   0.516049   \n",
              "1           Three Family   0.966212  0.675595  0.941705  0.011834   0.199834   \n",
              "2                    NaN   0.966212  0.675595  0.955043  0.011834   0.374410   \n",
              "3             Two Family   0.966212  0.675595  0.921325  0.011834   0.749935   \n",
              "4          Single Family   0.966212  0.675595  0.954443  0.023669   0.395806   \n",
              "...                  ...        ...       ...       ...       ...        ...   \n",
              "1054154    Single Family   0.961488  0.683792  0.962536  0.905325   0.702888   \n",
              "1054155            Condo   0.959132  0.677257  0.998352  0.994083   0.933844   \n",
              "1054156              NaN   0.959960  0.679757  0.982017  0.994083   0.823827   \n",
              "1054157    Single Family   0.964258  0.655012  0.988611  0.917160   0.080266   \n",
              "1054158              NaN   0.970714  0.708919  0.980668  0.970414   0.319038   \n",
              "\n",
              "         property_n  residential_n  Affordable  \n",
              "0          0.545455            0.4           0  \n",
              "1          0.545455            0.6           0  \n",
              "2          0.090909            1.0           0  \n",
              "3          0.545455            0.8           0  \n",
              "4          0.545455            0.4           1  \n",
              "...             ...            ...         ...  \n",
              "1054154    0.545455            0.4           1  \n",
              "1054155    0.545455            0.0           0  \n",
              "1054156    0.909091            1.0           1  \n",
              "1054157    0.545455            0.4           0  \n",
              "1054158    0.090909            1.0           0  \n",
              "\n",
              "[1045454 rows x 17 columns]"
            ],
            "text/html": [
              "\n",
              "  <div id=\"df-078cd6cc-b8e5-474b-8a80-e858bab20427\" class=\"colab-df-container\">\n",
              "    <div>\n",
              "<style scoped>\n",
              "    .dataframe tbody tr th:only-of-type {\n",
              "        vertical-align: middle;\n",
              "    }\n",
              "\n",
              "    .dataframe tbody tr th {\n",
              "        vertical-align: top;\n",
              "    }\n",
              "\n",
              "    .dataframe thead th {\n",
              "        text-align: right;\n",
              "    }\n",
              "</style>\n",
              "<table border=\"1\" class=\"dataframe\">\n",
              "  <thead>\n",
              "    <tr style=\"text-align: right;\">\n",
              "      <th></th>\n",
              "      <th>Date Recorded</th>\n",
              "      <th>List Year</th>\n",
              "      <th>Town</th>\n",
              "      <th>Address</th>\n",
              "      <th>Assessed Value</th>\n",
              "      <th>Sale Amount</th>\n",
              "      <th>Sales Ratio</th>\n",
              "      <th>Property Type</th>\n",
              "      <th>Residential Type</th>\n",
              "      <th>Longitude</th>\n",
              "      <th>Latitude</th>\n",
              "      <th>date_n</th>\n",
              "      <th>town_n</th>\n",
              "      <th>address_n</th>\n",
              "      <th>property_n</th>\n",
              "      <th>residential_n</th>\n",
              "      <th>Affordable</th>\n",
              "    </tr>\n",
              "  </thead>\n",
              "  <tbody>\n",
              "    <tr>\n",
              "      <th>0</th>\n",
              "      <td>2021-04-14</td>\n",
              "      <td>0.95</td>\n",
              "      <td>Ansonia</td>\n",
              "      <td>323 BEAVER ST</td>\n",
              "      <td>0.000151</td>\n",
              "      <td>248400.0</td>\n",
              "      <td>0.5354</td>\n",
              "      <td>Residential</td>\n",
              "      <td>Single Family</td>\n",
              "      <td>0.962419</td>\n",
              "      <td>0.661486</td>\n",
              "      <td>0.936311</td>\n",
              "      <td>0.011834</td>\n",
              "      <td>0.516049</td>\n",
              "      <td>0.545455</td>\n",
              "      <td>0.4</td>\n",
              "      <td>0</td>\n",
              "    </tr>\n",
              "    <tr>\n",
              "      <th>1</th>\n",
              "      <td>2021-05-26</td>\n",
              "      <td>0.95</td>\n",
              "      <td>Ansonia</td>\n",
              "      <td>152 JACKSON ST</td>\n",
              "      <td>0.000125</td>\n",
              "      <td>239900.0</td>\n",
              "      <td>0.4606</td>\n",
              "      <td>Residential</td>\n",
              "      <td>Three Family</td>\n",
              "      <td>0.966212</td>\n",
              "      <td>0.675595</td>\n",
              "      <td>0.941705</td>\n",
              "      <td>0.011834</td>\n",
              "      <td>0.199834</td>\n",
              "      <td>0.545455</td>\n",
              "      <td>0.6</td>\n",
              "      <td>0</td>\n",
              "    </tr>\n",
              "    <tr>\n",
              "      <th>2</th>\n",
              "      <td>2021-09-13</td>\n",
              "      <td>0.95</td>\n",
              "      <td>Ansonia</td>\n",
              "      <td>230 WAKELEE AVE</td>\n",
              "      <td>0.000171</td>\n",
              "      <td>325000.0</td>\n",
              "      <td>0.4630</td>\n",
              "      <td>Commercial</td>\n",
              "      <td>NaN</td>\n",
              "      <td>0.966212</td>\n",
              "      <td>0.675595</td>\n",
              "      <td>0.955043</td>\n",
              "      <td>0.011834</td>\n",
              "      <td>0.374410</td>\n",
              "      <td>0.090909</td>\n",
              "      <td>1.0</td>\n",
              "      <td>0</td>\n",
              "    </tr>\n",
              "    <tr>\n",
              "      <th>3</th>\n",
              "      <td>2020-12-14</td>\n",
              "      <td>0.95</td>\n",
              "      <td>Ansonia</td>\n",
              "      <td>57 PLATT ST</td>\n",
              "      <td>0.000145</td>\n",
              "      <td>202500.0</td>\n",
              "      <td>0.6291</td>\n",
              "      <td>Residential</td>\n",
              "      <td>Two Family</td>\n",
              "      <td>0.966212</td>\n",
              "      <td>0.675595</td>\n",
              "      <td>0.921325</td>\n",
              "      <td>0.011834</td>\n",
              "      <td>0.749935</td>\n",
              "      <td>0.545455</td>\n",
              "      <td>0.8</td>\n",
              "      <td>0</td>\n",
              "    </tr>\n",
              "    <tr>\n",
              "      <th>4</th>\n",
              "      <td>2021-09-07</td>\n",
              "      <td>0.95</td>\n",
              "      <td>Avon</td>\n",
              "      <td>245 NEW ROAD</td>\n",
              "      <td>0.000247</td>\n",
              "      <td>400000.0</td>\n",
              "      <td>0.5441</td>\n",
              "      <td>Residential</td>\n",
              "      <td>Single Family</td>\n",
              "      <td>0.966212</td>\n",
              "      <td>0.675595</td>\n",
              "      <td>0.954443</td>\n",
              "      <td>0.023669</td>\n",
              "      <td>0.395806</td>\n",
              "      <td>0.545455</td>\n",
              "      <td>0.4</td>\n",
              "      <td>1</td>\n",
              "    </tr>\n",
              "    <tr>\n",
              "      <th>...</th>\n",
              "      <td>...</td>\n",
              "      <td>...</td>\n",
              "      <td>...</td>\n",
              "      <td>...</td>\n",
              "      <td>...</td>\n",
              "      <td>...</td>\n",
              "      <td>...</td>\n",
              "      <td>...</td>\n",
              "      <td>...</td>\n",
              "      <td>...</td>\n",
              "      <td>...</td>\n",
              "      <td>...</td>\n",
              "      <td>...</td>\n",
              "      <td>...</td>\n",
              "      <td>...</td>\n",
              "      <td>...</td>\n",
              "      <td>...</td>\n",
              "    </tr>\n",
              "    <tr>\n",
              "      <th>1054154</th>\n",
              "      <td>2021-11-16</td>\n",
              "      <td>1.00</td>\n",
              "      <td>Watertown</td>\n",
              "      <td>50 SUMMIT RIDGE</td>\n",
              "      <td>0.000298</td>\n",
              "      <td>430000.0</td>\n",
              "      <td>0.6118</td>\n",
              "      <td>Residential</td>\n",
              "      <td>Single Family</td>\n",
              "      <td>0.961488</td>\n",
              "      <td>0.683792</td>\n",
              "      <td>0.962536</td>\n",
              "      <td>0.905325</td>\n",
              "      <td>0.702888</td>\n",
              "      <td>0.545455</td>\n",
              "      <td>0.4</td>\n",
              "      <td>1</td>\n",
              "    </tr>\n",
              "    <tr>\n",
              "      <th>1054155</th>\n",
              "      <td>2022-09-20</td>\n",
              "      <td>1.00</td>\n",
              "      <td>Woodbury</td>\n",
              "      <td>89 TAMARACK LANR UNIT 89A</td>\n",
              "      <td>0.000091</td>\n",
              "      <td>200000.0</td>\n",
              "      <td>0.3990</td>\n",
              "      <td>Residential</td>\n",
              "      <td>Condo</td>\n",
              "      <td>0.959132</td>\n",
              "      <td>0.677257</td>\n",
              "      <td>0.998352</td>\n",
              "      <td>0.994083</td>\n",
              "      <td>0.933844</td>\n",
              "      <td>0.545455</td>\n",
              "      <td>0.0</td>\n",
              "      <td>0</td>\n",
              "    </tr>\n",
              "    <tr>\n",
              "      <th>1054156</th>\n",
              "      <td>2022-05-06</td>\n",
              "      <td>1.00</td>\n",
              "      <td>Woodbury</td>\n",
              "      <td>69 BACON POND ROAD</td>\n",
              "      <td>0.000090</td>\n",
              "      <td>360000.0</td>\n",
              "      <td>0.2210</td>\n",
              "      <td>Vacant Land</td>\n",
              "      <td>NaN</td>\n",
              "      <td>0.959960</td>\n",
              "      <td>0.679757</td>\n",
              "      <td>0.982017</td>\n",
              "      <td>0.994083</td>\n",
              "      <td>0.823827</td>\n",
              "      <td>0.909091</td>\n",
              "      <td>1.0</td>\n",
              "      <td>1</td>\n",
              "    </tr>\n",
              "    <tr>\n",
              "      <th>1054157</th>\n",
              "      <td>2022-06-29</td>\n",
              "      <td>1.00</td>\n",
              "      <td>West Haven</td>\n",
              "      <td>114 TUTHILL ST</td>\n",
              "      <td>0.000133</td>\n",
              "      <td>275000.0</td>\n",
              "      <td>0.4276</td>\n",
              "      <td>Residential</td>\n",
              "      <td>Single Family</td>\n",
              "      <td>0.964258</td>\n",
              "      <td>0.655012</td>\n",
              "      <td>0.988611</td>\n",
              "      <td>0.917160</td>\n",
              "      <td>0.080266</td>\n",
              "      <td>0.545455</td>\n",
              "      <td>0.4</td>\n",
              "      <td>0</td>\n",
              "    </tr>\n",
              "    <tr>\n",
              "      <th>1054158</th>\n",
              "      <td>2022-04-26</td>\n",
              "      <td>1.00</td>\n",
              "      <td>Windsor</td>\n",
              "      <td>200 BLOOMFIELD AVE</td>\n",
              "      <td>0.000148</td>\n",
              "      <td>190000.0</td>\n",
              "      <td>0.6878</td>\n",
              "      <td>Commercial</td>\n",
              "      <td>NaN</td>\n",
              "      <td>0.970714</td>\n",
              "      <td>0.708919</td>\n",
              "      <td>0.980668</td>\n",
              "      <td>0.970414</td>\n",
              "      <td>0.319038</td>\n",
              "      <td>0.090909</td>\n",
              "      <td>1.0</td>\n",
              "      <td>0</td>\n",
              "    </tr>\n",
              "  </tbody>\n",
              "</table>\n",
              "<p>1045454 rows × 17 columns</p>\n",
              "</div>\n",
              "    <div class=\"colab-df-buttons\">\n",
              "\n",
              "  <div class=\"colab-df-container\">\n",
              "    <button class=\"colab-df-convert\" onclick=\"convertToInteractive('df-078cd6cc-b8e5-474b-8a80-e858bab20427')\"\n",
              "            title=\"Convert this dataframe to an interactive table.\"\n",
              "            style=\"display:none;\">\n",
              "\n",
              "  <svg xmlns=\"http://www.w3.org/2000/svg\" height=\"24px\" viewBox=\"0 -960 960 960\">\n",
              "    <path d=\"M120-120v-720h720v720H120Zm60-500h600v-160H180v160Zm220 220h160v-160H400v160Zm0 220h160v-160H400v160ZM180-400h160v-160H180v160Zm440 0h160v-160H620v160ZM180-180h160v-160H180v160Zm440 0h160v-160H620v160Z\"/>\n",
              "  </svg>\n",
              "    </button>\n",
              "\n",
              "  <style>\n",
              "    .colab-df-container {\n",
              "      display:flex;\n",
              "      gap: 12px;\n",
              "    }\n",
              "\n",
              "    .colab-df-convert {\n",
              "      background-color: #E8F0FE;\n",
              "      border: none;\n",
              "      border-radius: 50%;\n",
              "      cursor: pointer;\n",
              "      display: none;\n",
              "      fill: #1967D2;\n",
              "      height: 32px;\n",
              "      padding: 0 0 0 0;\n",
              "      width: 32px;\n",
              "    }\n",
              "\n",
              "    .colab-df-convert:hover {\n",
              "      background-color: #E2EBFA;\n",
              "      box-shadow: 0px 1px 2px rgba(60, 64, 67, 0.3), 0px 1px 3px 1px rgba(60, 64, 67, 0.15);\n",
              "      fill: #174EA6;\n",
              "    }\n",
              "\n",
              "    .colab-df-buttons div {\n",
              "      margin-bottom: 4px;\n",
              "    }\n",
              "\n",
              "    [theme=dark] .colab-df-convert {\n",
              "      background-color: #3B4455;\n",
              "      fill: #D2E3FC;\n",
              "    }\n",
              "\n",
              "    [theme=dark] .colab-df-convert:hover {\n",
              "      background-color: #434B5C;\n",
              "      box-shadow: 0px 1px 3px 1px rgba(0, 0, 0, 0.15);\n",
              "      filter: drop-shadow(0px 1px 2px rgba(0, 0, 0, 0.3));\n",
              "      fill: #FFFFFF;\n",
              "    }\n",
              "  </style>\n",
              "\n",
              "    <script>\n",
              "      const buttonEl =\n",
              "        document.querySelector('#df-078cd6cc-b8e5-474b-8a80-e858bab20427 button.colab-df-convert');\n",
              "      buttonEl.style.display =\n",
              "        google.colab.kernel.accessAllowed ? 'block' : 'none';\n",
              "\n",
              "      async function convertToInteractive(key) {\n",
              "        const element = document.querySelector('#df-078cd6cc-b8e5-474b-8a80-e858bab20427');\n",
              "        const dataTable =\n",
              "          await google.colab.kernel.invokeFunction('convertToInteractive',\n",
              "                                                    [key], {});\n",
              "        if (!dataTable) return;\n",
              "\n",
              "        const docLinkHtml = 'Like what you see? Visit the ' +\n",
              "          '<a target=\"_blank\" href=https://colab.research.google.com/notebooks/data_table.ipynb>data table notebook</a>'\n",
              "          + ' to learn more about interactive tables.';\n",
              "        element.innerHTML = '';\n",
              "        dataTable['output_type'] = 'display_data';\n",
              "        await google.colab.output.renderOutput(dataTable, element);\n",
              "        const docLink = document.createElement('div');\n",
              "        docLink.innerHTML = docLinkHtml;\n",
              "        element.appendChild(docLink);\n",
              "      }\n",
              "    </script>\n",
              "  </div>\n",
              "\n",
              "\n",
              "<div id=\"df-321320f7-93ba-4ee1-8c00-10220957f3d0\">\n",
              "  <button class=\"colab-df-quickchart\" onclick=\"quickchart('df-321320f7-93ba-4ee1-8c00-10220957f3d0')\"\n",
              "            title=\"Suggest charts\"\n",
              "            style=\"display:none;\">\n",
              "\n",
              "<svg xmlns=\"http://www.w3.org/2000/svg\" height=\"24px\"viewBox=\"0 0 24 24\"\n",
              "     width=\"24px\">\n",
              "    <g>\n",
              "        <path d=\"M19 3H5c-1.1 0-2 .9-2 2v14c0 1.1.9 2 2 2h14c1.1 0 2-.9 2-2V5c0-1.1-.9-2-2-2zM9 17H7v-7h2v7zm4 0h-2V7h2v10zm4 0h-2v-4h2v4z\"/>\n",
              "    </g>\n",
              "</svg>\n",
              "  </button>\n",
              "\n",
              "<style>\n",
              "  .colab-df-quickchart {\n",
              "      --bg-color: #E8F0FE;\n",
              "      --fill-color: #1967D2;\n",
              "      --hover-bg-color: #E2EBFA;\n",
              "      --hover-fill-color: #174EA6;\n",
              "      --disabled-fill-color: #AAA;\n",
              "      --disabled-bg-color: #DDD;\n",
              "  }\n",
              "\n",
              "  [theme=dark] .colab-df-quickchart {\n",
              "      --bg-color: #3B4455;\n",
              "      --fill-color: #D2E3FC;\n",
              "      --hover-bg-color: #434B5C;\n",
              "      --hover-fill-color: #FFFFFF;\n",
              "      --disabled-bg-color: #3B4455;\n",
              "      --disabled-fill-color: #666;\n",
              "  }\n",
              "\n",
              "  .colab-df-quickchart {\n",
              "    background-color: var(--bg-color);\n",
              "    border: none;\n",
              "    border-radius: 50%;\n",
              "    cursor: pointer;\n",
              "    display: none;\n",
              "    fill: var(--fill-color);\n",
              "    height: 32px;\n",
              "    padding: 0;\n",
              "    width: 32px;\n",
              "  }\n",
              "\n",
              "  .colab-df-quickchart:hover {\n",
              "    background-color: var(--hover-bg-color);\n",
              "    box-shadow: 0 1px 2px rgba(60, 64, 67, 0.3), 0 1px 3px 1px rgba(60, 64, 67, 0.15);\n",
              "    fill: var(--button-hover-fill-color);\n",
              "  }\n",
              "\n",
              "  .colab-df-quickchart-complete:disabled,\n",
              "  .colab-df-quickchart-complete:disabled:hover {\n",
              "    background-color: var(--disabled-bg-color);\n",
              "    fill: var(--disabled-fill-color);\n",
              "    box-shadow: none;\n",
              "  }\n",
              "\n",
              "  .colab-df-spinner {\n",
              "    border: 2px solid var(--fill-color);\n",
              "    border-color: transparent;\n",
              "    border-bottom-color: var(--fill-color);\n",
              "    animation:\n",
              "      spin 1s steps(1) infinite;\n",
              "  }\n",
              "\n",
              "  @keyframes spin {\n",
              "    0% {\n",
              "      border-color: transparent;\n",
              "      border-bottom-color: var(--fill-color);\n",
              "      border-left-color: var(--fill-color);\n",
              "    }\n",
              "    20% {\n",
              "      border-color: transparent;\n",
              "      border-left-color: var(--fill-color);\n",
              "      border-top-color: var(--fill-color);\n",
              "    }\n",
              "    30% {\n",
              "      border-color: transparent;\n",
              "      border-left-color: var(--fill-color);\n",
              "      border-top-color: var(--fill-color);\n",
              "      border-right-color: var(--fill-color);\n",
              "    }\n",
              "    40% {\n",
              "      border-color: transparent;\n",
              "      border-right-color: var(--fill-color);\n",
              "      border-top-color: var(--fill-color);\n",
              "    }\n",
              "    60% {\n",
              "      border-color: transparent;\n",
              "      border-right-color: var(--fill-color);\n",
              "    }\n",
              "    80% {\n",
              "      border-color: transparent;\n",
              "      border-right-color: var(--fill-color);\n",
              "      border-bottom-color: var(--fill-color);\n",
              "    }\n",
              "    90% {\n",
              "      border-color: transparent;\n",
              "      border-bottom-color: var(--fill-color);\n",
              "    }\n",
              "  }\n",
              "</style>\n",
              "\n",
              "  <script>\n",
              "    async function quickchart(key) {\n",
              "      const quickchartButtonEl =\n",
              "        document.querySelector('#' + key + ' button');\n",
              "      quickchartButtonEl.disabled = true;  // To prevent multiple clicks.\n",
              "      quickchartButtonEl.classList.add('colab-df-spinner');\n",
              "      try {\n",
              "        const charts = await google.colab.kernel.invokeFunction(\n",
              "            'suggestCharts', [key], {});\n",
              "      } catch (error) {\n",
              "        console.error('Error during call to suggestCharts:', error);\n",
              "      }\n",
              "      quickchartButtonEl.classList.remove('colab-df-spinner');\n",
              "      quickchartButtonEl.classList.add('colab-df-quickchart-complete');\n",
              "    }\n",
              "    (() => {\n",
              "      let quickchartButtonEl =\n",
              "        document.querySelector('#df-321320f7-93ba-4ee1-8c00-10220957f3d0 button');\n",
              "      quickchartButtonEl.style.display =\n",
              "        google.colab.kernel.accessAllowed ? 'block' : 'none';\n",
              "    })();\n",
              "  </script>\n",
              "</div>\n",
              "\n",
              "  <div id=\"id_12840f83-217d-4154-9094-0b93140c4f93\">\n",
              "    <style>\n",
              "      .colab-df-generate {\n",
              "        background-color: #E8F0FE;\n",
              "        border: none;\n",
              "        border-radius: 50%;\n",
              "        cursor: pointer;\n",
              "        display: none;\n",
              "        fill: #1967D2;\n",
              "        height: 32px;\n",
              "        padding: 0 0 0 0;\n",
              "        width: 32px;\n",
              "      }\n",
              "\n",
              "      .colab-df-generate:hover {\n",
              "        background-color: #E2EBFA;\n",
              "        box-shadow: 0px 1px 2px rgba(60, 64, 67, 0.3), 0px 1px 3px 1px rgba(60, 64, 67, 0.15);\n",
              "        fill: #174EA6;\n",
              "      }\n",
              "\n",
              "      [theme=dark] .colab-df-generate {\n",
              "        background-color: #3B4455;\n",
              "        fill: #D2E3FC;\n",
              "      }\n",
              "\n",
              "      [theme=dark] .colab-df-generate:hover {\n",
              "        background-color: #434B5C;\n",
              "        box-shadow: 0px 1px 3px 1px rgba(0, 0, 0, 0.15);\n",
              "        filter: drop-shadow(0px 1px 2px rgba(0, 0, 0, 0.3));\n",
              "        fill: #FFFFFF;\n",
              "      }\n",
              "    </style>\n",
              "    <button class=\"colab-df-generate\" onclick=\"generateWithVariable('df_log')\"\n",
              "            title=\"Generate code using this dataframe.\"\n",
              "            style=\"display:none;\">\n",
              "\n",
              "  <svg xmlns=\"http://www.w3.org/2000/svg\" height=\"24px\"viewBox=\"0 0 24 24\"\n",
              "       width=\"24px\">\n",
              "    <path d=\"M7,19H8.4L18.45,9,17,7.55,7,17.6ZM5,21V16.75L18.45,3.32a2,2,0,0,1,2.83,0l1.4,1.43a1.91,1.91,0,0,1,.58,1.4,1.91,1.91,0,0,1-.58,1.4L9.25,21ZM18.45,9,17,7.55Zm-12,3A5.31,5.31,0,0,0,4.9,8.1,5.31,5.31,0,0,0,1,6.5,5.31,5.31,0,0,0,4.9,4.9,5.31,5.31,0,0,0,6.5,1,5.31,5.31,0,0,0,8.1,4.9,5.31,5.31,0,0,0,12,6.5,5.46,5.46,0,0,0,6.5,12Z\"/>\n",
              "  </svg>\n",
              "    </button>\n",
              "    <script>\n",
              "      (() => {\n",
              "      const buttonEl =\n",
              "        document.querySelector('#id_12840f83-217d-4154-9094-0b93140c4f93 button.colab-df-generate');\n",
              "      buttonEl.style.display =\n",
              "        google.colab.kernel.accessAllowed ? 'block' : 'none';\n",
              "\n",
              "      buttonEl.onclick = () => {\n",
              "        google.colab.notebook.generateWithVariable('df_log');\n",
              "      }\n",
              "      })();\n",
              "    </script>\n",
              "  </div>\n",
              "\n",
              "    </div>\n",
              "  </div>\n"
            ],
            "application/vnd.google.colaboratory.intrinsic+json": {
              "type": "dataframe",
              "variable_name": "df_log"
            }
          },
          "metadata": {},
          "execution_count": 53
        }
      ],
      "source": [
        "df_log = df.copy(deep=True)\n",
        "df_log['Affordable'] = df_log['Sale Amount'].apply(lambda x: 1 if x > 350000 else 0)\n",
        "df_log"
      ]
    },
    {
      "cell_type": "code",
      "execution_count": 54,
      "metadata": {
        "id": "MzpPGOvKZAoY"
      },
      "outputs": [],
      "source": [
        "xlog=df_log[['List Year', 'Assessed Value', 'Longitude', 'Latitude', 'date_n', 'town_n','address_n', 'property_n', 'residential_n']]\n",
        "ylog=df_log['Affordable']\n",
        "\n",
        "xlog_train,xlog_test,ylog_train,ylog_test=train_test_split(xlog,ylog,test_size=0.2,random_state=42)"
      ]
    },
    {
      "cell_type": "code",
      "execution_count": 55,
      "metadata": {
        "id": "BrOODBKRZkcT"
      },
      "outputs": [],
      "source": [
        "from sklearn.linear_model import LogisticRegression\n",
        "from sklearn.metrics import accuracy_score, precision_score, recall_score, f1_score, roc_auc_score, confusion_matrix"
      ]
    },
    {
      "cell_type": "code",
      "execution_count": 56,
      "metadata": {
        "id": "9EOx_U4tZ--1"
      },
      "outputs": [],
      "source": [
        "mymodellog = LogisticRegression()"
      ]
    },
    {
      "cell_type": "code",
      "execution_count": 57,
      "metadata": {
        "colab": {
          "base_uri": "https://localhost:8080/",
          "height": 230
        },
        "id": "zUONi_TgaMNA",
        "outputId": "64a4fabd-5b31-4817-c271-339111dfd40b"
      },
      "outputs": [
        {
          "output_type": "stream",
          "name": "stderr",
          "text": [
            "/usr/local/lib/python3.10/dist-packages/sklearn/linear_model/_logistic.py:458: ConvergenceWarning: lbfgs failed to converge (status=1):\n",
            "STOP: TOTAL NO. of ITERATIONS REACHED LIMIT.\n",
            "\n",
            "Increase the number of iterations (max_iter) or scale the data as shown in:\n",
            "    https://scikit-learn.org/stable/modules/preprocessing.html\n",
            "Please also refer to the documentation for alternative solver options:\n",
            "    https://scikit-learn.org/stable/modules/linear_model.html#logistic-regression\n",
            "  n_iter_i = _check_optimize_result(\n"
          ]
        },
        {
          "output_type": "execute_result",
          "data": {
            "text/plain": [
              "LogisticRegression()"
            ],
            "text/html": [
              "<style>#sk-container-id-4 {color: black;background-color: white;}#sk-container-id-4 pre{padding: 0;}#sk-container-id-4 div.sk-toggleable {background-color: white;}#sk-container-id-4 label.sk-toggleable__label {cursor: pointer;display: block;width: 100%;margin-bottom: 0;padding: 0.3em;box-sizing: border-box;text-align: center;}#sk-container-id-4 label.sk-toggleable__label-arrow:before {content: \"▸\";float: left;margin-right: 0.25em;color: #696969;}#sk-container-id-4 label.sk-toggleable__label-arrow:hover:before {color: black;}#sk-container-id-4 div.sk-estimator:hover label.sk-toggleable__label-arrow:before {color: black;}#sk-container-id-4 div.sk-toggleable__content {max-height: 0;max-width: 0;overflow: hidden;text-align: left;background-color: #f0f8ff;}#sk-container-id-4 div.sk-toggleable__content pre {margin: 0.2em;color: black;border-radius: 0.25em;background-color: #f0f8ff;}#sk-container-id-4 input.sk-toggleable__control:checked~div.sk-toggleable__content {max-height: 200px;max-width: 100%;overflow: auto;}#sk-container-id-4 input.sk-toggleable__control:checked~label.sk-toggleable__label-arrow:before {content: \"▾\";}#sk-container-id-4 div.sk-estimator input.sk-toggleable__control:checked~label.sk-toggleable__label {background-color: #d4ebff;}#sk-container-id-4 div.sk-label input.sk-toggleable__control:checked~label.sk-toggleable__label {background-color: #d4ebff;}#sk-container-id-4 input.sk-hidden--visually {border: 0;clip: rect(1px 1px 1px 1px);clip: rect(1px, 1px, 1px, 1px);height: 1px;margin: -1px;overflow: hidden;padding: 0;position: absolute;width: 1px;}#sk-container-id-4 div.sk-estimator {font-family: monospace;background-color: #f0f8ff;border: 1px dotted black;border-radius: 0.25em;box-sizing: border-box;margin-bottom: 0.5em;}#sk-container-id-4 div.sk-estimator:hover {background-color: #d4ebff;}#sk-container-id-4 div.sk-parallel-item::after {content: \"\";width: 100%;border-bottom: 1px solid gray;flex-grow: 1;}#sk-container-id-4 div.sk-label:hover label.sk-toggleable__label {background-color: #d4ebff;}#sk-container-id-4 div.sk-serial::before {content: \"\";position: absolute;border-left: 1px solid gray;box-sizing: border-box;top: 0;bottom: 0;left: 50%;z-index: 0;}#sk-container-id-4 div.sk-serial {display: flex;flex-direction: column;align-items: center;background-color: white;padding-right: 0.2em;padding-left: 0.2em;position: relative;}#sk-container-id-4 div.sk-item {position: relative;z-index: 1;}#sk-container-id-4 div.sk-parallel {display: flex;align-items: stretch;justify-content: center;background-color: white;position: relative;}#sk-container-id-4 div.sk-item::before, #sk-container-id-4 div.sk-parallel-item::before {content: \"\";position: absolute;border-left: 1px solid gray;box-sizing: border-box;top: 0;bottom: 0;left: 50%;z-index: -1;}#sk-container-id-4 div.sk-parallel-item {display: flex;flex-direction: column;z-index: 1;position: relative;background-color: white;}#sk-container-id-4 div.sk-parallel-item:first-child::after {align-self: flex-end;width: 50%;}#sk-container-id-4 div.sk-parallel-item:last-child::after {align-self: flex-start;width: 50%;}#sk-container-id-4 div.sk-parallel-item:only-child::after {width: 0;}#sk-container-id-4 div.sk-dashed-wrapped {border: 1px dashed gray;margin: 0 0.4em 0.5em 0.4em;box-sizing: border-box;padding-bottom: 0.4em;background-color: white;}#sk-container-id-4 div.sk-label label {font-family: monospace;font-weight: bold;display: inline-block;line-height: 1.2em;}#sk-container-id-4 div.sk-label-container {text-align: center;}#sk-container-id-4 div.sk-container {/* jupyter's `normalize.less` sets `[hidden] { display: none; }` but bootstrap.min.css set `[hidden] { display: none !important; }` so we also need the `!important` here to be able to override the default hidden behavior on the sphinx rendered scikit-learn.org. See: https://github.com/scikit-learn/scikit-learn/issues/21755 */display: inline-block !important;position: relative;}#sk-container-id-4 div.sk-text-repr-fallback {display: none;}</style><div id=\"sk-container-id-4\" class=\"sk-top-container\"><div class=\"sk-text-repr-fallback\"><pre>LogisticRegression()</pre><b>In a Jupyter environment, please rerun this cell to show the HTML representation or trust the notebook. <br />On GitHub, the HTML representation is unable to render, please try loading this page with nbviewer.org.</b></div><div class=\"sk-container\" hidden><div class=\"sk-item\"><div class=\"sk-estimator sk-toggleable\"><input class=\"sk-toggleable__control sk-hidden--visually\" id=\"sk-estimator-id-4\" type=\"checkbox\" checked><label for=\"sk-estimator-id-4\" class=\"sk-toggleable__label sk-toggleable__label-arrow\">LogisticRegression</label><div class=\"sk-toggleable__content\"><pre>LogisticRegression()</pre></div></div></div></div></div>"
            ]
          },
          "metadata": {},
          "execution_count": 57
        }
      ],
      "source": [
        "mymodellog.fit(xlog_train,ylog_train)"
      ]
    },
    {
      "cell_type": "code",
      "execution_count": 58,
      "metadata": {
        "id": "OBPio8U9aWYj"
      },
      "outputs": [],
      "source": [
        "y_pred_log = mymodellog.predict(xlog_test)"
      ]
    },
    {
      "cell_type": "code",
      "execution_count": 59,
      "metadata": {
        "colab": {
          "base_uri": "https://localhost:8080/"
        },
        "id": "veXcpfcnagBb",
        "outputId": "58f2309b-01db-43d6-fbf3-eb54cc5d92b6"
      },
      "outputs": [
        {
          "output_type": "execute_result",
          "data": {
            "text/plain": [
              "array([[0.82669792, 0.17330208],\n",
              "       [0.62401814, 0.37598186],\n",
              "       [0.63663577, 0.36336423],\n",
              "       ...,\n",
              "       [0.65741721, 0.34258279],\n",
              "       [0.78627308, 0.21372692],\n",
              "       [0.71636816, 0.28363184]])"
            ]
          },
          "metadata": {},
          "execution_count": 59
        }
      ],
      "source": [
        "mymodellog.predict_proba(xlog_test)"
      ]
    },
    {
      "cell_type": "code",
      "execution_count": 60,
      "metadata": {
        "colab": {
          "base_uri": "https://localhost:8080/"
        },
        "id": "cucgKWfBalD3",
        "outputId": "a1aab1eb-85f4-4c6e-f309-49c2773896b4"
      },
      "outputs": [
        {
          "output_type": "execute_result",
          "data": {
            "text/plain": [
              "0.7431453290672483"
            ]
          },
          "metadata": {},
          "execution_count": 60
        }
      ],
      "source": [
        "# Check accuracy of model\n",
        "mymodellog.score(xlog_test,ylog_test)"
      ]
    },
    {
      "cell_type": "code",
      "execution_count": 61,
      "metadata": {
        "colab": {
          "base_uri": "https://localhost:8080/"
        },
        "id": "N5t_iL89asDo",
        "outputId": "f56a5124-6cd8-4fb6-bae1-da4532058d6a"
      },
      "outputs": [
        {
          "output_type": "execute_result",
          "data": {
            "text/plain": [
              "array([0, 0, 0, ..., 0, 0, 0])"
            ]
          },
          "metadata": {},
          "execution_count": 61
        }
      ],
      "source": [
        "y_pred_log"
      ]
    },
    {
      "cell_type": "code",
      "execution_count": 62,
      "metadata": {
        "colab": {
          "base_uri": "https://localhost:8080/"
        },
        "id": "Kp_Rl1-vat9b",
        "outputId": "00340246-8569-4e0b-cc12-5df3ba851ce5"
      },
      "outputs": [
        {
          "output_type": "execute_result",
          "data": {
            "text/plain": [
              "array([[ -5.46421016,  46.77082437, -40.11941072, -21.66186813,\n",
              "          6.67145763,   0.2347373 ,  -0.14475663,   0.21430059,\n",
              "          0.30976647]])"
            ]
          },
          "metadata": {},
          "execution_count": 62
        }
      ],
      "source": [
        "mymodellog.coef_"
      ]
    },
    {
      "cell_type": "code",
      "execution_count": 63,
      "metadata": {
        "colab": {
          "base_uri": "https://localhost:8080/"
        },
        "id": "oa31HV1ea05u",
        "outputId": "61cf36e8-5d03-4720-8e99-3e424bc69556"
      },
      "outputs": [
        {
          "output_type": "execute_result",
          "data": {
            "text/plain": [
              "array([51.24875266])"
            ]
          },
          "metadata": {},
          "execution_count": 63
        }
      ],
      "source": [
        "mymodellog.intercept_"
      ]
    },
    {
      "cell_type": "code",
      "execution_count": 64,
      "metadata": {
        "colab": {
          "base_uri": "https://localhost:8080/"
        },
        "id": "NYsUPXEca3CU",
        "outputId": "e586e703-a32c-48bf-d425-5aab36a42dd7"
      },
      "outputs": [
        {
          "output_type": "stream",
          "name": "stdout",
          "text": [
            "Accuracy: 0.7431453290672483\n",
            "Precision: 0.7379466817923993\n",
            "Recall: 0.09119904665101118\n",
            "F1 Score: 0.16233583928627135\n",
            "ROC AUC: 0.5395217355350181\n"
          ]
        }
      ],
      "source": [
        "# Model Evaluation - From Lecture\n",
        "y_pred_log = mymodellog.predict(xlog_test)\n",
        "accuracy = accuracy_score(ylog_test, y_pred_log)\n",
        "precision = precision_score(ylog_test, y_pred_log)\n",
        "recall = recall_score(ylog_test, y_pred_log)\n",
        "f1 = f1_score(ylog_test, y_pred_log)\n",
        "roc_auc = roc_auc_score(ylog_test, y_pred_log)\n",
        "\n",
        "print(f'Accuracy: {accuracy}')\n",
        "print(f'Precision: {precision}')\n",
        "print(f'Recall: {recall}')\n",
        "print(f'F1 Score: {f1}')\n",
        "print(f'ROC AUC: {roc_auc}')"
      ]
    },
    {
      "cell_type": "code",
      "execution_count": 65,
      "metadata": {
        "id": "-GUFdHoqcLKM"
      },
      "outputs": [],
      "source": [
        "# The dataset is too large to do SVC and the computation time was too long and never ran\n",
        "# Same with KNN. It is too computationally expensive and utilizes too much memory. It also did not run."
      ]
    },
    {
      "cell_type": "code",
      "source": [
        "# Decision Tree\n",
        "from sklearn.tree import DecisionTreeClassifier\n",
        "import matplotlib.pyplot as plt\n",
        "from sklearn.tree import plot_tree\n",
        "\n",
        "mymodel_decisiontree= DecisionTreeClassifier(criterion='gini', max_depth=3, random_state=42)"
      ],
      "metadata": {
        "id": "Brz0CH3BSMMy"
      },
      "execution_count": 66,
      "outputs": []
    },
    {
      "cell_type": "code",
      "source": [
        "mymodel_decisiontree.fit(xlog_train,ylog_train)\n",
        "y_pred=mymodel_decisiontree.predict(xlog_test)"
      ],
      "metadata": {
        "id": "jQigLq8ATYE3"
      },
      "execution_count": 67,
      "outputs": []
    },
    {
      "cell_type": "code",
      "source": [
        "from sklearn.metrics import accuracy_score\n",
        "FinalAccuracy = accuracy_score(ylog_test, y_pred)\n",
        "print(f'Accuracy: {FinalAccuracy}')"
      ],
      "metadata": {
        "colab": {
          "base_uri": "https://localhost:8080/"
        },
        "id": "6dgqo0RCTaHI",
        "outputId": "30c427f1-1062-4f6b-d958-d990268aa233"
      },
      "execution_count": 68,
      "outputs": [
        {
          "output_type": "stream",
          "name": "stdout",
          "text": [
            "Accuracy: 0.7967966100884304\n"
          ]
        }
      ]
    },
    {
      "cell_type": "code",
      "source": [
        "plot_tree(mymodel_decisiontree)"
      ],
      "metadata": {
        "colab": {
          "base_uri": "https://localhost:8080/",
          "height": 661
        },
        "id": "HGSHVe0dTd7I",
        "outputId": "cf5ed578-a1c8-431a-e3e9-a7cc28efe3bb"
      },
      "execution_count": 69,
      "outputs": [
        {
          "output_type": "execute_result",
          "data": {
            "text/plain": [
              "[Text(0.5, 0.875, 'x[1] <= 0.001\\ngini = 0.396\\nsamples = 836363\\nvalue = [609313, 227050]'),\n",
              " Text(0.25, 0.625, 'x[2] <= 0.959\\ngini = 0.36\\nsamples = 790966\\nvalue = [604410, 186556]'),\n",
              " Text(0.125, 0.375, 'x[1] <= 0.0\\ngini = 0.477\\nsamples = 35145\\nvalue = [13808, 21337]'),\n",
              " Text(0.0625, 0.125, 'gini = 0.335\\nsamples = 13455\\nvalue = [10594, 2861]'),\n",
              " Text(0.1875, 0.125, 'gini = 0.252\\nsamples = 21690\\nvalue = [3214, 18476]'),\n",
              " Text(0.375, 0.375, 'x[1] <= 0.001\\ngini = 0.342\\nsamples = 755821\\nvalue = [590602, 165219]'),\n",
              " Text(0.3125, 0.125, 'gini = 0.333\\nsamples = 748474\\nvalue = [590196, 158278]'),\n",
              " Text(0.4375, 0.125, 'gini = 0.104\\nsamples = 7347\\nvalue = [406, 6941]'),\n",
              " Text(0.75, 0.625, 'x[8] <= 0.9\\ngini = 0.193\\nsamples = 45397\\nvalue = [4903, 40494]'),\n",
              " Text(0.625, 0.375, 'x[5] <= 0.092\\ngini = 0.043\\nsamples = 28177\\nvalue = [618, 27559]'),\n",
              " Text(0.5625, 0.125, 'gini = 0.335\\nsamples = 624\\nvalue = [133, 491]'),\n",
              " Text(0.6875, 0.125, 'gini = 0.035\\nsamples = 27553\\nvalue = [485, 27068]'),\n",
              " Text(0.875, 0.375, 'x[5] <= 0.092\\ngini = 0.374\\nsamples = 17220\\nvalue = [4285, 12935]'),\n",
              " Text(0.8125, 0.125, 'gini = 0.447\\nsamples = 1931\\nvalue = [1281, 650]'),\n",
              " Text(0.9375, 0.125, 'gini = 0.316\\nsamples = 15289\\nvalue = [3004, 12285]')]"
            ]
          },
          "metadata": {},
          "execution_count": 69
        },
        {
          "output_type": "display_data",
          "data": {
            "text/plain": [
              "<Figure size 640x480 with 1 Axes>"
            ],
            "image/png": "[encoded data removed]"
          },
          "metadata": {}
        }
      ]
    },
    {
      "cell_type": "code",
      "source": [
        "accuracy = accuracy_score(ylog_test, y_pred)\n",
        "precision = precision_score(ylog_test, y_pred)\n",
        "recall = recall_score(ylog_test, y_pred)\n",
        "f1 = f1_score(ylog_test, y_pred)\n",
        "\n",
        "print(f'Accuracy: {accuracy}')\n",
        "print(f'Precision: {precision}')\n",
        "print(f'Recall: {recall}')\n",
        "print(f'F1 Score: {f1}')"
      ],
      "metadata": {
        "colab": {
          "base_uri": "https://localhost:8080/"
        },
        "id": "H9GH62lsTnKJ",
        "outputId": "78f72bac-18e2-42f5-ed51-7675d73f8e2f"
      },
      "execution_count": 70,
      "outputs": [
        {
          "output_type": "stream",
          "name": "stdout",
          "text": [
            "Accuracy: 0.7967966100884304\n",
            "Precision: 0.8968954248366013\n",
            "Recall: 0.28858084189127614\n",
            "F1 Score: 0.436663042613561\n"
          ]
        }
      ]
    },
    {
      "cell_type": "code",
      "source": [
        "from sklearn.model_selection import cross_val_score\n",
        "\n",
        "# cross validation\n",
        "cv_scores = cross_val_score(mymodel_decisiontree, x, df_log.Affordable, cv=6)\n",
        "\n",
        "# show cv scores\n",
        "print(\"Cross-Validation Scores:\", cv_scores)\n",
        "\n",
        "# show mean cv score\n",
        "print(\"Mean Cross-Validation Score:\", cv_scores.mean())"
      ],
      "metadata": {
        "colab": {
          "base_uri": "https://localhost:8080/"
        },
        "id": "rOh2K7yvTpKO",
        "outputId": "e0165b5b-5f45-44c3-fea2-c743a35c959b"
      },
      "execution_count": 71,
      "outputs": [
        {
          "output_type": "stream",
          "name": "stdout",
          "text": [
            "Cross-Validation Scores: [0.9048111  0.85798569 0.87226386 0.90487368 0.90667577 0.87453656]\n",
            "Mean Cross-Validation Score: 0.8868577775002738\n"
          ]
        }
      ]
    },
    {
      "cell_type": "code",
      "source": [
        "feature_importances = mymodel_decisiontree.feature_importances_\n",
        "\n",
        "# create importance df\n",
        "feature_importance_df = pd.DataFrame({\n",
        "    'Feature': x.columns,\n",
        "    'Importance': feature_importances\n",
        "})\n",
        "\n",
        "# sort by most important\n",
        "feature_importance_df = feature_importance_df.sort_values(by='Importance', ascending=False)\n",
        "\n",
        "plt.figure(figsize=(10, 6))\n",
        "plt.barh(feature_importance_df['Feature'], feature_importance_df['Importance'], color='red')\n",
        "plt.xlabel('Importance Score')\n",
        "plt.ylabel('Features')\n",
        "plt.title('Feature Importance')\n",
        "plt.gca().invert_yaxis()\n",
        "plt.show()\n",
        "\n",
        "print(feature_importance_df)"
      ],
      "metadata": {
        "colab": {
          "base_uri": "https://localhost:8080/",
          "height": 734
        },
        "id": "C4thbqg-TrQT",
        "outputId": "373d20c1-8c4e-4414-f9e4-9252a7a2418f"
      },
      "execution_count": 72,
      "outputs": [
        {
          "output_type": "display_data",
          "data": {
            "text/plain": [
              "<Figure size 1000x600 with 1 Axes>"
            ],
            "image/png": "[encoded data removed]"
          },
          "metadata": {}
        },
        {
          "output_type": "stream",
          "name": "stdout",
          "text": [
            "          Feature  Importance\n",
            "1  Assessed Value    0.810824\n",
            "2       Longitude    0.159388\n",
            "8   residential_n    0.017302\n",
            "5          town_n    0.012485\n",
            "0       List Year    0.000000\n",
            "3        Latitude    0.000000\n",
            "4          date_n    0.000000\n",
            "6       address_n    0.000000\n",
            "7      property_n    0.000000\n"
          ]
        }
      ]
    },
    {
      "cell_type": "code",
      "source": [
        "from sklearn.metrics import confusion_matrix, classification_report\n",
        "import seaborn as sns\n",
        "\n",
        "# make confusion matrix\n",
        "conf_matrix = confusion_matrix(ylog_test, y_pred)\n",
        "\n",
        "plt.figure(figsize=(8, 6))\n",
        "sns.heatmap(conf_matrix, annot=True, cmap='Blues', fmt='d', annot_kws={'size': 16}, cbar=False)\n",
        "plt.xlabel('Predicted labels')\n",
        "plt.ylabel('True labels')\n",
        "plt.title('Confusion Matrix')\n",
        "plt.show()\n",
        "\n",
        "# classification report\n",
        "report = classification_report(ylog_test, y_pred)\n",
        "\n",
        "print('Classification Report:')\n",
        "print(report)"
      ],
      "metadata": {
        "colab": {
          "base_uri": "https://localhost:8080/",
          "height": 734
        },
        "id": "LGNZIw5mTvkM",
        "outputId": "84e06feb-fb6d-474c-fe26-7a851007b240"
      },
      "execution_count": 73,
      "outputs": [
        {
          "output_type": "display_data",
          "data": {
            "text/plain": [
              "<Figure size 800x600 with 1 Axes>"
            ],
            "image/png": "[encoded data removed]"
          },
          "metadata": {}
        },
        {
          "output_type": "stream",
          "name": "stdout",
          "text": [
            "Classification Report:\n",
            "              precision    recall  f1-score   support\n",
            "\n",
            "           0       0.79      0.99      0.88    152029\n",
            "           1       0.90      0.29      0.44     57062\n",
            "\n",
            "    accuracy                           0.80    209091\n",
            "   macro avg       0.84      0.64      0.66    209091\n",
            "weighted avg       0.82      0.80      0.76    209091\n",
            "\n"
          ]
        }
      ]
    },
    {
      "cell_type": "code",
      "source": [
        "from sklearn.metrics import roc_curve, roc_auc_score\n",
        "\n",
        "# probabilities for positive class\n",
        "y_prob = mymodel_decisiontree.predict_proba(xlog_test)[:, 1]\n",
        "\n",
        "# ROC curve\n",
        "fpr, tpr, thresholds = roc_curve(ylog_test, y_prob)\n",
        "\n",
        "# AUC score\n",
        "auc = roc_auc_score(ylog_test, y_prob)\n",
        "\n",
        "# Plot ROC\n",
        "plt.figure(figsize=(10, 6))\n",
        "plt.plot(fpr, tpr, color='red', lw=2, label=f'ROC Curve (AUC = {auc:.5f})')\n",
        "plt.plot([0, 1], [0, 1], color='gray', linestyle='--', lw=2, label='Random Guessing')\n",
        "plt.xlim([0.0, 1.0])\n",
        "plt.ylim([0.0, 1.0])\n",
        "plt.xlabel('False Positive Rate')\n",
        "plt.ylabel('True Positive Rate')\n",
        "plt.title('Receiver Operating Characteristic Curve')\n",
        "plt.legend(loc='lower right')\n",
        "plt.grid(True)\n",
        "plt.show()"
      ],
      "metadata": {
        "colab": {
          "base_uri": "https://localhost:8080/",
          "height": 564
        },
        "id": "6C6Wwc1yTyvy",
        "outputId": "6ecd60b7-511e-4814-de78-469c51bf282d"
      },
      "execution_count": 74,
      "outputs": [
        {
          "output_type": "display_data",
          "data": {
            "text/plain": [
              "<Figure size 1000x600 with 1 Axes>"
            ],
            "image/png": "[encoded data removed]"
          },
          "metadata": {}
        }
      ]
    },
    {
      "cell_type": "code",
      "source": [
        "# Grid Search Cross Validation for Decision Tree\n",
        "from sklearn.model_selection import GridSearchCV\n",
        "\n",
        "decision_tree = DecisionTreeClassifier()\n",
        "# mixture of different hyperparameters\n",
        "parameter_grid = {\n",
        "    'max_depth': [3, 5],\n",
        "    'min_samples_split': [2, 3],\n",
        "    'min_samples_leaf': [3, 4],\n",
        "}\n",
        "grid_search = GridSearchCV(estimator=decision_tree, param_grid=parameter_grid, cv=4, n_jobs=-1)\n",
        "grid_search.fit(xlog_train, ylog_train)\n",
        "\n",
        "# find best parameters and estimator\n",
        "best_params = grid_search.best_params_\n",
        "best_model = grid_search.best_estimator_\n",
        "\n",
        "print(f'Best parameters found: {best_params}')\n",
        "\n",
        "# predict using best model\n",
        "y_pred_grid_search = best_model.predict(xlog_test)\n",
        "\n",
        "final_accuracy = accuracy_score(ylog_test, y_pred_grid_search)\n",
        "print(f'Accuracy: {final_accuracy}')"
      ],
      "metadata": {
        "colab": {
          "base_uri": "https://localhost:8080/"
        },
        "id": "UoMP2Ni3_ExR",
        "outputId": "0602061b-690e-4f1a-9fc5-1d9f91c3164d"
      },
      "execution_count": 112,
      "outputs": [
        {
          "output_type": "stream",
          "name": "stderr",
          "text": [
            "/usr/local/lib/python3.10/dist-packages/joblib/externals/loky/backend/fork_exec.py:38: RuntimeWarning: os.fork() was called. os.fork() is incompatible with multithreaded code, and JAX is multithreaded, so this will likely lead to a deadlock.\n",
            "  pid = os.fork()\n",
            "/usr/local/lib/python3.10/dist-packages/joblib/externals/loky/backend/fork_exec.py:38: RuntimeWarning: os.fork() was called. os.fork() is incompatible with multithreaded code, and JAX is multithreaded, so this will likely lead to a deadlock.\n",
            "  pid = os.fork()\n"
          ]
        },
        {
          "output_type": "stream",
          "name": "stdout",
          "text": [
            "Best parameters found: {'max_depth': 5, 'min_samples_leaf': 3, 'min_samples_split': 2}\n",
            "Accuracy: 0.8126318205948606\n"
          ]
        }
      ]
    },
    {
      "cell_type": "code",
      "source": [
        "mymodelbest_decisiontree= DecisionTreeClassifier(criterion='gini', max_depth=5, min_samples_split=3, min_samples_leaf=2 , random_state=42)"
      ],
      "metadata": {
        "id": "Oey4hgC8_9nI"
      },
      "execution_count": 113,
      "outputs": []
    },
    {
      "cell_type": "code",
      "source": [
        "mymodelbest_decisiontree.fit(xlog_train,ylog_train)\n",
        "y_pred_bdt=mymodelbest_decisiontree.predict(xlog_test)"
      ],
      "metadata": {
        "id": "IkgPKpIwAVDO"
      },
      "execution_count": 114,
      "outputs": []
    },
    {
      "cell_type": "code",
      "source": [
        "from sklearn.metrics import accuracy_score\n",
        "FinalAccuracy = accuracy_score(ylog_test, y_pred_bdt)\n",
        "print(f'Accuracy: {FinalAccuracy}')"
      ],
      "metadata": {
        "colab": {
          "base_uri": "https://localhost:8080/"
        },
        "id": "zz8WeZqoAfmF",
        "outputId": "338b1e47-376e-46bb-bb27-33f8aa0c574a"
      },
      "execution_count": 115,
      "outputs": [
        {
          "output_type": "stream",
          "name": "stdout",
          "text": [
            "Accuracy: 0.8126318205948606\n"
          ]
        }
      ]
    },
    {
      "cell_type": "code",
      "source": [
        "plot_tree(mymodelbest_decisiontree)"
      ],
      "metadata": {
        "colab": {
          "base_uri": "https://localhost:8080/",
          "height": 1000
        },
        "id": "HT3ngjmMAizk",
        "outputId": "472b409d-fb66-4b5c-d3a6-730030734238"
      },
      "execution_count": 116,
      "outputs": [
        {
          "output_type": "execute_result",
          "data": {
            "text/plain": [
              "[Text(0.5, 0.9166666666666666, 'x[1] <= 0.001\\ngini = 0.396\\nsamples = 836363\\nvalue = [609313, 227050]'),\n",
              " Text(0.25, 0.75, 'x[2] <= 0.959\\ngini = 0.36\\nsamples = 790966\\nvalue = [604410, 186556]'),\n",
              " Text(0.125, 0.5833333333333334, 'x[1] <= 0.0\\ngini = 0.477\\nsamples = 35145\\nvalue = [13808, 21337]'),\n",
              " Text(0.0625, 0.4166666666666667, 'x[1] <= 0.0\\ngini = 0.335\\nsamples = 13455\\nvalue = [10594, 2861]'),\n",
              " Text(0.03125, 0.25, 'x[2] <= 0.953\\ngini = 0.243\\nsamples = 9937\\nvalue = [8530, 1407]'),\n",
              " Text(0.015625, 0.08333333333333333, 'gini = 0.419\\nsamples = 1723\\nvalue = [1209, 514]'),\n",
              " Text(0.046875, 0.08333333333333333, 'gini = 0.194\\nsamples = 8214\\nvalue = [7321, 893]'),\n",
              " Text(0.09375, 0.25, 'x[4] <= 0.31\\ngini = 0.485\\nsamples = 3518\\nvalue = [2064, 1454]'),\n",
              " Text(0.078125, 0.08333333333333333, 'gini = 0.44\\nsamples = 1169\\nvalue = [382, 787]'),\n",
              " Text(0.109375, 0.08333333333333333, 'gini = 0.407\\nsamples = 2349\\nvalue = [1682, 667]'),\n",
              " Text(0.1875, 0.4166666666666667, 'x[1] <= 0.0\\ngini = 0.252\\nsamples = 21690\\nvalue = [3214, 18476]'),\n",
              " Text(0.15625, 0.25, 'x[4] <= 0.324\\ngini = 0.436\\nsamples = 6328\\nvalue = [2029, 4299]'),\n",
              " Text(0.140625, 0.08333333333333333, 'gini = 0.21\\nsamples = 1754\\nvalue = [209, 1545]'),\n",
              " Text(0.171875, 0.08333333333333333, 'gini = 0.479\\nsamples = 4574\\nvalue = [1820, 2754]'),\n",
              " Text(0.21875, 0.25, 'x[1] <= 0.0\\ngini = 0.142\\nsamples = 15362\\nvalue = [1185, 14177]'),\n",
              " Text(0.203125, 0.08333333333333333, 'gini = 0.25\\nsamples = 4604\\nvalue = [674, 3930]'),\n",
              " Text(0.234375, 0.08333333333333333, 'gini = 0.09\\nsamples = 10758\\nvalue = [511, 10247]'),\n",
              " Text(0.375, 0.5833333333333334, 'x[1] <= 0.001\\ngini = 0.342\\nsamples = 755821\\nvalue = [590602, 165219]'),\n",
              " Text(0.3125, 0.4166666666666667, 'x[4] <= 0.9\\ngini = 0.333\\nsamples = 748474\\nvalue = [590196, 158278]'),\n",
              " Text(0.28125, 0.25, 'x[5] <= 0.571\\ngini = 0.319\\nsamples = 655156\\nvalue = [524776, 130380]'),\n",
              " Text(0.265625, 0.08333333333333333, 'gini = 0.286\\nsamples = 370196\\nvalue = [306237, 63959]'),\n",
              " Text(0.296875, 0.08333333333333333, 'gini = 0.358\\nsamples = 284960\\nvalue = [218539, 66421]'),\n",
              " Text(0.34375, 0.25, 'x[1] <= 0.0\\ngini = 0.419\\nsamples = 93318\\nvalue = [65420, 27898]'),\n",
              " Text(0.328125, 0.08333333333333333, 'gini = 0.302\\nsamples = 79356\\nvalue = [64669, 14687]'),\n",
              " Text(0.359375, 0.08333333333333333, 'gini = 0.102\\nsamples = 13962\\nvalue = [751, 13211]'),\n",
              " Text(0.4375, 0.4166666666666667, 'x[7] <= 0.682\\ngini = 0.104\\nsamples = 7347\\nvalue = [406, 6941]'),\n",
              " Text(0.40625, 0.25, 'x[6] <= 0.984\\ngini = 0.053\\nsamples = 5248\\nvalue = [143, 5105]'),\n",
              " Text(0.390625, 0.08333333333333333, 'gini = 0.052\\nsamples = 5234\\nvalue = [140, 5094]'),\n",
              " Text(0.421875, 0.08333333333333333, 'gini = 0.337\\nsamples = 14\\nvalue = [3, 11]'),\n",
              " Text(0.46875, 0.25, 'x[5] <= 0.997\\ngini = 0.219\\nsamples = 2099\\nvalue = [263, 1836]'),\n",
              " Text(0.453125, 0.08333333333333333, 'gini = 0.209\\nsamples = 2081\\nvalue = [247, 1834]'),\n",
              " Text(0.484375, 0.08333333333333333, 'gini = 0.198\\nsamples = 18\\nvalue = [16, 2]'),\n",
              " Text(0.75, 0.75, 'x[8] <= 0.9\\ngini = 0.193\\nsamples = 45397\\nvalue = [4903, 40494]'),\n",
              " Text(0.625, 0.5833333333333334, 'x[5] <= 0.092\\ngini = 0.043\\nsamples = 28177\\nvalue = [618, 27559]'),\n",
              " Text(0.5625, 0.4166666666666667, 'x[1] <= 0.002\\ngini = 0.335\\nsamples = 624\\nvalue = [133, 491]'),\n",
              " Text(0.53125, 0.25, 'x[5] <= 0.086\\ngini = 0.126\\nsamples = 459\\nvalue = [31, 428]'),\n",
              " Text(0.515625, 0.08333333333333333, 'gini = 0.06\\nsamples = 417\\nvalue = [13, 404]'),\n",
              " Text(0.546875, 0.08333333333333333, 'gini = 0.49\\nsamples = 42\\nvalue = [18, 24]'),\n",
              " Text(0.59375, 0.25, 'x[5] <= 0.086\\ngini = 0.472\\nsamples = 165\\nvalue = [102, 63]'),\n",
              " Text(0.578125, 0.08333333333333333, 'gini = 0.486\\nsamples = 101\\nvalue = [42, 59]'),\n",
              " Text(0.609375, 0.08333333333333333, 'gini = 0.117\\nsamples = 64\\nvalue = [60, 4]'),\n",
              " Text(0.6875, 0.4166666666666667, 'x[1] <= 0.02\\ngini = 0.035\\nsamples = 27553\\nvalue = [485, 27068]'),\n",
              " Text(0.65625, 0.25, 'x[7] <= 0.409\\ngini = 0.032\\nsamples = 27466\\nvalue = [442, 27024]'),\n",
              " Text(0.640625, 0.08333333333333333, 'gini = 0.157\\nsamples = 1421\\nvalue = [122, 1299]'),\n",
              " Text(0.671875, 0.08333333333333333, 'gini = 0.024\\nsamples = 26045\\nvalue = [320, 25725]'),\n",
              " Text(0.71875, 0.25, 'x[5] <= 0.675\\ngini = 0.5\\nsamples = 87\\nvalue = [43, 44]'),\n",
              " Text(0.703125, 0.08333333333333333, 'gini = 0.183\\nsamples = 49\\nvalue = [5, 44]'),\n",
              " Text(0.734375, 0.08333333333333333, 'gini = 0.0\\nsamples = 38\\nvalue = [38, 0]'),\n",
              " Text(0.875, 0.5833333333333334, 'x[5] <= 0.092\\ngini = 0.374\\nsamples = 17220\\nvalue = [4285, 12935]'),\n",
              " Text(0.8125, 0.4166666666666667, 'x[5] <= 0.086\\ngini = 0.447\\nsamples = 1931\\nvalue = [1281, 650]'),\n",
              " Text(0.78125, 0.25, 'x[6] <= 0.1\\ngini = 0.076\\nsamples = 457\\nvalue = [18, 439]'),\n",
              " Text(0.765625, 0.08333333333333333, 'gini = 0.229\\nsamples = 53\\nvalue = [7, 46]'),\n",
              " Text(0.796875, 0.08333333333333333, 'gini = 0.053\\nsamples = 404\\nvalue = [11, 393]'),\n",
              " Text(0.84375, 0.25, 'x[1] <= 0.001\\ngini = 0.245\\nsamples = 1474\\nvalue = [1263, 211]'),\n",
              " Text(0.828125, 0.08333333333333333, 'gini = 0.485\\nsamples = 211\\nvalue = [124, 87]'),\n",
              " Text(0.859375, 0.08333333333333333, 'gini = 0.177\\nsamples = 1263\\nvalue = [1139, 124]'),\n",
              " Text(0.9375, 0.4166666666666667, 'x[1] <= 0.002\\ngini = 0.316\\nsamples = 15289\\nvalue = [3004, 12285]'),\n",
              " Text(0.90625, 0.25, 'x[3] <= 0.72\\ngini = 0.188\\nsamples = 8934\\nvalue = [939, 7995]'),\n",
              " Text(0.890625, 0.08333333333333333, 'gini = 0.174\\nsamples = 8833\\nvalue = [850, 7983]'),\n",
              " Text(0.921875, 0.08333333333333333, 'gini = 0.209\\nsamples = 101\\nvalue = [89, 12]'),\n",
              " Text(0.96875, 0.25, 'x[5] <= 0.607\\ngini = 0.439\\nsamples = 6355\\nvalue = [2065, 4290]'),\n",
              " Text(0.953125, 0.08333333333333333, 'gini = 0.253\\nsamples = 3017\\nvalue = [449, 2568]'),\n",
              " Text(0.984375, 0.08333333333333333, 'gini = 0.499\\nsamples = 3338\\nvalue = [1616, 1722]')]"
            ]
          },
          "metadata": {},
          "execution_count": 116
        },
        {
          "output_type": "display_data",
          "data": {
            "text/plain": [
              "<Figure size 640x480 with 1 Axes>"
            ],
            "image/png": "[encoded data removed]"
          },
          "metadata": {}
        }
      ]
    },
    {
      "cell_type": "code",
      "source": [
        "accuracy = accuracy_score(ylog_test, y_pred_bdt)\n",
        "precision = precision_score(ylog_test, y_pred_bdt)\n",
        "recall = recall_score(ylog_test, y_pred_bdt)\n",
        "f1 = f1_score(ylog_test, y_pred_bdt)\n",
        "\n",
        "print(f'Accuracy: {accuracy}')\n",
        "print(f'Precision: {precision}')\n",
        "print(f'Recall: {recall}')\n",
        "print(f'F1 Score: {f1}')"
      ],
      "metadata": {
        "colab": {
          "base_uri": "https://localhost:8080/"
        },
        "id": "aqnhOdfSA-sd",
        "outputId": "1f5bc294-ca75-46d8-b1cf-d7dea2b604bb"
      },
      "execution_count": 117,
      "outputs": [
        {
          "output_type": "stream",
          "name": "stdout",
          "text": [
            "Accuracy: 0.8126318205948606\n",
            "Precision: 0.9012428770135056\n",
            "Recall: 0.3520030843643756\n",
            "F1 Score: 0.5062697702554537\n"
          ]
        }
      ]
    },
    {
      "cell_type": "code",
      "source": [
        "from sklearn.model_selection import cross_val_score\n",
        "\n",
        "# cross validation\n",
        "cv_scores = cross_val_score(mymodelbest_decisiontree, x, df_log.Affordable, cv=6)\n",
        "\n",
        "# show cv scores\n",
        "print(\"Cross-Validation Scores:\", cv_scores)\n",
        "\n",
        "# show mean cv score\n",
        "print(\"Mean Cross-Validation Score:\", cv_scores.mean())"
      ],
      "metadata": {
        "colab": {
          "base_uri": "https://localhost:8080/"
        },
        "id": "ooChDEwUBHln",
        "outputId": "b62059e6-a1d3-4bbd-8327-e9210936033b"
      },
      "execution_count": 118,
      "outputs": [
        {
          "output_type": "stream",
          "name": "stdout",
          "text": [
            "Cross-Validation Scores: [0.9053391  0.86537766 0.87972475 0.90600429 0.89690775 0.88001171]\n",
            "Mean Cross-Validation Score: 0.888894209665525\n"
          ]
        }
      ]
    },
    {
      "cell_type": "code",
      "source": [
        "feature_importances = mymodelbest_decisiontree.feature_importances_\n",
        "\n",
        "# create importance df\n",
        "feature_importance_df = pd.DataFrame({\n",
        "    'Feature': x.columns,\n",
        "    'Importance': feature_importances\n",
        "})\n",
        "\n",
        "# sort by most important\n",
        "feature_importance_df = feature_importance_df.sort_values(by='Importance', ascending=False)\n",
        "\n",
        "plt.figure(figsize=(10, 6))\n",
        "plt.barh(feature_importance_df['Feature'], feature_importance_df['Importance'], color='pink')\n",
        "plt.xlabel('Importance Score')\n",
        "plt.ylabel('Features')\n",
        "plt.title('Feature Importance')\n",
        "plt.gca().invert_yaxis()\n",
        "plt.show()\n",
        "\n",
        "print(feature_importance_df)"
      ],
      "metadata": {
        "colab": {
          "base_uri": "https://localhost:8080/",
          "height": 734
        },
        "id": "-3Kh7QAlBumU",
        "outputId": "01174db8-ea56-471e-cc0f-64fb52cd88c0"
      },
      "execution_count": 120,
      "outputs": [
        {
          "output_type": "display_data",
          "data": {
            "text/plain": [
              "<Figure size 1000x600 with 1 Axes>"
            ],
            "image/png": "[encoded data removed]"
          },
          "metadata": {}
        },
        {
          "output_type": "stream",
          "name": "stdout",
          "text": [
            "          Feature  Importance\n",
            "1  Assessed Value    0.802417\n",
            "2       Longitude    0.122982\n",
            "5          town_n    0.034555\n",
            "4          date_n    0.024806\n",
            "8   residential_n    0.013217\n",
            "3        Latitude    0.001478\n",
            "7      property_n    0.000521\n",
            "6       address_n    0.000024\n",
            "0       List Year    0.000000\n"
          ]
        }
      ]
    },
    {
      "cell_type": "code",
      "source": [
        "from sklearn.metrics import confusion_matrix, classification_report\n",
        "import seaborn as sns\n",
        "\n",
        "# make confusion matrix\n",
        "conf_matrix = confusion_matrix(ylog_test, y_pred_bdt)\n",
        "\n",
        "plt.figure(figsize=(8, 6))\n",
        "sns.heatmap(conf_matrix, annot=True, cmap='Blues', fmt='d', annot_kws={'size': 16}, cbar=False)\n",
        "plt.xlabel('Predicted labels')\n",
        "plt.ylabel('True labels')\n",
        "plt.title('Confusion Matrix')\n",
        "plt.show()\n",
        "\n",
        "# classification report\n",
        "report = classification_report(ylog_test, y_pred_bdt)\n",
        "\n",
        "print('Classification Report:')\n",
        "print(report)"
      ],
      "metadata": {
        "colab": {
          "base_uri": "https://localhost:8080/",
          "height": 734
        },
        "id": "L7GTuWCNCJS8",
        "outputId": "f36a06f7-66d1-4f1c-86cc-863dcb95c865"
      },
      "execution_count": 121,
      "outputs": [
        {
          "output_type": "display_data",
          "data": {
            "text/plain": [
              "<Figure size 800x600 with 1 Axes>"
            ],
            "image/png": "[encoded data removed]"
          },
          "metadata": {}
        },
        {
          "output_type": "stream",
          "name": "stdout",
          "text": [
            "Classification Report:\n",
            "              precision    recall  f1-score   support\n",
            "\n",
            "           0       0.80      0.99      0.88    152029\n",
            "           1       0.90      0.35      0.51     57062\n",
            "\n",
            "    accuracy                           0.81    209091\n",
            "   macro avg       0.85      0.67      0.70    209091\n",
            "weighted avg       0.83      0.81      0.78    209091\n",
            "\n"
          ]
        }
      ]
    },
    {
      "cell_type": "code",
      "source": [
        "from sklearn.metrics import roc_curve, roc_auc_score\n",
        "\n",
        "# probabilities for positive class\n",
        "y_prob_bdt = mymodelbest_decisiontree.predict_proba(xlog_test)[:, 1]\n",
        "\n",
        "# ROC curve\n",
        "fpr, tpr, thresholds = roc_curve(ylog_test, y_prob_bdt)\n",
        "\n",
        "# AUC score\n",
        "auc = roc_auc_score(ylog_test, y_prob_bdt)\n",
        "\n",
        "# Plot ROC\n",
        "plt.figure(figsize=(10, 6))\n",
        "plt.plot(fpr, tpr, color='pink', lw=2, label=f'ROC Curve (AUC = {auc:.5f})')\n",
        "plt.plot([0, 1], [0, 1], color='blue', linestyle='--', lw=2, label='Random Guessing')\n",
        "plt.xlim([0.0, 1.0])\n",
        "plt.ylim([0.0, 1.0])\n",
        "plt.xlabel('False Positive Rate')\n",
        "plt.ylabel('True Positive Rate')\n",
        "plt.title('Receiver Operating Characteristic Curve')\n",
        "plt.legend(loc='lower right')\n",
        "plt.grid(True)\n",
        "plt.show()"
      ],
      "metadata": {
        "colab": {
          "base_uri": "https://localhost:8080/",
          "height": 564
        },
        "id": "lzwKVXxBCcVw",
        "outputId": "1b05b35b-751c-4974-a3c9-493be636c3d0"
      },
      "execution_count": 123,
      "outputs": [
        {
          "output_type": "display_data",
          "data": {
            "text/plain": [
              "<Figure size 1000x600 with 1 Axes>"
            ],
            "image/png": "[encoded data removed]"
          },
          "metadata": {}
        }
      ]
    },
    {
      "cell_type": "code",
      "source": [
        "# Random forest classifier, with the amount of data, is computationally expensive."
      ],
      "metadata": {
        "id": "okNGYkmAZCny"
      },
      "execution_count": 78,
      "outputs": []
    },
    {
      "cell_type": "code",
      "source": [
        "# Simple Neural Network for Regression\n",
        "import numpy as np\n",
        "import tensorflow as tf\n",
        "from tensorflow import keras\n",
        "import pandas as pd\n",
        "from matplotlib import pyplot as plt\n",
        "from sklearn.model_selection import train_test_split\n",
        "\n",
        "%matplotlib inline\n",
        "\n",
        "mymodel_snn = keras.Sequential([\n",
        "    keras.layers.Dense(1, input_shape=(9,), activation='linear', kernel_initializer='ones', bias_initializer='zeros')\n",
        "])\n",
        "\n",
        "mymodel_snn.compile(optimizer='adam',\n",
        "              loss='mean_squared_error',\n",
        "              metrics=['mean_squared_error'])\n",
        "\n",
        "mymodel_snn.fit(x_train, y_train, epochs=5)"
      ],
      "metadata": {
        "colab": {
          "base_uri": "https://localhost:8080/"
        },
        "id": "TkxT6feC0KS4",
        "outputId": "4e960429-f5c8-48e5-eaba-4e5d268145ff"
      },
      "execution_count": 82,
      "outputs": [
        {
          "output_type": "stream",
          "name": "stdout",
          "text": [
            "Epoch 1/5\n",
            "26137/26137 [==============================] - 47s 2ms/step - loss: 33404062007296.0000 - mean_squared_error: 33404062007296.0000\n",
            "Epoch 2/5\n",
            "26137/26137 [==============================] - 54s 2ms/step - loss: 32786807259136.0000 - mean_squared_error: 32786807259136.0000\n",
            "Epoch 3/5\n",
            "26137/26137 [==============================] - 44s 2ms/step - loss: 32769619001344.0000 - mean_squared_error: 32769619001344.0000\n",
            "Epoch 4/5\n",
            "26137/26137 [==============================] - 44s 2ms/step - loss: 32749360513024.0000 - mean_squared_error: 32749360513024.0000\n",
            "Epoch 5/5\n",
            "26137/26137 [==============================] - 43s 2ms/step - loss: 32834915926016.0000 - mean_squared_error: 32834915926016.0000\n"
          ]
        },
        {
          "output_type": "execute_result",
          "data": {
            "text/plain": [
              "<keras.src.callbacks.History at 0x7eaf41b1a230>"
            ]
          },
          "metadata": {},
          "execution_count": 82
        }
      ]
    },
    {
      "cell_type": "code",
      "source": [
        "mymodel_snn.evaluate(x_test,y_test)\n",
        "mymodel_snn.predict(x_test)"
      ],
      "metadata": {
        "colab": {
          "base_uri": "https://localhost:8080/"
        },
        "id": "IFW8l2YT0p8Q",
        "outputId": "d00fc676-712a-4083-e0f5-bd824c61b07e"
      },
      "execution_count": 85,
      "outputs": [
        {
          "output_type": "stream",
          "name": "stdout",
          "text": [
            "6535/6535 [==============================] - 17s 3ms/step - loss: 4918952853504.0000 - mean_squared_error: 4918952853504.0000\n",
            "6535/6535 [==============================] - 10s 1ms/step\n"
          ]
        },
        {
          "output_type": "execute_result",
          "data": {
            "text/plain": [
              "array([[434149.34],\n",
              "       [299539.2 ],\n",
              "       [237939.22],\n",
              "       ...,\n",
              "       [192012.62],\n",
              "       [171645.98],\n",
              "       [295503.97]], dtype=float32)"
            ]
          },
          "metadata": {},
          "execution_count": 85
        }
      ]
    },
    {
      "cell_type": "code",
      "source": [
        "y_test"
      ],
      "metadata": {
        "colab": {
          "base_uri": "https://localhost:8080/"
        },
        "id": "SOQ9nhs50tvJ",
        "outputId": "772e25d8-d60c-4b7e-a543-ef98cdd73082"
      },
      "execution_count": 86,
      "outputs": [
        {
          "output_type": "execute_result",
          "data": {
            "text/plain": [
              "531040    385000.0\n",
              "928510    285000.0\n",
              "812288    175000.0\n",
              "849367    178000.0\n",
              "770807    190100.0\n",
              "            ...   \n",
              "590251    393000.0\n",
              "266386    185000.0\n",
              "907320    120000.0\n",
              "82620     239900.0\n",
              "892256    200000.0\n",
              "Name: Sale Amount, Length: 209091, dtype: float64"
            ]
          },
          "metadata": {},
          "execution_count": 86
        }
      ]
    },
    {
      "cell_type": "code",
      "source": [
        "# Evaluate the model\n",
        "loss, mse = mymodel_snn.evaluate(x_test, y_test)\n",
        "print(f'Test Mean Squared Error: {mse:.4f}')\n",
        "\n",
        "# Make predictions\n",
        "y_pred = mymodel_snn.predict(x_test)"
      ],
      "metadata": {
        "colab": {
          "base_uri": "https://localhost:8080/"
        },
        "id": "fNKdrfNC3koB",
        "outputId": "7e6aca9e-8197-452c-b1e8-24a105460b5d"
      },
      "execution_count": 88,
      "outputs": [
        {
          "output_type": "stream",
          "name": "stdout",
          "text": [
            "6535/6535 [==============================] - 17s 3ms/step - loss: 4918952853504.0000 - mean_squared_error: 4918952853504.0000\n",
            "Test Mean Squared Error: 4918952853504.0000\n",
            "6535/6535 [==============================] - 8s 1ms/step\n"
          ]
        }
      ]
    },
    {
      "cell_type": "code",
      "source": [
        "# mse\n",
        "mse = mean_squared_error(y_test, y_pred)\n",
        "print(f\"Mean Squared Error: {mse}\")\n",
        "\n",
        "# mae\n",
        "mae = mean_absolute_error(y_test, y_pred)\n",
        "print(\"Mean Absolute Error (MAE):\", mae)\n",
        "\n",
        "# r squared\n",
        "r_squared = r2_score(y_test, y_pred)\n",
        "print(\"R-squared:\", r_squared)"
      ],
      "metadata": {
        "colab": {
          "base_uri": "https://localhost:8080/"
        },
        "id": "6EKAmERK34qg",
        "outputId": "07bb00be-31d9-422e-dea9-7639bb7a37b9"
      },
      "execution_count": 89,
      "outputs": [
        {
          "output_type": "stream",
          "name": "stdout",
          "text": [
            "Mean Squared Error: 4918948691121.438\n",
            "Mean Absolute Error (MAE): 243197.1895702499\n",
            "R-squared: 0.1276720695977135\n"
          ]
        }
      ]
    },
    {
      "cell_type": "code",
      "source": [
        "# Simple Neural Network for Classification\n",
        "import numpy as np\n",
        "from keras.models import Sequential\n",
        "from keras.layers import Dense\n",
        "from keras.optimizers import Adam\n",
        "from sklearn.model_selection import train_test_split\n",
        "from sklearn.preprocessing import StandardScaler\n",
        "from sklearn.datasets import make_classification\n",
        "\n",
        "%matplotlib inline\n",
        "\n",
        "mymodel_snnc = Sequential([\n",
        "    Dense(1, input_shape=(9,), activation='sigmoid', kernel_initializer='ones', bias_initializer='zeros')\n",
        "])\n",
        "\n",
        "# Compile the model\n",
        "mymodel_snnc.compile(optimizer=Adam(),\n",
        "                loss='binary_crossentropy',\n",
        "                metrics=['accuracy'])\n",
        "\n",
        "# Train the model\n",
        "mymodel_snnc.fit(xlog_train, ylog_train, epochs=5)\n",
        "\n",
        "# Evaluate the model\n",
        "loss, accuracy = mymodel_snnc.evaluate(xlog_test, ylog_test)\n",
        "print(f'Test Accuracy: {accuracy:.4f}')\n",
        "\n",
        "# Make predictions\n",
        "y_pred_snnc = (mymodel_snnc.predict(xlog_test) > 0.5).astype(\"int32\")"
      ],
      "metadata": {
        "colab": {
          "base_uri": "https://localhost:8080/"
        },
        "id": "Yfg7iQqU4CUc",
        "outputId": "3e0266c1-a3fa-4174-a531-5a1b2f1cb81e"
      },
      "execution_count": 93,
      "outputs": [
        {
          "output_type": "stream",
          "name": "stdout",
          "text": [
            "Epoch 1/5\n",
            "26137/26137 [==============================] - 61s 2ms/step - loss: 0.6276 - accuracy: 0.7114\n",
            "Epoch 2/5\n",
            "26137/26137 [==============================] - 46s 2ms/step - loss: 0.5778 - accuracy: 0.7287\n",
            "Epoch 3/5\n",
            "26137/26137 [==============================] - 48s 2ms/step - loss: 0.5765 - accuracy: 0.7288\n",
            "Epoch 4/5\n",
            "26137/26137 [==============================] - 46s 2ms/step - loss: 0.5754 - accuracy: 0.7288\n",
            "Epoch 5/5\n",
            "26137/26137 [==============================] - 44s 2ms/step - loss: 0.5743 - accuracy: 0.7287\n",
            "6535/6535 [==============================] - 10s 1ms/step - loss: 0.5748 - accuracy: 0.7273\n",
            "Test Accuracy: 0.7273\n",
            "6535/6535 [==============================] - 9s 1ms/step\n"
          ]
        }
      ]
    },
    {
      "cell_type": "code",
      "source": [
        "mymodel_snnc.evaluate(xlog_test,ylog_test)\n",
        "mymodel_snnc.predict(xlog_test)"
      ],
      "metadata": {
        "colab": {
          "base_uri": "https://localhost:8080/"
        },
        "id": "5BzsNoVc6JJk",
        "outputId": "17b30b9b-0b43-4ceb-e26f-6ef69efd25f8"
      },
      "execution_count": 94,
      "outputs": [
        {
          "output_type": "stream",
          "name": "stdout",
          "text": [
            "6535/6535 [==============================] - 11s 2ms/step - loss: 0.5748 - accuracy: 0.7273\n",
            "6535/6535 [==============================] - 9s 1ms/step\n"
          ]
        },
        {
          "output_type": "execute_result",
          "data": {
            "text/plain": [
              "array([[0.19664843],\n",
              "       [0.36121076],\n",
              "       [0.30434108],\n",
              "       ...,\n",
              "       [0.3514047 ],\n",
              "       [0.22251445],\n",
              "       [0.3237654 ]], dtype=float32)"
            ]
          },
          "metadata": {},
          "execution_count": 94
        }
      ]
    },
    {
      "cell_type": "code",
      "source": [
        "ylog_test"
      ],
      "metadata": {
        "colab": {
          "base_uri": "https://localhost:8080/"
        },
        "id": "oN1yMK-26b7m",
        "outputId": "35b8e033-8804-49fc-85e8-9d75de6ad96a"
      },
      "execution_count": 95,
      "outputs": [
        {
          "output_type": "execute_result",
          "data": {
            "text/plain": [
              "531040    1\n",
              "928510    0\n",
              "812288    0\n",
              "849367    0\n",
              "770807    0\n",
              "         ..\n",
              "590251    1\n",
              "266386    0\n",
              "907320    0\n",
              "82620     0\n",
              "892256    0\n",
              "Name: Affordable, Length: 209091, dtype: int64"
            ]
          },
          "metadata": {},
          "execution_count": 95
        }
      ]
    },
    {
      "cell_type": "code",
      "source": [
        "accuracy = accuracy_score(ylog_test, y_pred_snnc)\n",
        "precision = precision_score(ylog_test, y_pred_snnc)\n",
        "recall = recall_score(ylog_test, y_pred_snnc)\n",
        "f1 = f1_score(ylog_test, y_pred_snnc)\n",
        "\n",
        "print(f'Accuracy: {accuracy}')\n",
        "print(f'Precision: {precision}')\n",
        "print(f'Recall: {recall}')\n",
        "print(f'F1 Score: {f1}')"
      ],
      "metadata": {
        "colab": {
          "base_uri": "https://localhost:8080/"
        },
        "id": "OEWM2CT-6jqS",
        "outputId": "ae7926b7-7c42-4ae1-fdba-ca7b9976c4e3"
      },
      "execution_count": 96,
      "outputs": [
        {
          "output_type": "stream",
          "name": "stdout",
          "text": [
            "Accuracy: 0.7273053359542018\n",
            "Precision: 0.5658682634730539\n",
            "Recall: 0.003312186744243104\n",
            "F1 Score: 0.0065858247961530425\n"
          ]
        }
      ]
    },
    {
      "cell_type": "code",
      "source": [
        "# Gaussian Naive Bayes\n",
        "import numpy as np\n",
        "from keras.models import Sequential\n",
        "from keras.layers import Dense\n",
        "from keras.optimizers import Adam\n",
        "from sklearn.model_selection import train_test_split\n",
        "from sklearn.preprocessing import StandardScaler\n",
        "from sklearn.datasets import make_classification\n",
        "\n",
        "from sklearn.naive_bayes import GaussianNB\n",
        "mymodel_gnb=GaussianNB()"
      ],
      "metadata": {
        "id": "rr_cn-_Y7MFI"
      },
      "execution_count": 98,
      "outputs": []
    },
    {
      "cell_type": "code",
      "source": [
        "mymodel_gnb.fit(xlog_train,ylog_train)"
      ],
      "metadata": {
        "colab": {
          "base_uri": "https://localhost:8080/",
          "height": 74
        },
        "id": "OR2OROTu7piC",
        "outputId": "2c94050d-a966-4c90-8fd2-77b8c0bc37a4"
      },
      "execution_count": 99,
      "outputs": [
        {
          "output_type": "execute_result",
          "data": {
            "text/plain": [
              "GaussianNB()"
            ],
            "text/html": [
              "<style>#sk-container-id-5 {color: black;background-color: white;}#sk-container-id-5 pre{padding: 0;}#sk-container-id-5 div.sk-toggleable {background-color: white;}#sk-container-id-5 label.sk-toggleable__label {cursor: pointer;display: block;width: 100%;margin-bottom: 0;padding: 0.3em;box-sizing: border-box;text-align: center;}#sk-container-id-5 label.sk-toggleable__label-arrow:before {content: \"▸\";float: left;margin-right: 0.25em;color: #696969;}#sk-container-id-5 label.sk-toggleable__label-arrow:hover:before {color: black;}#sk-container-id-5 div.sk-estimator:hover label.sk-toggleable__label-arrow:before {color: black;}#sk-container-id-5 div.sk-toggleable__content {max-height: 0;max-width: 0;overflow: hidden;text-align: left;background-color: #f0f8ff;}#sk-container-id-5 div.sk-toggleable__content pre {margin: 0.2em;color: black;border-radius: 0.25em;background-color: #f0f8ff;}#sk-container-id-5 input.sk-toggleable__control:checked~div.sk-toggleable__content {max-height: 200px;max-width: 100%;overflow: auto;}#sk-container-id-5 input.sk-toggleable__control:checked~label.sk-toggleable__label-arrow:before {content: \"▾\";}#sk-container-id-5 div.sk-estimator input.sk-toggleable__control:checked~label.sk-toggleable__label {background-color: #d4ebff;}#sk-container-id-5 div.sk-label input.sk-toggleable__control:checked~label.sk-toggleable__label {background-color: #d4ebff;}#sk-container-id-5 input.sk-hidden--visually {border: 0;clip: rect(1px 1px 1px 1px);clip: rect(1px, 1px, 1px, 1px);height: 1px;margin: -1px;overflow: hidden;padding: 0;position: absolute;width: 1px;}#sk-container-id-5 div.sk-estimator {font-family: monospace;background-color: #f0f8ff;border: 1px dotted black;border-radius: 0.25em;box-sizing: border-box;margin-bottom: 0.5em;}#sk-container-id-5 div.sk-estimator:hover {background-color: #d4ebff;}#sk-container-id-5 div.sk-parallel-item::after {content: \"\";width: 100%;border-bottom: 1px solid gray;flex-grow: 1;}#sk-container-id-5 div.sk-label:hover label.sk-toggleable__label {background-color: #d4ebff;}#sk-container-id-5 div.sk-serial::before {content: \"\";position: absolute;border-left: 1px solid gray;box-sizing: border-box;top: 0;bottom: 0;left: 50%;z-index: 0;}#sk-container-id-5 div.sk-serial {display: flex;flex-direction: column;align-items: center;background-color: white;padding-right: 0.2em;padding-left: 0.2em;position: relative;}#sk-container-id-5 div.sk-item {position: relative;z-index: 1;}#sk-container-id-5 div.sk-parallel {display: flex;align-items: stretch;justify-content: center;background-color: white;position: relative;}#sk-container-id-5 div.sk-item::before, #sk-container-id-5 div.sk-parallel-item::before {content: \"\";position: absolute;border-left: 1px solid gray;box-sizing: border-box;top: 0;bottom: 0;left: 50%;z-index: -1;}#sk-container-id-5 div.sk-parallel-item {display: flex;flex-direction: column;z-index: 1;position: relative;background-color: white;}#sk-container-id-5 div.sk-parallel-item:first-child::after {align-self: flex-end;width: 50%;}#sk-container-id-5 div.sk-parallel-item:last-child::after {align-self: flex-start;width: 50%;}#sk-container-id-5 div.sk-parallel-item:only-child::after {width: 0;}#sk-container-id-5 div.sk-dashed-wrapped {border: 1px dashed gray;margin: 0 0.4em 0.5em 0.4em;box-sizing: border-box;padding-bottom: 0.4em;background-color: white;}#sk-container-id-5 div.sk-label label {font-family: monospace;font-weight: bold;display: inline-block;line-height: 1.2em;}#sk-container-id-5 div.sk-label-container {text-align: center;}#sk-container-id-5 div.sk-container {/* jupyter's `normalize.less` sets `[hidden] { display: none; }` but bootstrap.min.css set `[hidden] { display: none !important; }` so we also need the `!important` here to be able to override the default hidden behavior on the sphinx rendered scikit-learn.org. See: https://github.com/scikit-learn/scikit-learn/issues/21755 */display: inline-block !important;position: relative;}#sk-container-id-5 div.sk-text-repr-fallback {display: none;}</style><div id=\"sk-container-id-5\" class=\"sk-top-container\"><div class=\"sk-text-repr-fallback\"><pre>GaussianNB()</pre><b>In a Jupyter environment, please rerun this cell to show the HTML representation or trust the notebook. <br />On GitHub, the HTML representation is unable to render, please try loading this page with nbviewer.org.</b></div><div class=\"sk-container\" hidden><div class=\"sk-item\"><div class=\"sk-estimator sk-toggleable\"><input class=\"sk-toggleable__control sk-hidden--visually\" id=\"sk-estimator-id-5\" type=\"checkbox\" checked><label for=\"sk-estimator-id-5\" class=\"sk-toggleable__label sk-toggleable__label-arrow\">GaussianNB</label><div class=\"sk-toggleable__content\"><pre>GaussianNB()</pre></div></div></div></div></div>"
            ]
          },
          "metadata": {},
          "execution_count": 99
        }
      ]
    },
    {
      "cell_type": "code",
      "source": [
        "mymodel_gnb.score(xlog_test,ylog_test)"
      ],
      "metadata": {
        "colab": {
          "base_uri": "https://localhost:8080/"
        },
        "id": "dEirVrcp7tGY",
        "outputId": "94c2c775-17ac-4a5e-dd9f-9eae0b76af7f"
      },
      "execution_count": 100,
      "outputs": [
        {
          "output_type": "execute_result",
          "data": {
            "text/plain": [
              "0.7325422901990043"
            ]
          },
          "metadata": {},
          "execution_count": 100
        }
      ]
    },
    {
      "cell_type": "code",
      "source": [
        "mymodel_gnb.predict_proba(xlog_test[:10])"
      ],
      "metadata": {
        "colab": {
          "base_uri": "https://localhost:8080/"
        },
        "id": "IClY2hF_7u2f",
        "outputId": "9bbb1cd4-046d-48b0-b443-a06280794ef3"
      },
      "execution_count": 101,
      "outputs": [
        {
          "output_type": "execute_result",
          "data": {
            "text/plain": [
              "array([[0.96713809, 0.03286191],\n",
              "       [0.88768157, 0.11231843],\n",
              "       [0.76944431, 0.23055569],\n",
              "       [0.90134419, 0.09865581],\n",
              "       [0.91221138, 0.08778862],\n",
              "       [0.90950132, 0.09049868],\n",
              "       [0.96008716, 0.03991284],\n",
              "       [0.86275174, 0.13724826],\n",
              "       [0.97105102, 0.02894898],\n",
              "       [0.88909112, 0.11090888]])"
            ]
          },
          "metadata": {},
          "execution_count": 101
        }
      ]
    },
    {
      "cell_type": "code",
      "source": [
        "from sklearn.model_selection import cross_val_score\n",
        "cross_val_score(mymodel_gnb,xlog_train,ylog_train,cv=4)"
      ],
      "metadata": {
        "colab": {
          "base_uri": "https://localhost:8080/"
        },
        "id": "PvOeabU67xty",
        "outputId": "7172a0d1-9076-4ae0-db3b-6f7dc44d0218"
      },
      "execution_count": 102,
      "outputs": [
        {
          "output_type": "execute_result",
          "data": {
            "text/plain": [
              "array([0.73889837, 0.73154751, 0.7300362 , 0.7321297 ])"
            ]
          },
          "metadata": {},
          "execution_count": 102
        }
      ]
    },
    {
      "cell_type": "code",
      "source": [
        "# Make predictions\n",
        "y_pred_gnb = mymodel_gnb.predict(xlog_test)"
      ],
      "metadata": {
        "id": "x3bwR4HU9Hg3"
      },
      "execution_count": 104,
      "outputs": []
    },
    {
      "cell_type": "code",
      "source": [
        "from sklearn.metrics import accuracy_score, precision_score, recall_score, f1_score, classification_report\n",
        "# Calculate evaluation metrics\n",
        "accuracy = accuracy_score(ylog_test, y_pred_gnb)\n",
        "precision = precision_score(ylog_test, y_pred_gnb, average='weighted')\n",
        "recall = recall_score(ylog_test, y_pred_gnb, average='weighted')\n",
        "f1 = f1_score(ylog_test, y_pred_gnb, average='weighted')\n",
        "\n",
        "# Print evaluation metrics\n",
        "print(f'Accuracy: {accuracy:.4f}')\n",
        "print(f'Precision: {precision:.4f}')\n",
        "print(f'Recall: {recall:.4f}')\n",
        "print(f'F1 Score: {f1:.4f}')\n",
        "\n",
        "# Print classification report\n",
        "print('Classification Report:')\n",
        "print(classification_report(ylog_test, y_pred_gnb))"
      ],
      "metadata": {
        "colab": {
          "base_uri": "https://localhost:8080/"
        },
        "id": "bv8JHcfI8pjf",
        "outputId": "e635ec51-8cfe-47b3-8ad2-84150b43e487"
      },
      "execution_count": 105,
      "outputs": [
        {
          "output_type": "stream",
          "name": "stdout",
          "text": [
            "Accuracy: 0.7325\n",
            "Precision: 0.6912\n",
            "Recall: 0.7325\n",
            "F1 Score: 0.6770\n",
            "Classification Report:\n",
            "              precision    recall  f1-score   support\n",
            "\n",
            "           0       0.75      0.95      0.84    152029\n",
            "           1       0.53      0.16      0.25     57062\n",
            "\n",
            "    accuracy                           0.73    209091\n",
            "   macro avg       0.64      0.55      0.54    209091\n",
            "weighted avg       0.69      0.73      0.68    209091\n",
            "\n"
          ]
        }
      ]
    },
    {
      "cell_type": "code",
      "source": [
        "from sklearn.metrics import confusion_matrix, classification_report\n",
        "import seaborn as sns\n",
        "\n",
        "# make confusion matrix\n",
        "conf_matrix = confusion_matrix(ylog_test, y_pred_gnb)\n",
        "\n",
        "plt.figure(figsize=(8, 6))\n",
        "sns.heatmap(conf_matrix, annot=True, cmap='Blues', fmt='d', annot_kws={'size': 16}, cbar=False)\n",
        "plt.xlabel('Predicted labels')\n",
        "plt.ylabel('True labels')\n",
        "plt.title('Confusion Matrix')\n",
        "plt.show()\n",
        "\n",
        "# classification report\n",
        "report = classification_report(ylog_test, y_pred_gnb)\n",
        "\n",
        "print('Classification Report:')\n",
        "print(report)"
      ],
      "metadata": {
        "colab": {
          "base_uri": "https://localhost:8080/",
          "height": 734
        },
        "id": "zhlHzDBx8rdU",
        "outputId": "ed28d9e2-5961-4aa0-c20c-b184113f78e2"
      },
      "execution_count": 111,
      "outputs": [
        {
          "output_type": "display_data",
          "data": {
            "text/plain": [
              "<Figure size 800x600 with 1 Axes>"
            ],
            "image/png": "[encoded data removed]"
          },
          "metadata": {}
        },
        {
          "output_type": "stream",
          "name": "stdout",
          "text": [
            "Classification Report:\n",
            "              precision    recall  f1-score   support\n",
            "\n",
            "           0       0.75      0.95      0.84    152029\n",
            "           1       0.53      0.16      0.25     57062\n",
            "\n",
            "    accuracy                           0.73    209091\n",
            "   macro avg       0.64      0.55      0.54    209091\n",
            "weighted avg       0.69      0.73      0.68    209091\n",
            "\n"
          ]
        }
      ]
    }
  ],
  "metadata": {
    "colab": {
      "provenance": []
    },
    "kernelspec": {
      "display_name": "Python 3",
      "name": "python3"
    },
    "language_info": {
      "name": "python"
    }
  },
  "nbformat": 4,
  "nbformat_minor": 0
}